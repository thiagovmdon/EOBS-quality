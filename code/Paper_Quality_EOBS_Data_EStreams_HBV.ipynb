{
 "cells": [
  {
   "cell_type": "markdown",
   "id": "20d673c9",
   "metadata": {},
   "source": [
    "# Part A: Data\n",
    "# Introduction\n",
    "This notebook contains all code that has been used to prepare the EStreams and other data for the analysis performed in the \"How landscape data quality affects our perception of dominant processes in large-sample hydrology studies?\" paper by do Nascimento et al. (in review). To be able to run this notebook, please ensure that you have downloaded the acompanying data of the paper. All links can be found in the data section of the paper.\n",
    "\n",
    "Author: Thiago Nascimento (thiago.nascimento@eawag.ch)"
   ]
  },
  {
   "cell_type": "markdown",
   "id": "56f627dd",
   "metadata": {},
   "source": [
    "# Import modules"
   ]
  },
  {
   "cell_type": "code",
   "execution_count": 1,
   "id": "45ffa447",
   "metadata": {},
   "outputs": [],
   "source": [
    "import pandas as pd\n",
    "import numpy as np\n",
    "import os\n",
    "import geopandas as gpd\n",
    "import matplotlib.pyplot as plt\n",
    "import matplotlib as mpl\n",
    "import warnings\n",
    "from sklearn.preprocessing import LabelEncoder\n",
    "warnings.simplefilter(action='ignore', category=Warning)"
   ]
  },
  {
   "cell_type": "markdown",
   "id": "dab82684",
   "metadata": {},
   "source": [
    "\n",
    "# Configurations"
   ]
  },
  {
   "cell_type": "code",
   "execution_count": 2,
   "id": "436b7673",
   "metadata": {},
   "outputs": [],
   "source": [
    "# Only editable variables:\n",
    "# Relative path to your local directory\n",
    "PATH = \"..\"\n",
    "\n",
    "# Set the directory:\n",
    "os.chdir(PATH)"
   ]
  },
  {
   "cell_type": "markdown",
   "id": "004092f5",
   "metadata": {},
   "source": [
    "# Import data"
   ]
  },
  {
   "cell_type": "markdown",
   "id": "63cbadcf",
   "metadata": {},
   "source": [
    "### - Network information"
   ]
  },
  {
   "cell_type": "code",
   "execution_count": 3,
   "id": "c25b0a9f",
   "metadata": {},
   "outputs": [
    {
     "data": {
      "text/html": [
       "<div>\n",
       "<style scoped>\n",
       "    .dataframe tbody tr th:only-of-type {\n",
       "        vertical-align: middle;\n",
       "    }\n",
       "\n",
       "    .dataframe tbody tr th {\n",
       "        vertical-align: top;\n",
       "    }\n",
       "\n",
       "    .dataframe thead th {\n",
       "        text-align: right;\n",
       "    }\n",
       "</style>\n",
       "<table border=\"1\" class=\"dataframe\">\n",
       "  <thead>\n",
       "    <tr style=\"text-align: right;\">\n",
       "      <th></th>\n",
       "      <th>gauge_id</th>\n",
       "      <th>gauge_name</th>\n",
       "      <th>gauge_country</th>\n",
       "      <th>gauge_provider</th>\n",
       "      <th>river</th>\n",
       "      <th>lon_snap</th>\n",
       "      <th>lat_snap</th>\n",
       "      <th>lon</th>\n",
       "      <th>lat</th>\n",
       "      <th>elevation</th>\n",
       "      <th>...</th>\n",
       "      <th>num_continuous_days</th>\n",
       "      <th>num_days_gaps</th>\n",
       "      <th>num_days_reliable</th>\n",
       "      <th>num_days_noflag</th>\n",
       "      <th>num_days_suspect</th>\n",
       "      <th>gauge_flag</th>\n",
       "      <th>duplicated_suspect</th>\n",
       "      <th>watershed_group</th>\n",
       "      <th>gauges_upstream</th>\n",
       "      <th>nested_catchments</th>\n",
       "    </tr>\n",
       "    <tr>\n",
       "      <th>basin_id</th>\n",
       "      <th></th>\n",
       "      <th></th>\n",
       "      <th></th>\n",
       "      <th></th>\n",
       "      <th></th>\n",
       "      <th></th>\n",
       "      <th></th>\n",
       "      <th></th>\n",
       "      <th></th>\n",
       "      <th></th>\n",
       "      <th></th>\n",
       "      <th></th>\n",
       "      <th></th>\n",
       "      <th></th>\n",
       "      <th></th>\n",
       "      <th></th>\n",
       "      <th></th>\n",
       "      <th></th>\n",
       "      <th></th>\n",
       "      <th></th>\n",
       "      <th></th>\n",
       "    </tr>\n",
       "  </thead>\n",
       "  <tbody>\n",
       "    <tr>\n",
       "      <th>AT000001</th>\n",
       "      <td>200014</td>\n",
       "      <td>Bangs</td>\n",
       "      <td>AT</td>\n",
       "      <td>AT_EHYD</td>\n",
       "      <td>Rhein</td>\n",
       "      <td>9.534835</td>\n",
       "      <td>47.273748</td>\n",
       "      <td>9.534835</td>\n",
       "      <td>47.273748</td>\n",
       "      <td>420</td>\n",
       "      <td>...</td>\n",
       "      <td>9497</td>\n",
       "      <td>0.0</td>\n",
       "      <td>0.0</td>\n",
       "      <td>9497.0</td>\n",
       "      <td>0.0</td>\n",
       "      <td>B</td>\n",
       "      <td>['CH000197']</td>\n",
       "      <td>1</td>\n",
       "      <td>16</td>\n",
       "      <td>['AT000001', 'CH000010', 'CH000046', 'CH000048...</td>\n",
       "    </tr>\n",
       "    <tr>\n",
       "      <th>AT000002</th>\n",
       "      <td>200048</td>\n",
       "      <td>Schruns (Vonbunweg)</td>\n",
       "      <td>AT</td>\n",
       "      <td>AT_EHYD</td>\n",
       "      <td>Litz</td>\n",
       "      <td>9.913677</td>\n",
       "      <td>47.080301</td>\n",
       "      <td>9.913677</td>\n",
       "      <td>47.080301</td>\n",
       "      <td>673</td>\n",
       "      <td>...</td>\n",
       "      <td>23103</td>\n",
       "      <td>0.0</td>\n",
       "      <td>0.0</td>\n",
       "      <td>23103.0</td>\n",
       "      <td>0.0</td>\n",
       "      <td>B</td>\n",
       "      <td>['CH000221']</td>\n",
       "      <td>1</td>\n",
       "      <td>1</td>\n",
       "      <td>['AT000002']</td>\n",
       "    </tr>\n",
       "    <tr>\n",
       "      <th>AT000003</th>\n",
       "      <td>231662</td>\n",
       "      <td>Loruens-Aeule</td>\n",
       "      <td>AT</td>\n",
       "      <td>AT_EHYD</td>\n",
       "      <td>Ill</td>\n",
       "      <td>9.847765</td>\n",
       "      <td>47.132821</td>\n",
       "      <td>9.847765</td>\n",
       "      <td>47.132821</td>\n",
       "      <td>579</td>\n",
       "      <td>...</td>\n",
       "      <td>13513</td>\n",
       "      <td>0.0</td>\n",
       "      <td>0.0</td>\n",
       "      <td>13513.0</td>\n",
       "      <td>0.0</td>\n",
       "      <td>B</td>\n",
       "      <td>['CH000215']</td>\n",
       "      <td>1</td>\n",
       "      <td>2</td>\n",
       "      <td>['AT000002', 'AT000003', 'CH000221']</td>\n",
       "    </tr>\n",
       "    <tr>\n",
       "      <th>AT000004</th>\n",
       "      <td>200592</td>\n",
       "      <td>Kloesterle (OEBB)</td>\n",
       "      <td>AT</td>\n",
       "      <td>AT_EHYD</td>\n",
       "      <td>Alfenz</td>\n",
       "      <td>10.061843</td>\n",
       "      <td>47.128994</td>\n",
       "      <td>10.061843</td>\n",
       "      <td>47.128994</td>\n",
       "      <td>1014</td>\n",
       "      <td>...</td>\n",
       "      <td>8765</td>\n",
       "      <td>0.0</td>\n",
       "      <td>0.0</td>\n",
       "      <td>8765.0</td>\n",
       "      <td>0.0</td>\n",
       "      <td>B</td>\n",
       "      <td>['CH000227']</td>\n",
       "      <td>1</td>\n",
       "      <td>1</td>\n",
       "      <td>['AT000004']</td>\n",
       "    </tr>\n",
       "    <tr>\n",
       "      <th>AT000005</th>\n",
       "      <td>200097</td>\n",
       "      <td>Buers (Bruecke L82)</td>\n",
       "      <td>AT</td>\n",
       "      <td>AT_EHYD</td>\n",
       "      <td>Alvier</td>\n",
       "      <td>9.802668</td>\n",
       "      <td>47.150770</td>\n",
       "      <td>9.802668</td>\n",
       "      <td>47.150770</td>\n",
       "      <td>564</td>\n",
       "      <td>...</td>\n",
       "      <td>10957</td>\n",
       "      <td>0.0</td>\n",
       "      <td>0.0</td>\n",
       "      <td>10957.0</td>\n",
       "      <td>0.0</td>\n",
       "      <td>B</td>\n",
       "      <td>['CH000214']</td>\n",
       "      <td>1</td>\n",
       "      <td>3</td>\n",
       "      <td>['AT000005', 'CH000214']</td>\n",
       "    </tr>\n",
       "    <tr>\n",
       "      <th>...</th>\n",
       "      <td>...</td>\n",
       "      <td>...</td>\n",
       "      <td>...</td>\n",
       "      <td>...</td>\n",
       "      <td>...</td>\n",
       "      <td>...</td>\n",
       "      <td>...</td>\n",
       "      <td>...</td>\n",
       "      <td>...</td>\n",
       "      <td>...</td>\n",
       "      <td>...</td>\n",
       "      <td>...</td>\n",
       "      <td>...</td>\n",
       "      <td>...</td>\n",
       "      <td>...</td>\n",
       "      <td>...</td>\n",
       "      <td>...</td>\n",
       "      <td>...</td>\n",
       "      <td>...</td>\n",
       "      <td>...</td>\n",
       "      <td>...</td>\n",
       "    </tr>\n",
       "    <tr>\n",
       "      <th>UAGR0017</th>\n",
       "      <td>6682300</td>\n",
       "      <td>BASHTANOVKA</td>\n",
       "      <td>UA</td>\n",
       "      <td>UA_GRDC</td>\n",
       "      <td>KACHA</td>\n",
       "      <td>33.894739</td>\n",
       "      <td>44.691884</td>\n",
       "      <td>33.900000</td>\n",
       "      <td>44.683333</td>\n",
       "      <td>NaN</td>\n",
       "      <td>...</td>\n",
       "      <td>3652</td>\n",
       "      <td>0.0</td>\n",
       "      <td>0.0</td>\n",
       "      <td>3652.0</td>\n",
       "      <td>0.0</td>\n",
       "      <td>B</td>\n",
       "      <td>NaN</td>\n",
       "      <td>1988</td>\n",
       "      <td>1</td>\n",
       "      <td>['UAGR0017']</td>\n",
       "    </tr>\n",
       "    <tr>\n",
       "      <th>UAGR0018</th>\n",
       "      <td>6682500</td>\n",
       "      <td>YALTA</td>\n",
       "      <td>UA</td>\n",
       "      <td>UA_GRDC</td>\n",
       "      <td>DERE-KIOY</td>\n",
       "      <td>34.166667</td>\n",
       "      <td>44.500000</td>\n",
       "      <td>34.166667</td>\n",
       "      <td>44.500000</td>\n",
       "      <td>16</td>\n",
       "      <td>...</td>\n",
       "      <td>3652</td>\n",
       "      <td>0.0</td>\n",
       "      <td>0.0</td>\n",
       "      <td>3652.0</td>\n",
       "      <td>0.0</td>\n",
       "      <td>B</td>\n",
       "      <td>NaN</td>\n",
       "      <td>1989</td>\n",
       "      <td>1</td>\n",
       "      <td>['UAGR0018']</td>\n",
       "    </tr>\n",
       "    <tr>\n",
       "      <th>UAGR0019</th>\n",
       "      <td>6683010</td>\n",
       "      <td>PIONERSKOE</td>\n",
       "      <td>UA</td>\n",
       "      <td>UA_GRDC</td>\n",
       "      <td>SALHYR</td>\n",
       "      <td>34.199841</td>\n",
       "      <td>44.887685</td>\n",
       "      <td>34.200000</td>\n",
       "      <td>44.883333</td>\n",
       "      <td>307</td>\n",
       "      <td>...</td>\n",
       "      <td>3652</td>\n",
       "      <td>0.0</td>\n",
       "      <td>0.0</td>\n",
       "      <td>3652.0</td>\n",
       "      <td>0.0</td>\n",
       "      <td>B</td>\n",
       "      <td>NaN</td>\n",
       "      <td>1990</td>\n",
       "      <td>1</td>\n",
       "      <td>['UAGR0019']</td>\n",
       "    </tr>\n",
       "    <tr>\n",
       "      <th>UAGR0020</th>\n",
       "      <td>6683200</td>\n",
       "      <td>TOKMAK</td>\n",
       "      <td>UA</td>\n",
       "      <td>UA_GRDC</td>\n",
       "      <td>TOKMAK</td>\n",
       "      <td>35.705833</td>\n",
       "      <td>47.251389</td>\n",
       "      <td>35.705833</td>\n",
       "      <td>47.251389</td>\n",
       "      <td>NaN</td>\n",
       "      <td>...</td>\n",
       "      <td>3652</td>\n",
       "      <td>0.0</td>\n",
       "      <td>0.0</td>\n",
       "      <td>3652.0</td>\n",
       "      <td>0.0</td>\n",
       "      <td>B</td>\n",
       "      <td>NaN</td>\n",
       "      <td>1991</td>\n",
       "      <td>1</td>\n",
       "      <td>['UAGR0020']</td>\n",
       "    </tr>\n",
       "    <tr>\n",
       "      <th>UAGR0021</th>\n",
       "      <td>6683300</td>\n",
       "      <td>NOVOSELOVKA</td>\n",
       "      <td>UA</td>\n",
       "      <td>UA_GRDC</td>\n",
       "      <td>KRYNKA</td>\n",
       "      <td>38.144722</td>\n",
       "      <td>48.153333</td>\n",
       "      <td>38.144722</td>\n",
       "      <td>48.153333</td>\n",
       "      <td>118</td>\n",
       "      <td>...</td>\n",
       "      <td>3652</td>\n",
       "      <td>0.0</td>\n",
       "      <td>0.0</td>\n",
       "      <td>3652.0</td>\n",
       "      <td>0.0</td>\n",
       "      <td>B</td>\n",
       "      <td>NaN</td>\n",
       "      <td>1992</td>\n",
       "      <td>1</td>\n",
       "      <td>['UAGR0021']</td>\n",
       "    </tr>\n",
       "  </tbody>\n",
       "</table>\n",
       "<p>17130 rows × 29 columns</p>\n",
       "</div>"
      ],
      "text/plain": [
       "         gauge_id           gauge_name gauge_country gauge_provider  \\\n",
       "basin_id                                                              \n",
       "AT000001   200014                Bangs            AT        AT_EHYD   \n",
       "AT000002   200048  Schruns (Vonbunweg)            AT        AT_EHYD   \n",
       "AT000003   231662        Loruens-Aeule            AT        AT_EHYD   \n",
       "AT000004   200592    Kloesterle (OEBB)            AT        AT_EHYD   \n",
       "AT000005   200097  Buers (Bruecke L82)            AT        AT_EHYD   \n",
       "...           ...                  ...           ...            ...   \n",
       "UAGR0017  6682300          BASHTANOVKA            UA        UA_GRDC   \n",
       "UAGR0018  6682500                YALTA            UA        UA_GRDC   \n",
       "UAGR0019  6683010           PIONERSKOE            UA        UA_GRDC   \n",
       "UAGR0020  6683200               TOKMAK            UA        UA_GRDC   \n",
       "UAGR0021  6683300          NOVOSELOVKA            UA        UA_GRDC   \n",
       "\n",
       "              river   lon_snap   lat_snap        lon        lat elevation  \\\n",
       "basin_id                                                                    \n",
       "AT000001      Rhein   9.534835  47.273748   9.534835  47.273748       420   \n",
       "AT000002       Litz   9.913677  47.080301   9.913677  47.080301       673   \n",
       "AT000003        Ill   9.847765  47.132821   9.847765  47.132821       579   \n",
       "AT000004     Alfenz  10.061843  47.128994  10.061843  47.128994      1014   \n",
       "AT000005     Alvier   9.802668  47.150770   9.802668  47.150770       564   \n",
       "...             ...        ...        ...        ...        ...       ...   \n",
       "UAGR0017      KACHA  33.894739  44.691884  33.900000  44.683333       NaN   \n",
       "UAGR0018  DERE-KIOY  34.166667  44.500000  34.166667  44.500000        16   \n",
       "UAGR0019     SALHYR  34.199841  44.887685  34.200000  44.883333       307   \n",
       "UAGR0020     TOKMAK  35.705833  47.251389  35.705833  47.251389       NaN   \n",
       "UAGR0021     KRYNKA  38.144722  48.153333  38.144722  48.153333       118   \n",
       "\n",
       "          ...  num_continuous_days  num_days_gaps  num_days_reliable  \\\n",
       "basin_id  ...                                                          \n",
       "AT000001  ...                 9497            0.0                0.0   \n",
       "AT000002  ...                23103            0.0                0.0   \n",
       "AT000003  ...                13513            0.0                0.0   \n",
       "AT000004  ...                 8765            0.0                0.0   \n",
       "AT000005  ...                10957            0.0                0.0   \n",
       "...       ...                  ...            ...                ...   \n",
       "UAGR0017  ...                 3652            0.0                0.0   \n",
       "UAGR0018  ...                 3652            0.0                0.0   \n",
       "UAGR0019  ...                 3652            0.0                0.0   \n",
       "UAGR0020  ...                 3652            0.0                0.0   \n",
       "UAGR0021  ...                 3652            0.0                0.0   \n",
       "\n",
       "          num_days_noflag num_days_suspect gauge_flag  duplicated_suspect  \\\n",
       "basin_id                                                                    \n",
       "AT000001           9497.0              0.0          B        ['CH000197']   \n",
       "AT000002          23103.0              0.0          B        ['CH000221']   \n",
       "AT000003          13513.0              0.0          B        ['CH000215']   \n",
       "AT000004           8765.0              0.0          B        ['CH000227']   \n",
       "AT000005          10957.0              0.0          B        ['CH000214']   \n",
       "...                   ...              ...        ...                 ...   \n",
       "UAGR0017           3652.0              0.0          B                 NaN   \n",
       "UAGR0018           3652.0              0.0          B                 NaN   \n",
       "UAGR0019           3652.0              0.0          B                 NaN   \n",
       "UAGR0020           3652.0              0.0          B                 NaN   \n",
       "UAGR0021           3652.0              0.0          B                 NaN   \n",
       "\n",
       "          watershed_group  gauges_upstream  \\\n",
       "basin_id                                     \n",
       "AT000001                1               16   \n",
       "AT000002                1                1   \n",
       "AT000003                1                2   \n",
       "AT000004                1                1   \n",
       "AT000005                1                3   \n",
       "...                   ...              ...   \n",
       "UAGR0017             1988                1   \n",
       "UAGR0018             1989                1   \n",
       "UAGR0019             1990                1   \n",
       "UAGR0020             1991                1   \n",
       "UAGR0021             1992                1   \n",
       "\n",
       "                                          nested_catchments  \n",
       "basin_id                                                     \n",
       "AT000001  ['AT000001', 'CH000010', 'CH000046', 'CH000048...  \n",
       "AT000002                                       ['AT000002']  \n",
       "AT000003               ['AT000002', 'AT000003', 'CH000221']  \n",
       "AT000004                                       ['AT000004']  \n",
       "AT000005                           ['AT000005', 'CH000214']  \n",
       "...                                                     ...  \n",
       "UAGR0017                                       ['UAGR0017']  \n",
       "UAGR0018                                       ['UAGR0018']  \n",
       "UAGR0019                                       ['UAGR0019']  \n",
       "UAGR0020                                       ['UAGR0020']  \n",
       "UAGR0021                                       ['UAGR0021']  \n",
       "\n",
       "[17130 rows x 29 columns]"
      ]
     },
     "execution_count": 3,
     "metadata": {},
     "output_type": "execute_result"
    }
   ],
   "source": [
    "network_estreams = pd.read_csv('data/EStreams/streamflow_gauges/estreams_gauging_stations.csv', encoding='utf-8')\n",
    "network_estreams.set_index(\"basin_id\", inplace = True)\n",
    "\n",
    "# Convert 'date_column' and 'time_column' to datetime\n",
    "network_estreams['start_date'] = pd.to_datetime(network_estreams['start_date'])\n",
    "network_estreams['end_date'] = pd.to_datetime(network_estreams['end_date'])\n",
    "\n",
    "network_estreams"
   ]
  },
  {
   "cell_type": "code",
   "execution_count": 59,
   "id": "910ce61a",
   "metadata": {},
   "outputs": [
    {
     "data": {
      "text/html": [
       "<div>\n",
       "<style scoped>\n",
       "    .dataframe tbody tr th:only-of-type {\n",
       "        vertical-align: middle;\n",
       "    }\n",
       "\n",
       "    .dataframe tbody tr th {\n",
       "        vertical-align: top;\n",
       "    }\n",
       "\n",
       "    .dataframe thead th {\n",
       "        text-align: right;\n",
       "    }\n",
       "</style>\n",
       "<table border=\"1\" class=\"dataframe\">\n",
       "  <thead>\n",
       "    <tr style=\"text-align: right;\">\n",
       "      <th></th>\n",
       "      <th>gauge_id</th>\n",
       "      <th>gauge_name</th>\n",
       "      <th>gauge_country</th>\n",
       "      <th>gauge_provider</th>\n",
       "      <th>river</th>\n",
       "      <th>lon_snap</th>\n",
       "      <th>lat_snap</th>\n",
       "      <th>lon</th>\n",
       "      <th>lat</th>\n",
       "      <th>elevation</th>\n",
       "      <th>...</th>\n",
       "      <th>num_continuous_days</th>\n",
       "      <th>num_days_gaps</th>\n",
       "      <th>num_days_reliable</th>\n",
       "      <th>num_days_noflag</th>\n",
       "      <th>num_days_suspect</th>\n",
       "      <th>gauge_flag</th>\n",
       "      <th>duplicated_suspect</th>\n",
       "      <th>watershed_group</th>\n",
       "      <th>gauges_upstream</th>\n",
       "      <th>nested_catchments</th>\n",
       "    </tr>\n",
       "    <tr>\n",
       "      <th>basin_id</th>\n",
       "      <th></th>\n",
       "      <th></th>\n",
       "      <th></th>\n",
       "      <th></th>\n",
       "      <th></th>\n",
       "      <th></th>\n",
       "      <th></th>\n",
       "      <th></th>\n",
       "      <th></th>\n",
       "      <th></th>\n",
       "      <th></th>\n",
       "      <th></th>\n",
       "      <th></th>\n",
       "      <th></th>\n",
       "      <th></th>\n",
       "      <th></th>\n",
       "      <th></th>\n",
       "      <th></th>\n",
       "      <th></th>\n",
       "      <th></th>\n",
       "      <th></th>\n",
       "    </tr>\n",
       "  </thead>\n",
       "  <tbody>\n",
       "    <tr>\n",
       "      <th>GB000598</th>\n",
       "      <td>77003</td>\n",
       "      <td>Liddel Water at Rowanburnfoot</td>\n",
       "      <td>GB</td>\n",
       "      <td>GB_NRFA</td>\n",
       "      <td>Liddel Water at Rowanburnfoot</td>\n",
       "      <td>-2.920000</td>\n",
       "      <td>55.070000</td>\n",
       "      <td>-2.920000</td>\n",
       "      <td>55.070000</td>\n",
       "      <td>27.1</td>\n",
       "      <td>...</td>\n",
       "      <td>17532</td>\n",
       "      <td>0.0</td>\n",
       "      <td>0.0</td>\n",
       "      <td>17532.0</td>\n",
       "      <td>0.0</td>\n",
       "      <td>B</td>\n",
       "      <td>NaN</td>\n",
       "      <td>1159</td>\n",
       "      <td>1</td>\n",
       "      <td>['GB000598']</td>\n",
       "    </tr>\n",
       "    <tr>\n",
       "      <th>DEBY0895</th>\n",
       "      <td>24374805</td>\n",
       "      <td>Würzburg</td>\n",
       "      <td>DE</td>\n",
       "      <td>DE_BY</td>\n",
       "      <td>Pleichach</td>\n",
       "      <td>9.948428</td>\n",
       "      <td>49.799355</td>\n",
       "      <td>9.948428</td>\n",
       "      <td>49.799355</td>\n",
       "      <td>176.10</td>\n",
       "      <td>...</td>\n",
       "      <td>14306</td>\n",
       "      <td>2367.0</td>\n",
       "      <td>0.0</td>\n",
       "      <td>16918.0</td>\n",
       "      <td>0.0</td>\n",
       "      <td>D</td>\n",
       "      <td>NaN</td>\n",
       "      <td>1</td>\n",
       "      <td>1</td>\n",
       "      <td>['DEBY0895']</td>\n",
       "    </tr>\n",
       "    <tr>\n",
       "      <th>SE000009</th>\n",
       "      <td>1160</td>\n",
       "      <td>KUKKASJÄRVI</td>\n",
       "      <td>SE</td>\n",
       "      <td>SE_SMHI</td>\n",
       "      <td>SANGISÄLVEN</td>\n",
       "      <td>23.323600</td>\n",
       "      <td>66.111700</td>\n",
       "      <td>23.323600</td>\n",
       "      <td>66.111700</td>\n",
       "      <td>NaN</td>\n",
       "      <td>...</td>\n",
       "      <td>16932</td>\n",
       "      <td>5589.0</td>\n",
       "      <td>30734.0</td>\n",
       "      <td>0.0</td>\n",
       "      <td>90.0</td>\n",
       "      <td>D</td>\n",
       "      <td>NaN</td>\n",
       "      <td>1885</td>\n",
       "      <td>1</td>\n",
       "      <td>['SE000009']</td>\n",
       "    </tr>\n",
       "    <tr>\n",
       "      <th>CH000149</th>\n",
       "      <td>2458</td>\n",
       "      <td>Valangin</td>\n",
       "      <td>CH</td>\n",
       "      <td>CH_CAMELS</td>\n",
       "      <td>Seyon</td>\n",
       "      <td>6.900000</td>\n",
       "      <td>47.010000</td>\n",
       "      <td>6.900000</td>\n",
       "      <td>47.010000</td>\n",
       "      <td>665</td>\n",
       "      <td>...</td>\n",
       "      <td>14610</td>\n",
       "      <td>0.0</td>\n",
       "      <td>0.0</td>\n",
       "      <td>14610.0</td>\n",
       "      <td>0.0</td>\n",
       "      <td>B</td>\n",
       "      <td>NaN</td>\n",
       "      <td>1</td>\n",
       "      <td>1</td>\n",
       "      <td>['CH000149']</td>\n",
       "    </tr>\n",
       "    <tr>\n",
       "      <th>GB000120</th>\n",
       "      <td>27025</td>\n",
       "      <td>Rother at Woodhouse Mill</td>\n",
       "      <td>GB</td>\n",
       "      <td>GB_NRFA</td>\n",
       "      <td>Rother at Woodhouse Mill</td>\n",
       "      <td>-1.350000</td>\n",
       "      <td>53.370000</td>\n",
       "      <td>-1.350000</td>\n",
       "      <td>53.370000</td>\n",
       "      <td>28.7</td>\n",
       "      <td>...</td>\n",
       "      <td>16710</td>\n",
       "      <td>944.0</td>\n",
       "      <td>0.0</td>\n",
       "      <td>20971.0</td>\n",
       "      <td>0.0</td>\n",
       "      <td>B</td>\n",
       "      <td>NaN</td>\n",
       "      <td>968</td>\n",
       "      <td>2</td>\n",
       "      <td>['GB000121', 'GB000120']</td>\n",
       "    </tr>\n",
       "    <tr>\n",
       "      <th>...</th>\n",
       "      <td>...</td>\n",
       "      <td>...</td>\n",
       "      <td>...</td>\n",
       "      <td>...</td>\n",
       "      <td>...</td>\n",
       "      <td>...</td>\n",
       "      <td>...</td>\n",
       "      <td>...</td>\n",
       "      <td>...</td>\n",
       "      <td>...</td>\n",
       "      <td>...</td>\n",
       "      <td>...</td>\n",
       "      <td>...</td>\n",
       "      <td>...</td>\n",
       "      <td>...</td>\n",
       "      <td>...</td>\n",
       "      <td>...</td>\n",
       "      <td>...</td>\n",
       "      <td>...</td>\n",
       "      <td>...</td>\n",
       "      <td>...</td>\n",
       "    </tr>\n",
       "    <tr>\n",
       "      <th>GB000434</th>\n",
       "      <td>53007</td>\n",
       "      <td>Frome (Somerset) at Tellisford</td>\n",
       "      <td>GB</td>\n",
       "      <td>GB_NRFA</td>\n",
       "      <td>Frome (Somerset) at Tellisford</td>\n",
       "      <td>-2.280000</td>\n",
       "      <td>51.310000</td>\n",
       "      <td>-2.280000</td>\n",
       "      <td>51.310000</td>\n",
       "      <td>35.1</td>\n",
       "      <td>...</td>\n",
       "      <td>21945</td>\n",
       "      <td>0.0</td>\n",
       "      <td>0.0</td>\n",
       "      <td>21945.0</td>\n",
       "      <td>0.0</td>\n",
       "      <td>B</td>\n",
       "      <td>NaN</td>\n",
       "      <td>1092</td>\n",
       "      <td>1</td>\n",
       "      <td>['GB000434']</td>\n",
       "    </tr>\n",
       "    <tr>\n",
       "      <th>AT000231</th>\n",
       "      <td>206292</td>\n",
       "      <td>Au (Mittlere Au)</td>\n",
       "      <td>AT</td>\n",
       "      <td>AT_EHYD</td>\n",
       "      <td>Laudach</td>\n",
       "      <td>13.915166</td>\n",
       "      <td>48.038339</td>\n",
       "      <td>13.915166</td>\n",
       "      <td>48.038340</td>\n",
       "      <td>368</td>\n",
       "      <td>...</td>\n",
       "      <td>15706</td>\n",
       "      <td>0.0</td>\n",
       "      <td>0.0</td>\n",
       "      <td>15706.0</td>\n",
       "      <td>0.0</td>\n",
       "      <td>B</td>\n",
       "      <td>NaN</td>\n",
       "      <td>2</td>\n",
       "      <td>1</td>\n",
       "      <td>['AT000231']</td>\n",
       "    </tr>\n",
       "    <tr>\n",
       "      <th>FR002418</th>\n",
       "      <td>V145431002</td>\n",
       "      <td>V1454320</td>\n",
       "      <td>FR</td>\n",
       "      <td>FR_EAUFRANCE</td>\n",
       "      <td>Le Furans à Pugieu [Pont du Martinet]</td>\n",
       "      <td>5.642407</td>\n",
       "      <td>45.820879</td>\n",
       "      <td>5.642407</td>\n",
       "      <td>45.820879</td>\n",
       "      <td>248</td>\n",
       "      <td>...</td>\n",
       "      <td>14518</td>\n",
       "      <td>0.0</td>\n",
       "      <td>14223.0</td>\n",
       "      <td>0.0</td>\n",
       "      <td>295.0</td>\n",
       "      <td>A</td>\n",
       "      <td>NaN</td>\n",
       "      <td>27</td>\n",
       "      <td>2</td>\n",
       "      <td>['FR002417', 'FR002418']</td>\n",
       "    </tr>\n",
       "    <tr>\n",
       "      <th>DK000292</th>\n",
       "      <td>8000001</td>\n",
       "      <td>MELHOLT KIRKE</td>\n",
       "      <td>DK</td>\n",
       "      <td>DK_ODA</td>\n",
       "      <td>GERÅ</td>\n",
       "      <td>10.351881</td>\n",
       "      <td>57.103811</td>\n",
       "      <td>10.351881</td>\n",
       "      <td>57.103811</td>\n",
       "      <td>NaN</td>\n",
       "      <td>...</td>\n",
       "      <td>13799</td>\n",
       "      <td>0.0</td>\n",
       "      <td>13799.0</td>\n",
       "      <td>0.0</td>\n",
       "      <td>0.0</td>\n",
       "      <td>A</td>\n",
       "      <td>NaN</td>\n",
       "      <td>282</td>\n",
       "      <td>1</td>\n",
       "      <td>['DK000292']</td>\n",
       "    </tr>\n",
       "    <tr>\n",
       "      <th>GB000210</th>\n",
       "      <td>33018</td>\n",
       "      <td>Tove at Cappenham Bridge</td>\n",
       "      <td>GB</td>\n",
       "      <td>GB_NRFA</td>\n",
       "      <td>Tove at Cappenham Bridge</td>\n",
       "      <td>-0.960000</td>\n",
       "      <td>52.130000</td>\n",
       "      <td>-0.960000</td>\n",
       "      <td>52.130000</td>\n",
       "      <td>80.8</td>\n",
       "      <td>...</td>\n",
       "      <td>21792</td>\n",
       "      <td>0.0</td>\n",
       "      <td>0.0</td>\n",
       "      <td>21792.0</td>\n",
       "      <td>0.0</td>\n",
       "      <td>B</td>\n",
       "      <td>NaN</td>\n",
       "      <td>994</td>\n",
       "      <td>1</td>\n",
       "      <td>['GB000210']</td>\n",
       "    </tr>\n",
       "  </tbody>\n",
       "</table>\n",
       "<p>4494 rows × 29 columns</p>\n",
       "</div>"
      ],
      "text/plain": [
       "            gauge_id                      gauge_name gauge_country  \\\n",
       "basin_id                                                             \n",
       "GB000598       77003   Liddel Water at Rowanburnfoot            GB   \n",
       "DEBY0895    24374805                        Würzburg            DE   \n",
       "SE000009        1160                     KUKKASJÄRVI            SE   \n",
       "CH000149        2458                        Valangin            CH   \n",
       "GB000120       27025        Rother at Woodhouse Mill            GB   \n",
       "...              ...                             ...           ...   \n",
       "GB000434       53007  Frome (Somerset) at Tellisford            GB   \n",
       "AT000231      206292                Au (Mittlere Au)            AT   \n",
       "FR002418  V145431002                        V1454320            FR   \n",
       "DK000292     8000001                   MELHOLT KIRKE            DK   \n",
       "GB000210       33018        Tove at Cappenham Bridge            GB   \n",
       "\n",
       "         gauge_provider                                  river   lon_snap  \\\n",
       "basin_id                                                                    \n",
       "GB000598        GB_NRFA          Liddel Water at Rowanburnfoot  -2.920000   \n",
       "DEBY0895          DE_BY                              Pleichach   9.948428   \n",
       "SE000009        SE_SMHI                            SANGISÄLVEN  23.323600   \n",
       "CH000149      CH_CAMELS                                  Seyon   6.900000   \n",
       "GB000120        GB_NRFA               Rother at Woodhouse Mill  -1.350000   \n",
       "...                 ...                                    ...        ...   \n",
       "GB000434        GB_NRFA         Frome (Somerset) at Tellisford  -2.280000   \n",
       "AT000231        AT_EHYD                                Laudach  13.915166   \n",
       "FR002418   FR_EAUFRANCE  Le Furans à Pugieu [Pont du Martinet]   5.642407   \n",
       "DK000292         DK_ODA                                   GERÅ  10.351881   \n",
       "GB000210        GB_NRFA               Tove at Cappenham Bridge  -0.960000   \n",
       "\n",
       "           lat_snap        lon        lat elevation  ...  num_continuous_days  \\\n",
       "basin_id                                             ...                        \n",
       "GB000598  55.070000  -2.920000  55.070000      27.1  ...                17532   \n",
       "DEBY0895  49.799355   9.948428  49.799355    176.10  ...                14306   \n",
       "SE000009  66.111700  23.323600  66.111700       NaN  ...                16932   \n",
       "CH000149  47.010000   6.900000  47.010000       665  ...                14610   \n",
       "GB000120  53.370000  -1.350000  53.370000      28.7  ...                16710   \n",
       "...             ...        ...        ...       ...  ...                  ...   \n",
       "GB000434  51.310000  -2.280000  51.310000      35.1  ...                21945   \n",
       "AT000231  48.038339  13.915166  48.038340       368  ...                15706   \n",
       "FR002418  45.820879   5.642407  45.820879       248  ...                14518   \n",
       "DK000292  57.103811  10.351881  57.103811       NaN  ...                13799   \n",
       "GB000210  52.130000  -0.960000  52.130000      80.8  ...                21792   \n",
       "\n",
       "          num_days_gaps  num_days_reliable  num_days_noflag num_days_suspect  \\\n",
       "basin_id                                                                       \n",
       "GB000598            0.0                0.0          17532.0              0.0   \n",
       "DEBY0895         2367.0                0.0          16918.0              0.0   \n",
       "SE000009         5589.0            30734.0              0.0             90.0   \n",
       "CH000149            0.0                0.0          14610.0              0.0   \n",
       "GB000120          944.0                0.0          20971.0              0.0   \n",
       "...                 ...                ...              ...              ...   \n",
       "GB000434            0.0                0.0          21945.0              0.0   \n",
       "AT000231            0.0                0.0          15706.0              0.0   \n",
       "FR002418            0.0            14223.0              0.0            295.0   \n",
       "DK000292            0.0            13799.0              0.0              0.0   \n",
       "GB000210            0.0                0.0          21792.0              0.0   \n",
       "\n",
       "         gauge_flag  duplicated_suspect  watershed_group  gauges_upstream  \\\n",
       "basin_id                                                                    \n",
       "GB000598          B                 NaN             1159                1   \n",
       "DEBY0895          D                 NaN                1                1   \n",
       "SE000009          D                 NaN             1885                1   \n",
       "CH000149          B                 NaN                1                1   \n",
       "GB000120          B                 NaN              968                2   \n",
       "...             ...                 ...              ...              ...   \n",
       "GB000434          B                 NaN             1092                1   \n",
       "AT000231          B                 NaN                2                1   \n",
       "FR002418          A                 NaN               27                2   \n",
       "DK000292          A                 NaN              282                1   \n",
       "GB000210          B                 NaN              994                1   \n",
       "\n",
       "                 nested_catchments  \n",
       "basin_id                            \n",
       "GB000598              ['GB000598']  \n",
       "DEBY0895              ['DEBY0895']  \n",
       "SE000009              ['SE000009']  \n",
       "CH000149              ['CH000149']  \n",
       "GB000120  ['GB000121', 'GB000120']  \n",
       "...                            ...  \n",
       "GB000434              ['GB000434']  \n",
       "AT000231              ['AT000231']  \n",
       "FR002418  ['FR002417', 'FR002418']  \n",
       "DK000292              ['DK000292']  \n",
       "GB000210              ['GB000210']  \n",
       "\n",
       "[4494 rows x 29 columns]"
      ]
     },
     "execution_count": 59,
     "metadata": {},
     "output_type": "execute_result"
    }
   ],
   "source": [
    "network_estreams_filtered_quality_eobs = pd.read_csv('results/network_estreams_filtered_quality_eobs.csv', encoding='utf-8')\n",
    "network_estreams_filtered_quality_eobs.set_index(\"basin_id\", inplace = True)\n",
    "\n",
    "network_estreams_filtered_quality_eobs"
   ]
  },
  {
   "cell_type": "code",
   "execution_count": 63,
   "id": "7b014f6d",
   "metadata": {},
   "outputs": [
    {
     "data": {
      "text/html": [
       "<div>\n",
       "<style scoped>\n",
       "    .dataframe tbody tr th:only-of-type {\n",
       "        vertical-align: middle;\n",
       "    }\n",
       "\n",
       "    .dataframe tbody tr th {\n",
       "        vertical-align: top;\n",
       "    }\n",
       "\n",
       "    .dataframe thead th {\n",
       "        text-align: right;\n",
       "    }\n",
       "</style>\n",
       "<table border=\"1\" class=\"dataframe\">\n",
       "  <thead>\n",
       "    <tr style=\"text-align: right;\">\n",
       "      <th></th>\n",
       "      <th>gauge_id</th>\n",
       "      <th>gauge_name</th>\n",
       "      <th>gauge_country</th>\n",
       "      <th>gauge_provider</th>\n",
       "      <th>river</th>\n",
       "      <th>lon_snap</th>\n",
       "      <th>lat_snap</th>\n",
       "      <th>lon</th>\n",
       "      <th>lat</th>\n",
       "      <th>elevation</th>\n",
       "      <th>...</th>\n",
       "      <th>num_continuous_days</th>\n",
       "      <th>num_days_gaps</th>\n",
       "      <th>num_days_reliable</th>\n",
       "      <th>num_days_noflag</th>\n",
       "      <th>num_days_suspect</th>\n",
       "      <th>gauge_flag</th>\n",
       "      <th>duplicated_suspect</th>\n",
       "      <th>watershed_group</th>\n",
       "      <th>gauges_upstream</th>\n",
       "      <th>nested_catchments</th>\n",
       "    </tr>\n",
       "    <tr>\n",
       "      <th>basin_id</th>\n",
       "      <th></th>\n",
       "      <th></th>\n",
       "      <th></th>\n",
       "      <th></th>\n",
       "      <th></th>\n",
       "      <th></th>\n",
       "      <th></th>\n",
       "      <th></th>\n",
       "      <th></th>\n",
       "      <th></th>\n",
       "      <th></th>\n",
       "      <th></th>\n",
       "      <th></th>\n",
       "      <th></th>\n",
       "      <th></th>\n",
       "      <th></th>\n",
       "      <th></th>\n",
       "      <th></th>\n",
       "      <th></th>\n",
       "      <th></th>\n",
       "      <th></th>\n",
       "    </tr>\n",
       "  </thead>\n",
       "  <tbody>\n",
       "    <tr>\n",
       "      <th>CZ000066</th>\n",
       "      <td>69000</td>\n",
       "      <td>Lázně Bělohrad</td>\n",
       "      <td>CZ</td>\n",
       "      <td>CZ_CHMU</td>\n",
       "      <td>Javorka</td>\n",
       "      <td>15.583472</td>\n",
       "      <td>50.431888</td>\n",
       "      <td>15.583472</td>\n",
       "      <td>50.431888</td>\n",
       "      <td>NaN</td>\n",
       "      <td>...</td>\n",
       "      <td>9053</td>\n",
       "      <td>53.0</td>\n",
       "      <td>0.0</td>\n",
       "      <td>14983.0</td>\n",
       "      <td>0.0</td>\n",
       "      <td>B</td>\n",
       "      <td>NaN</td>\n",
       "      <td>3</td>\n",
       "      <td>1</td>\n",
       "      <td>['CZ000066']</td>\n",
       "    </tr>\n",
       "    <tr>\n",
       "      <th>CZ000279</th>\n",
       "      <td>233500</td>\n",
       "      <td>Brenná</td>\n",
       "      <td>CZ</td>\n",
       "      <td>CZ_CHMU</td>\n",
       "      <td>Ploučnice</td>\n",
       "      <td>14.627915</td>\n",
       "      <td>50.651938</td>\n",
       "      <td>14.627915</td>\n",
       "      <td>50.651938</td>\n",
       "      <td>NaN</td>\n",
       "      <td>...</td>\n",
       "      <td>9192</td>\n",
       "      <td>5113.0</td>\n",
       "      <td>0.0</td>\n",
       "      <td>9923.0</td>\n",
       "      <td>0.0</td>\n",
       "      <td>E</td>\n",
       "      <td>NaN</td>\n",
       "      <td>3</td>\n",
       "      <td>5</td>\n",
       "      <td>['CZ000275', 'CZ000276', 'CZ000277', 'CZ000278...</td>\n",
       "    </tr>\n",
       "    <tr>\n",
       "      <th>CZ000356</th>\n",
       "      <td>303000</td>\n",
       "      <td>Věřňovice</td>\n",
       "      <td>CZ</td>\n",
       "      <td>CZ_CHMU</td>\n",
       "      <td>Olše</td>\n",
       "      <td>18.418995</td>\n",
       "      <td>49.931003</td>\n",
       "      <td>18.418995</td>\n",
       "      <td>49.931003</td>\n",
       "      <td>NaN</td>\n",
       "      <td>...</td>\n",
       "      <td>15036</td>\n",
       "      <td>0.0</td>\n",
       "      <td>0.0</td>\n",
       "      <td>15036.0</td>\n",
       "      <td>0.0</td>\n",
       "      <td>B</td>\n",
       "      <td>NaN</td>\n",
       "      <td>43</td>\n",
       "      <td>20</td>\n",
       "      <td>['CZ000345', 'CZ000346', 'CZ000347', 'CZ000348...</td>\n",
       "    </tr>\n",
       "    <tr>\n",
       "      <th>CZ000504</th>\n",
       "      <td>456000</td>\n",
       "      <td>Skalní Mlýn</td>\n",
       "      <td>CZ</td>\n",
       "      <td>CZ_CHMU</td>\n",
       "      <td>Punkva</td>\n",
       "      <td>16.719793</td>\n",
       "      <td>49.369542</td>\n",
       "      <td>16.719793</td>\n",
       "      <td>49.369542</td>\n",
       "      <td>NaN</td>\n",
       "      <td>...</td>\n",
       "      <td>15036</td>\n",
       "      <td>0.0</td>\n",
       "      <td>0.0</td>\n",
       "      <td>15036.0</td>\n",
       "      <td>0.0</td>\n",
       "      <td>B</td>\n",
       "      <td>NaN</td>\n",
       "      <td>2</td>\n",
       "      <td>3</td>\n",
       "      <td>['CZ000501', 'CZ000502', 'CZ000504']</td>\n",
       "    </tr>\n",
       "    <tr>\n",
       "      <th>CZ000455</th>\n",
       "      <td>414500</td>\n",
       "      <td>VD Bojkovice</td>\n",
       "      <td>CZ</td>\n",
       "      <td>CZ_CHMU</td>\n",
       "      <td>Kolelač</td>\n",
       "      <td>17.843778</td>\n",
       "      <td>49.049442</td>\n",
       "      <td>17.843778</td>\n",
       "      <td>49.049442</td>\n",
       "      <td>NaN</td>\n",
       "      <td>...</td>\n",
       "      <td>15036</td>\n",
       "      <td>0.0</td>\n",
       "      <td>0.0</td>\n",
       "      <td>15036.0</td>\n",
       "      <td>0.0</td>\n",
       "      <td>B</td>\n",
       "      <td>NaN</td>\n",
       "      <td>2</td>\n",
       "      <td>2</td>\n",
       "      <td>['CZ000454', 'CZ000455']</td>\n",
       "    </tr>\n",
       "    <tr>\n",
       "      <th>...</th>\n",
       "      <td>...</td>\n",
       "      <td>...</td>\n",
       "      <td>...</td>\n",
       "      <td>...</td>\n",
       "      <td>...</td>\n",
       "      <td>...</td>\n",
       "      <td>...</td>\n",
       "      <td>...</td>\n",
       "      <td>...</td>\n",
       "      <td>...</td>\n",
       "      <td>...</td>\n",
       "      <td>...</td>\n",
       "      <td>...</td>\n",
       "      <td>...</td>\n",
       "      <td>...</td>\n",
       "      <td>...</td>\n",
       "      <td>...</td>\n",
       "      <td>...</td>\n",
       "      <td>...</td>\n",
       "      <td>...</td>\n",
       "      <td>...</td>\n",
       "    </tr>\n",
       "    <tr>\n",
       "      <th>CZ000088</th>\n",
       "      <td>92000</td>\n",
       "      <td>Pelešany</td>\n",
       "      <td>CZ</td>\n",
       "      <td>CZ_CHMU</td>\n",
       "      <td>Libuňka</td>\n",
       "      <td>15.170779</td>\n",
       "      <td>50.571139</td>\n",
       "      <td>15.170779</td>\n",
       "      <td>50.571139</td>\n",
       "      <td>NaN</td>\n",
       "      <td>...</td>\n",
       "      <td>14671</td>\n",
       "      <td>0.0</td>\n",
       "      <td>0.0</td>\n",
       "      <td>14671.0</td>\n",
       "      <td>0.0</td>\n",
       "      <td>B</td>\n",
       "      <td>NaN</td>\n",
       "      <td>3</td>\n",
       "      <td>2</td>\n",
       "      <td>['CZ000087', 'CZ000088']</td>\n",
       "    </tr>\n",
       "    <tr>\n",
       "      <th>CZ000288</th>\n",
       "      <td>241000</td>\n",
       "      <td>Srbská Kamenice</td>\n",
       "      <td>CZ</td>\n",
       "      <td>CZ_CHMU</td>\n",
       "      <td>Kamenice</td>\n",
       "      <td>14.351506</td>\n",
       "      <td>50.814043</td>\n",
       "      <td>14.351506</td>\n",
       "      <td>50.814043</td>\n",
       "      <td>NaN</td>\n",
       "      <td>...</td>\n",
       "      <td>13941</td>\n",
       "      <td>0.0</td>\n",
       "      <td>0.0</td>\n",
       "      <td>13941.0</td>\n",
       "      <td>0.0</td>\n",
       "      <td>B</td>\n",
       "      <td>NaN</td>\n",
       "      <td>3</td>\n",
       "      <td>1</td>\n",
       "      <td>['CZ000288']</td>\n",
       "    </tr>\n",
       "    <tr>\n",
       "      <th>CZ000103</th>\n",
       "      <td>109500</td>\n",
       "      <td>Zátoň</td>\n",
       "      <td>CZ</td>\n",
       "      <td>CZ_CHMU</td>\n",
       "      <td>Vltava</td>\n",
       "      <td>14.336846</td>\n",
       "      <td>48.726830</td>\n",
       "      <td>14.336846</td>\n",
       "      <td>48.726830</td>\n",
       "      <td>NaN</td>\n",
       "      <td>...</td>\n",
       "      <td>12114</td>\n",
       "      <td>0.0</td>\n",
       "      <td>0.0</td>\n",
       "      <td>12114.0</td>\n",
       "      <td>0.0</td>\n",
       "      <td>B</td>\n",
       "      <td>NaN</td>\n",
       "      <td>3</td>\n",
       "      <td>5</td>\n",
       "      <td>['CZ000099', 'CZ000100', 'CZ000101', 'CZ000102...</td>\n",
       "    </tr>\n",
       "    <tr>\n",
       "      <th>CZ000253</th>\n",
       "      <td>209100</td>\n",
       "      <td>Chaloupky</td>\n",
       "      <td>CZ</td>\n",
       "      <td>CZ_CHMU</td>\n",
       "      <td>Rolava</td>\n",
       "      <td>12.664795</td>\n",
       "      <td>50.374484</td>\n",
       "      <td>12.664795</td>\n",
       "      <td>50.374484</td>\n",
       "      <td>NaN</td>\n",
       "      <td>...</td>\n",
       "      <td>15036</td>\n",
       "      <td>0.0</td>\n",
       "      <td>0.0</td>\n",
       "      <td>15036.0</td>\n",
       "      <td>0.0</td>\n",
       "      <td>B</td>\n",
       "      <td>NaN</td>\n",
       "      <td>3</td>\n",
       "      <td>1</td>\n",
       "      <td>['CZ000253']</td>\n",
       "    </tr>\n",
       "    <tr>\n",
       "      <th>CZ000512</th>\n",
       "      <td>461000</td>\n",
       "      <td>Rychmanov</td>\n",
       "      <td>CZ</td>\n",
       "      <td>CZ_CHMU</td>\n",
       "      <td>Litava</td>\n",
       "      <td>16.763210</td>\n",
       "      <td>49.103790</td>\n",
       "      <td>16.763210</td>\n",
       "      <td>49.103790</td>\n",
       "      <td>NaN</td>\n",
       "      <td>...</td>\n",
       "      <td>15036</td>\n",
       "      <td>0.0</td>\n",
       "      <td>0.0</td>\n",
       "      <td>15036.0</td>\n",
       "      <td>0.0</td>\n",
       "      <td>B</td>\n",
       "      <td>NaN</td>\n",
       "      <td>2</td>\n",
       "      <td>2</td>\n",
       "      <td>['CZ000511', 'CZ000512']</td>\n",
       "    </tr>\n",
       "  </tbody>\n",
       "</table>\n",
       "<p>350 rows × 29 columns</p>\n",
       "</div>"
      ],
      "text/plain": [
       "         gauge_id       gauge_name gauge_country gauge_provider      river  \\\n",
       "basin_id                                                                     \n",
       "CZ000066    69000   Lázně Bělohrad            CZ        CZ_CHMU    Javorka   \n",
       "CZ000279   233500           Brenná            CZ        CZ_CHMU  Ploučnice   \n",
       "CZ000356   303000        Věřňovice            CZ        CZ_CHMU       Olše   \n",
       "CZ000504   456000      Skalní Mlýn            CZ        CZ_CHMU     Punkva   \n",
       "CZ000455   414500     VD Bojkovice            CZ        CZ_CHMU    Kolelač   \n",
       "...           ...              ...           ...            ...        ...   \n",
       "CZ000088    92000         Pelešany            CZ        CZ_CHMU    Libuňka   \n",
       "CZ000288   241000  Srbská Kamenice            CZ        CZ_CHMU   Kamenice   \n",
       "CZ000103   109500            Zátoň            CZ        CZ_CHMU     Vltava   \n",
       "CZ000253   209100        Chaloupky            CZ        CZ_CHMU     Rolava   \n",
       "CZ000512   461000        Rychmanov            CZ        CZ_CHMU     Litava   \n",
       "\n",
       "           lon_snap   lat_snap        lon        lat elevation  ...  \\\n",
       "basin_id                                                        ...   \n",
       "CZ000066  15.583472  50.431888  15.583472  50.431888       NaN  ...   \n",
       "CZ000279  14.627915  50.651938  14.627915  50.651938       NaN  ...   \n",
       "CZ000356  18.418995  49.931003  18.418995  49.931003       NaN  ...   \n",
       "CZ000504  16.719793  49.369542  16.719793  49.369542       NaN  ...   \n",
       "CZ000455  17.843778  49.049442  17.843778  49.049442       NaN  ...   \n",
       "...             ...        ...        ...        ...       ...  ...   \n",
       "CZ000088  15.170779  50.571139  15.170779  50.571139       NaN  ...   \n",
       "CZ000288  14.351506  50.814043  14.351506  50.814043       NaN  ...   \n",
       "CZ000103  14.336846  48.726830  14.336846  48.726830       NaN  ...   \n",
       "CZ000253  12.664795  50.374484  12.664795  50.374484       NaN  ...   \n",
       "CZ000512  16.763210  49.103790  16.763210  49.103790       NaN  ...   \n",
       "\n",
       "          num_continuous_days  num_days_gaps  num_days_reliable  \\\n",
       "basin_id                                                          \n",
       "CZ000066                 9053           53.0                0.0   \n",
       "CZ000279                 9192         5113.0                0.0   \n",
       "CZ000356                15036            0.0                0.0   \n",
       "CZ000504                15036            0.0                0.0   \n",
       "CZ000455                15036            0.0                0.0   \n",
       "...                       ...            ...                ...   \n",
       "CZ000088                14671            0.0                0.0   \n",
       "CZ000288                13941            0.0                0.0   \n",
       "CZ000103                12114            0.0                0.0   \n",
       "CZ000253                15036            0.0                0.0   \n",
       "CZ000512                15036            0.0                0.0   \n",
       "\n",
       "          num_days_noflag num_days_suspect gauge_flag  duplicated_suspect  \\\n",
       "basin_id                                                                    \n",
       "CZ000066          14983.0              0.0          B                 NaN   \n",
       "CZ000279           9923.0              0.0          E                 NaN   \n",
       "CZ000356          15036.0              0.0          B                 NaN   \n",
       "CZ000504          15036.0              0.0          B                 NaN   \n",
       "CZ000455          15036.0              0.0          B                 NaN   \n",
       "...                   ...              ...        ...                 ...   \n",
       "CZ000088          14671.0              0.0          B                 NaN   \n",
       "CZ000288          13941.0              0.0          B                 NaN   \n",
       "CZ000103          12114.0              0.0          B                 NaN   \n",
       "CZ000253          15036.0              0.0          B                 NaN   \n",
       "CZ000512          15036.0              0.0          B                 NaN   \n",
       "\n",
       "          watershed_group  gauges_upstream  \\\n",
       "basin_id                                     \n",
       "CZ000066                3                1   \n",
       "CZ000279                3                5   \n",
       "CZ000356               43               20   \n",
       "CZ000504                2                3   \n",
       "CZ000455                2                2   \n",
       "...                   ...              ...   \n",
       "CZ000088                3                2   \n",
       "CZ000288                3                1   \n",
       "CZ000103                3                5   \n",
       "CZ000253                3                1   \n",
       "CZ000512                2                2   \n",
       "\n",
       "                                          nested_catchments  \n",
       "basin_id                                                     \n",
       "CZ000066                                       ['CZ000066']  \n",
       "CZ000279  ['CZ000275', 'CZ000276', 'CZ000277', 'CZ000278...  \n",
       "CZ000356  ['CZ000345', 'CZ000346', 'CZ000347', 'CZ000348...  \n",
       "CZ000504               ['CZ000501', 'CZ000502', 'CZ000504']  \n",
       "CZ000455                           ['CZ000454', 'CZ000455']  \n",
       "...                                                     ...  \n",
       "CZ000088                           ['CZ000087', 'CZ000088']  \n",
       "CZ000288                                       ['CZ000288']  \n",
       "CZ000103  ['CZ000099', 'CZ000100', 'CZ000101', 'CZ000102...  \n",
       "CZ000253                                       ['CZ000253']  \n",
       "CZ000512                           ['CZ000511', 'CZ000512']  \n",
       "\n",
       "[350 rows x 29 columns]"
      ]
     },
     "execution_count": 63,
     "metadata": {},
     "output_type": "execute_result"
    }
   ],
   "source": [
    "network_estreams_filtered_quality_eobs = network_estreams_filtered_quality_eobs[network_estreams_filtered_quality_eobs.gauge_country == \"CZ\"]\n",
    "\n",
    "network_estreams_filtered_quality_eobs"
   ]
  },
  {
   "cell_type": "code",
   "execution_count": 66,
   "id": "8fcda73d",
   "metadata": {},
   "outputs": [
    {
     "data": {
      "text/plain": [
       "['AT000002',\n",
       " 'AT000003',\n",
       " 'AT000005',\n",
       " 'AT000007',\n",
       " 'AT000010',\n",
       " 'AT000014',\n",
       " 'AT000015',\n",
       " 'AT000016',\n",
       " 'AT000018',\n",
       " 'AT000019',\n",
       " 'AT000021',\n",
       " 'AT000022',\n",
       " 'AT000023',\n",
       " 'AT000027',\n",
       " 'AT000028',\n",
       " 'AT000029',\n",
       " 'AT000030',\n",
       " 'AT000038',\n",
       " 'AT000039',\n",
       " 'AT000040',\n",
       " 'AT000041',\n",
       " 'AT000042',\n",
       " 'AT000043',\n",
       " 'AT000044',\n",
       " 'AT000048',\n",
       " 'AT000049',\n",
       " 'AT000050',\n",
       " 'AT000051',\n",
       " 'AT000052',\n",
       " 'AT000054',\n",
       " 'AT000060',\n",
       " 'AT000062',\n",
       " 'AT000065',\n",
       " 'AT000067',\n",
       " 'AT000068',\n",
       " 'AT000069',\n",
       " 'AT000071',\n",
       " 'AT000072',\n",
       " 'AT000074',\n",
       " 'AT000075',\n",
       " 'AT000076',\n",
       " 'AT000078',\n",
       " 'AT000080',\n",
       " 'AT000081',\n",
       " 'AT000086',\n",
       " 'AT000087',\n",
       " 'AT000089',\n",
       " 'AT000090',\n",
       " 'AT000093',\n",
       " 'AT000094',\n",
       " 'AT000095',\n",
       " 'AT000097',\n",
       " 'AT000098',\n",
       " 'AT000101',\n",
       " 'AT000103',\n",
       " 'AT000105',\n",
       " 'AT000106',\n",
       " 'AT000107',\n",
       " 'AT000111',\n",
       " 'AT000115',\n",
       " 'AT000116',\n",
       " 'AT000117',\n",
       " 'AT000118',\n",
       " 'AT000122',\n",
       " 'AT000123',\n",
       " 'AT000124',\n",
       " 'AT000125',\n",
       " 'AT000129',\n",
       " 'AT000130',\n",
       " 'AT000132',\n",
       " 'AT000133',\n",
       " 'AT000135',\n",
       " 'AT000137',\n",
       " 'AT000138',\n",
       " 'AT000140',\n",
       " 'AT000141',\n",
       " 'AT000142',\n",
       " 'AT000143',\n",
       " 'AT000144',\n",
       " 'AT000146',\n",
       " 'AT000147',\n",
       " 'AT000149',\n",
       " 'AT000150',\n",
       " 'AT000151',\n",
       " 'AT000152',\n",
       " 'AT000153',\n",
       " 'AT000154',\n",
       " 'AT000155',\n",
       " 'AT000156',\n",
       " 'AT000157',\n",
       " 'AT000158',\n",
       " 'AT000159',\n",
       " 'AT000160',\n",
       " 'AT000161',\n",
       " 'AT000162',\n",
       " 'AT000163',\n",
       " 'AT000164',\n",
       " 'AT000165',\n",
       " 'AT000166',\n",
       " 'AT000167',\n",
       " 'AT000168',\n",
       " 'AT000169',\n",
       " 'AT000170',\n",
       " 'AT000171',\n",
       " 'AT000173',\n",
       " 'AT000174',\n",
       " 'AT000175',\n",
       " 'AT000176',\n",
       " 'AT000177',\n",
       " 'AT000178',\n",
       " 'AT000179',\n",
       " 'AT000180',\n",
       " 'AT000181',\n",
       " 'AT000182',\n",
       " 'AT000183',\n",
       " 'AT000184',\n",
       " 'AT000185',\n",
       " 'AT000187',\n",
       " 'AT000188',\n",
       " 'AT000189',\n",
       " 'AT000190',\n",
       " 'AT000191',\n",
       " 'AT000192',\n",
       " 'AT000193',\n",
       " 'AT000194',\n",
       " 'AT000195',\n",
       " 'AT000196',\n",
       " 'AT000197',\n",
       " 'AT000198',\n",
       " 'AT000207',\n",
       " 'AT000208',\n",
       " 'AT000211',\n",
       " 'AT000212',\n",
       " 'AT000213',\n",
       " 'AT000214',\n",
       " 'AT000215',\n",
       " 'AT000217',\n",
       " 'AT000218',\n",
       " 'AT000219',\n",
       " 'AT000220',\n",
       " 'AT000221',\n",
       " 'AT000222',\n",
       " 'AT000223',\n",
       " 'AT000224',\n",
       " 'AT000225',\n",
       " 'AT000226',\n",
       " 'AT000228',\n",
       " 'AT000230',\n",
       " 'AT000231',\n",
       " 'AT000232',\n",
       " 'AT000234',\n",
       " 'AT000235',\n",
       " 'AT000236',\n",
       " 'AT000237',\n",
       " 'AT000238',\n",
       " 'AT000239',\n",
       " 'AT000240',\n",
       " 'AT000242',\n",
       " 'AT000243',\n",
       " 'AT000245',\n",
       " 'AT000247',\n",
       " 'AT000249',\n",
       " 'AT000250',\n",
       " 'AT000252',\n",
       " 'AT000254',\n",
       " 'AT000255',\n",
       " 'AT000256',\n",
       " 'AT000257',\n",
       " 'AT000258',\n",
       " 'AT000259',\n",
       " 'AT000260',\n",
       " 'AT000261',\n",
       " 'AT000268',\n",
       " 'AT000269',\n",
       " 'AT000273',\n",
       " 'AT000275',\n",
       " 'AT000276',\n",
       " 'AT000277',\n",
       " 'AT000278',\n",
       " 'AT000280',\n",
       " 'AT000281',\n",
       " 'AT000282',\n",
       " 'AT000283',\n",
       " 'AT000284',\n",
       " 'AT000285',\n",
       " 'AT000286',\n",
       " 'AT000287',\n",
       " 'AT000288',\n",
       " 'AT000289',\n",
       " 'AT000290',\n",
       " 'AT000291',\n",
       " 'AT000292',\n",
       " 'AT000295',\n",
       " 'AT000297',\n",
       " 'AT000298',\n",
       " 'AT000299',\n",
       " 'AT000300',\n",
       " 'AT000301',\n",
       " 'AT000302',\n",
       " 'AT000303',\n",
       " 'AT000304',\n",
       " 'AT000306',\n",
       " 'AT000308',\n",
       " 'AT000309',\n",
       " 'AT000310',\n",
       " 'AT000311',\n",
       " 'AT000313',\n",
       " 'AT000314',\n",
       " 'AT000315',\n",
       " 'AT000316',\n",
       " 'AT000318',\n",
       " 'AT000319',\n",
       " 'AT000320',\n",
       " 'AT000323',\n",
       " 'AT000324',\n",
       " 'AT000326',\n",
       " 'AT000328',\n",
       " 'AT000329',\n",
       " 'AT000330',\n",
       " 'AT000332',\n",
       " 'AT000333',\n",
       " 'AT000334',\n",
       " 'AT000335',\n",
       " 'AT000336',\n",
       " 'AT000337',\n",
       " 'AT000338',\n",
       " 'AT000340',\n",
       " 'AT000341',\n",
       " 'AT000342',\n",
       " 'AT000343',\n",
       " 'AT000344',\n",
       " 'AT000345',\n",
       " 'AT000346',\n",
       " 'AT000347',\n",
       " 'AT000349',\n",
       " 'AT000351',\n",
       " 'AT000352',\n",
       " 'AT000353',\n",
       " 'AT000354',\n",
       " 'AT000356',\n",
       " 'AT000357',\n",
       " 'AT000358',\n",
       " 'AT000360',\n",
       " 'AT000361',\n",
       " 'AT000363',\n",
       " 'AT000365',\n",
       " 'AT000367',\n",
       " 'AT000368',\n",
       " 'AT000372',\n",
       " 'AT000373',\n",
       " 'AT000374',\n",
       " 'AT000375',\n",
       " 'AT000378',\n",
       " 'AT000380',\n",
       " 'AT000382',\n",
       " 'AT000383',\n",
       " 'AT000386',\n",
       " 'AT000391',\n",
       " 'AT000392',\n",
       " 'AT000394',\n",
       " 'AT000397',\n",
       " 'AT000398',\n",
       " 'AT000399',\n",
       " 'AT000400',\n",
       " 'AT000401',\n",
       " 'AT000402',\n",
       " 'AT000403',\n",
       " 'AT000404',\n",
       " 'AT000406',\n",
       " 'AT000407',\n",
       " 'AT000408',\n",
       " 'AT000409',\n",
       " 'AT000410',\n",
       " 'AT000411',\n",
       " 'AT000417',\n",
       " 'AT000418',\n",
       " 'AT000423',\n",
       " 'AT000424',\n",
       " 'AT000425',\n",
       " 'AT000426',\n",
       " 'AT000427',\n",
       " 'AT000428',\n",
       " 'AT000429',\n",
       " 'AT000431',\n",
       " 'AT000432',\n",
       " 'AT000433',\n",
       " 'AT000434',\n",
       " 'AT000435',\n",
       " 'AT000437',\n",
       " 'AT000438',\n",
       " 'AT000439',\n",
       " 'AT000440',\n",
       " 'AT000441',\n",
       " 'AT000442',\n",
       " 'AT000443',\n",
       " 'AT000444',\n",
       " 'AT000445',\n",
       " 'AT000446',\n",
       " 'AT000447',\n",
       " 'AT000448',\n",
       " 'AT000449',\n",
       " 'AT000450',\n",
       " 'AT000451',\n",
       " 'AT000452',\n",
       " 'AT000453',\n",
       " 'AT000455',\n",
       " 'AT000456',\n",
       " 'AT000457',\n",
       " 'AT000458',\n",
       " 'AT000460',\n",
       " 'AT000461',\n",
       " 'AT000462',\n",
       " 'AT000463',\n",
       " 'AT000464',\n",
       " 'AT000465',\n",
       " 'AT000466',\n",
       " 'AT000467',\n",
       " 'AT000468',\n",
       " 'AT000469',\n",
       " 'AT000470',\n",
       " 'AT000471',\n",
       " 'AT000474',\n",
       " 'AT000475',\n",
       " 'AT000477',\n",
       " 'AT000481',\n",
       " 'AT000483',\n",
       " 'AT000485',\n",
       " 'AT000486',\n",
       " 'AT000488',\n",
       " 'AT000489',\n",
       " 'AT000491',\n",
       " 'AT000492',\n",
       " 'AT000493',\n",
       " 'AT000495',\n",
       " 'AT000500',\n",
       " 'AT000502',\n",
       " 'AT000504',\n",
       " 'AT000505',\n",
       " 'AT000507',\n",
       " 'AT000508',\n",
       " 'AT000509',\n",
       " 'AT000510',\n",
       " 'AT000511',\n",
       " 'AT000513',\n",
       " 'AT000514',\n",
       " 'AT000515',\n",
       " 'AT000518',\n",
       " 'AT000521',\n",
       " 'AT000523',\n",
       " 'AT000525',\n",
       " 'AT000528',\n",
       " 'AT000529',\n",
       " 'AT000530',\n",
       " 'AT000531',\n",
       " 'AT000532',\n",
       " 'AT000533',\n",
       " 'AT000534',\n",
       " 'AT000538',\n",
       " 'AT000539',\n",
       " 'AT000540',\n",
       " 'AT000542',\n",
       " 'AT000544',\n",
       " 'AT000545',\n",
       " 'AT000547',\n",
       " 'AT000550',\n",
       " 'AT000551',\n",
       " 'AT000552',\n",
       " 'AT000555',\n",
       " 'AT000557',\n",
       " 'AT000558',\n",
       " 'AT000559',\n",
       " 'AT000560',\n",
       " 'AT000561',\n",
       " 'AT000562',\n",
       " 'AT000563',\n",
       " 'AT000564',\n",
       " 'AT000565',\n",
       " 'AT000566',\n",
       " 'AT000568',\n",
       " 'AT000569',\n",
       " 'AT000570',\n",
       " 'AT000572',\n",
       " 'AT000573',\n",
       " 'AT000575',\n",
       " 'AT000577',\n",
       " 'AT000578',\n",
       " 'AT000579',\n",
       " 'AT000580',\n",
       " 'AT000581',\n",
       " 'AT000583',\n",
       " 'AT000587',\n",
       " 'AT000588',\n",
       " 'AT000591',\n",
       " 'AT000595',\n",
       " 'AT000596',\n",
       " 'AT000597',\n",
       " 'AT000599',\n",
       " 'CH000006',\n",
       " 'CH000010',\n",
       " 'CH000011',\n",
       " 'CH000013',\n",
       " 'CH000014',\n",
       " 'CH000015',\n",
       " 'CH000017',\n",
       " 'CH000018',\n",
       " 'CH000019',\n",
       " 'CH000024',\n",
       " 'CH000025',\n",
       " 'CH000028',\n",
       " 'CH000029',\n",
       " 'CH000030',\n",
       " 'CH000031',\n",
       " 'CH000032',\n",
       " 'CH000034',\n",
       " 'CH000037',\n",
       " 'CH000038',\n",
       " 'CH000039',\n",
       " 'CH000040',\n",
       " 'CH000041',\n",
       " 'CH000043',\n",
       " 'CH000046',\n",
       " 'CH000048',\n",
       " 'CH000049',\n",
       " 'CH000051',\n",
       " 'CH000053',\n",
       " 'CH000054',\n",
       " 'CH000056',\n",
       " 'CH000057',\n",
       " 'CH000059',\n",
       " 'CH000060',\n",
       " 'CH000061',\n",
       " 'CH000062',\n",
       " 'CH000063',\n",
       " 'CH000064',\n",
       " 'CH000066',\n",
       " 'CH000067',\n",
       " 'CH000070',\n",
       " 'CH000071',\n",
       " 'CH000074',\n",
       " 'CH000075',\n",
       " 'CH000077',\n",
       " 'CH000078',\n",
       " 'CH000080',\n",
       " 'CH000083',\n",
       " 'CH000084',\n",
       " 'CH000087',\n",
       " 'CH000088',\n",
       " 'CH000089',\n",
       " 'CH000090',\n",
       " 'CH000093',\n",
       " 'CH000096',\n",
       " 'CH000097',\n",
       " 'CH000098',\n",
       " 'CH000099',\n",
       " 'CH000100',\n",
       " 'CH000102',\n",
       " 'CH000103',\n",
       " 'CH000104',\n",
       " 'CH000106',\n",
       " 'CH000107',\n",
       " 'CH000108',\n",
       " 'CH000110',\n",
       " 'CH000111',\n",
       " 'CH000112',\n",
       " 'CH000113',\n",
       " 'CH000115',\n",
       " 'CH000117',\n",
       " 'CH000118',\n",
       " 'CH000119',\n",
       " 'CH000120',\n",
       " 'CH000121',\n",
       " 'CH000122',\n",
       " 'CH000123',\n",
       " 'CH000124',\n",
       " 'CH000125',\n",
       " 'CH000127',\n",
       " 'CH000128',\n",
       " 'CH000129',\n",
       " 'CH000130',\n",
       " 'CH000131',\n",
       " 'CH000132',\n",
       " 'CH000133',\n",
       " 'CH000134',\n",
       " 'CH000135',\n",
       " 'CH000136',\n",
       " 'CH000137',\n",
       " 'CH000138',\n",
       " 'CH000140',\n",
       " 'CH000142',\n",
       " 'CH000143',\n",
       " 'CH000144',\n",
       " 'CH000147',\n",
       " 'CH000148',\n",
       " 'CH000149',\n",
       " 'CH000150',\n",
       " 'CH000152',\n",
       " 'CH000154',\n",
       " 'CH000155',\n",
       " 'CH000156',\n",
       " 'CH000158',\n",
       " 'CH000159',\n",
       " 'CH000160',\n",
       " 'CH000161',\n",
       " 'CH000162',\n",
       " 'CH000164',\n",
       " 'CH000165',\n",
       " 'CH000166',\n",
       " 'CH000167',\n",
       " 'CH000168',\n",
       " 'CH000169',\n",
       " 'CH000170',\n",
       " 'CH000171',\n",
       " 'CH000172',\n",
       " 'CH000173',\n",
       " 'CH000174',\n",
       " 'CH000176',\n",
       " 'CH000177',\n",
       " 'CH000181',\n",
       " 'CH000193',\n",
       " 'CH000194',\n",
       " 'CH000200',\n",
       " 'CH000230',\n",
       " 'CH000231',\n",
       " 'CH000232',\n",
       " 'CH000233',\n",
       " 'CH000234',\n",
       " 'CH000235',\n",
       " 'CH000236',\n",
       " 'CH000237',\n",
       " 'CH000238',\n",
       " 'CH000240',\n",
       " 'CH000241',\n",
       " 'CH000242',\n",
       " 'CH000243',\n",
       " 'CH000244',\n",
       " 'CH000245',\n",
       " 'CH000246',\n",
       " 'CH000247',\n",
       " 'CH000249',\n",
       " 'CH000250',\n",
       " 'CH000252',\n",
       " 'CH000254',\n",
       " 'CH000255',\n",
       " 'CH000256',\n",
       " 'CH000258',\n",
       " 'CH000264',\n",
       " 'CH000267',\n",
       " 'CH000269',\n",
       " 'CH000270',\n",
       " 'CH000272',\n",
       " 'CH000274',\n",
       " 'CH000275',\n",
       " 'CH000281',\n",
       " 'CH000287',\n",
       " 'DEBB0002',\n",
       " 'DEBB0004',\n",
       " 'DEBB0009',\n",
       " 'DEBB0022',\n",
       " 'DEBB0027',\n",
       " 'DEBB0034',\n",
       " 'DEBB0036',\n",
       " 'DEBB0039',\n",
       " 'DEBB0042',\n",
       " 'DEBB0044',\n",
       " 'DEBB0052',\n",
       " 'DEBB0059',\n",
       " 'DEBB0068',\n",
       " 'DEBB0077',\n",
       " 'DEBB0081',\n",
       " 'DEBB0088',\n",
       " 'DEBB0091',\n",
       " 'DEBB0093',\n",
       " 'DEBB0095',\n",
       " 'DEBB0097',\n",
       " 'DEBB0101',\n",
       " 'DEBB0102',\n",
       " 'DEBB0103',\n",
       " 'DEBB0105',\n",
       " 'DEBB0115',\n",
       " 'DEBB0132',\n",
       " 'DEBB0133',\n",
       " 'DEBB0136',\n",
       " 'DEBB0137',\n",
       " 'DEBB0138',\n",
       " 'DEBB0139',\n",
       " 'DEBB0140',\n",
       " 'DEBB0142',\n",
       " 'DEBB0143',\n",
       " 'DEBB0144',\n",
       " 'DEBB0147',\n",
       " 'DEBB0153',\n",
       " 'DEBW0167',\n",
       " 'DEBW0168',\n",
       " 'DEBW0170',\n",
       " 'DEBW0171',\n",
       " 'DEBW0172',\n",
       " 'DEBW0173',\n",
       " 'DEBW0174',\n",
       " 'DEBW0175',\n",
       " 'DEBW0176',\n",
       " 'DEBW0177',\n",
       " 'DEBW0178',\n",
       " 'DEBW0179',\n",
       " 'DEBW0183',\n",
       " 'DEBW0188',\n",
       " 'DEBW0191',\n",
       " 'DEBW0193',\n",
       " 'DEBW0194',\n",
       " 'DEBW0195',\n",
       " 'DEBW0197',\n",
       " 'DEBW0198',\n",
       " 'DEBW0199',\n",
       " 'DEBW0202',\n",
       " 'DEBW0205',\n",
       " 'DEBW0206',\n",
       " 'DEBW0207',\n",
       " 'DEBW0209',\n",
       " 'DEBW0211',\n",
       " 'DEBW0213',\n",
       " 'DEBW0215',\n",
       " 'DEBW0216',\n",
       " 'DEBW0218',\n",
       " 'DEBW0220',\n",
       " 'DEBW0221',\n",
       " 'DEBW0222',\n",
       " 'DEBW0223',\n",
       " 'DEBW0224',\n",
       " 'DEBW0225',\n",
       " 'DEBW0226',\n",
       " 'DEBW0227',\n",
       " 'DEBW0230',\n",
       " 'DEBW0231',\n",
       " 'DEBW0234',\n",
       " 'DEBW0235',\n",
       " 'DEBW0236',\n",
       " 'DEBW0239',\n",
       " 'DEBW0240',\n",
       " 'DEBW0242',\n",
       " 'DEBW0244',\n",
       " 'DEBW0245',\n",
       " 'DEBW0247',\n",
       " 'DEBW0248',\n",
       " 'DEBW0249',\n",
       " 'DEBW0251',\n",
       " 'DEBW0252',\n",
       " 'DEBW0255',\n",
       " 'DEBW0256',\n",
       " 'DEBW0257',\n",
       " 'DEBW0259',\n",
       " 'DEBW0261',\n",
       " 'DEBW0262',\n",
       " 'DEBW0266',\n",
       " 'DEBW0267',\n",
       " 'DEBW0268',\n",
       " 'DEBW0269',\n",
       " 'DEBW0270',\n",
       " 'DEBW0271',\n",
       " 'DEBW0272',\n",
       " 'DEBW0273',\n",
       " 'DEBW0274',\n",
       " 'DEBW0275',\n",
       " 'DEBW0276',\n",
       " 'DEBW0279',\n",
       " 'DEBW0280',\n",
       " 'DEBW0281',\n",
       " 'DEBW0282',\n",
       " 'DEBW0283',\n",
       " 'DEBW0286',\n",
       " 'DEBW0287',\n",
       " 'DEBW0288',\n",
       " 'DEBW0290',\n",
       " 'DEBW0292',\n",
       " 'DEBW0293',\n",
       " 'DEBW0295',\n",
       " 'DEBW0302',\n",
       " 'DEBW0304',\n",
       " 'DEBW0305',\n",
       " 'DEBW0309',\n",
       " 'DEBW0310',\n",
       " 'DEBW0311',\n",
       " 'DEBW0313',\n",
       " 'DEBW0314',\n",
       " 'DEBW0316',\n",
       " 'DEBW0317',\n",
       " 'DEBW0318',\n",
       " 'DEBW0319',\n",
       " 'DEBW0320',\n",
       " 'DEBW0321',\n",
       " 'DEBW0322',\n",
       " 'DEBW0323',\n",
       " 'DEBW0324',\n",
       " 'DEBW0325',\n",
       " 'DEBW0327',\n",
       " 'DEBW0328',\n",
       " 'DEBW0329',\n",
       " 'DEBW0330',\n",
       " 'DEBW0331',\n",
       " 'DEBW0335',\n",
       " 'DEBW0336',\n",
       " 'DEBW0337',\n",
       " 'DEBW0339',\n",
       " 'DEBW0340',\n",
       " 'DEBW0341',\n",
       " 'DEBW0342',\n",
       " 'DEBW0343',\n",
       " 'DEBW0344',\n",
       " 'DEBW0346',\n",
       " 'DEBW0347',\n",
       " 'DEBW0356',\n",
       " 'DEBW0358',\n",
       " 'DEBW0359',\n",
       " 'DEBW0360',\n",
       " 'DEBW0361',\n",
       " 'DEBW0362',\n",
       " 'DEBW0363',\n",
       " 'DEBW0364',\n",
       " 'DEBW0368',\n",
       " 'DEBW0369',\n",
       " 'DEBW0370',\n",
       " 'DEBW0372',\n",
       " 'DEBW0373',\n",
       " 'DEBW0374',\n",
       " 'DEBW0380',\n",
       " 'DEBW0381',\n",
       " 'DEBW0382',\n",
       " 'DEBW0386',\n",
       " 'DEBW0387',\n",
       " 'DEBW0388',\n",
       " 'DEBW0389',\n",
       " 'DEBW0392',\n",
       " 'DEBY0394',\n",
       " 'DEBY0395',\n",
       " 'DEBY0397',\n",
       " 'DEBY0398',\n",
       " 'DEBY0401',\n",
       " 'DEBY0402',\n",
       " 'DEBY0405',\n",
       " 'DEBY0407',\n",
       " 'DEBY0408',\n",
       " 'DEBY0409',\n",
       " 'DEBY0412',\n",
       " 'DEBY0413',\n",
       " 'DEBY0414',\n",
       " 'DEBY0415',\n",
       " 'DEBY0417',\n",
       " 'DEBY0418',\n",
       " 'DEBY0419',\n",
       " 'DEBY0420',\n",
       " 'DEBY0423',\n",
       " 'DEBY0425',\n",
       " 'DEBY0428',\n",
       " 'DEBY0429',\n",
       " 'DEBY0433',\n",
       " 'DEBY0437',\n",
       " 'DEBY0438',\n",
       " 'DEBY0439',\n",
       " 'DEBY0443',\n",
       " 'DEBY0444',\n",
       " 'DEBY0445',\n",
       " 'DEBY0447',\n",
       " 'DEBY0448',\n",
       " 'DEBY0449',\n",
       " 'DEBY0451',\n",
       " 'DEBY0454',\n",
       " 'DEBY0457',\n",
       " 'DEBY0458',\n",
       " 'DEBY0460',\n",
       " 'DEBY0461',\n",
       " 'DEBY0465',\n",
       " 'DEBY0466',\n",
       " 'DEBY0467',\n",
       " 'DEBY0472',\n",
       " 'DEBY0473',\n",
       " 'DEBY0474',\n",
       " 'DEBY0475',\n",
       " 'DEBY0476',\n",
       " 'DEBY0478',\n",
       " 'DEBY0479',\n",
       " 'DEBY0481',\n",
       " 'DEBY0485',\n",
       " 'DEBY0487',\n",
       " 'DEBY0488',\n",
       " 'DEBY0490',\n",
       " 'DEBY0491',\n",
       " 'DEBY0493',\n",
       " 'DEBY0494',\n",
       " 'DEBY0495',\n",
       " 'DEBY0497',\n",
       " 'DEBY0498',\n",
       " 'DEBY0500',\n",
       " 'DEBY0510',\n",
       " 'DEBY0511',\n",
       " 'DEBY0514',\n",
       " 'DEBY0515',\n",
       " 'DEBY0516',\n",
       " 'DEBY0520',\n",
       " 'DEBY0523',\n",
       " 'DEBY0526',\n",
       " 'DEBY0529',\n",
       " 'DEBY0532',\n",
       " 'DEBY0534',\n",
       " 'DEBY0536',\n",
       " 'DEBY0537',\n",
       " 'DEBY0539',\n",
       " 'DEBY0541',\n",
       " 'DEBY0542',\n",
       " 'DEBY0545',\n",
       " 'DEBY0546',\n",
       " 'DEBY0547',\n",
       " 'DEBY0549',\n",
       " 'DEBY0550',\n",
       " 'DEBY0554',\n",
       " 'DEBY0556',\n",
       " 'DEBY0557',\n",
       " 'DEBY0558',\n",
       " 'DEBY0560',\n",
       " 'DEBY0562',\n",
       " 'DEBY0563',\n",
       " 'DEBY0566',\n",
       " 'DEBY0567',\n",
       " 'DEBY0569',\n",
       " 'DEBY0570',\n",
       " 'DEBY0572',\n",
       " 'DEBY0578',\n",
       " 'DEBY0580',\n",
       " 'DEBY0582',\n",
       " 'DEBY0583',\n",
       " 'DEBY0584',\n",
       " 'DEBY0585',\n",
       " 'DEBY0586',\n",
       " 'DEBY0589',\n",
       " 'DEBY0596',\n",
       " 'DEBY0602',\n",
       " 'DEBY0603',\n",
       " 'DEBY0606',\n",
       " 'DEBY0607',\n",
       " 'DEBY0608',\n",
       " 'DEBY0612',\n",
       " 'DEBY0616',\n",
       " 'DEBY0620',\n",
       " 'DEBY0622',\n",
       " 'DEBY0623',\n",
       " 'DEBY0624',\n",
       " 'DEBY0626',\n",
       " 'DEBY0628',\n",
       " 'DEBY0630',\n",
       " 'DEBY0631',\n",
       " 'DEBY0632',\n",
       " 'DEBY0633',\n",
       " 'DEBY0635',\n",
       " 'DEBY0637',\n",
       " 'DEBY0641',\n",
       " 'DEBY0642',\n",
       " 'DEBY0643',\n",
       " 'DEBY0644',\n",
       " 'DEBY0645',\n",
       " 'DEBY0647',\n",
       " 'DEBY0648',\n",
       " 'DEBY0649',\n",
       " 'DEBY0651',\n",
       " 'DEBY0652',\n",
       " 'DEBY0653',\n",
       " 'DEBY0655',\n",
       " 'DEBY0657',\n",
       " 'DEBY0660',\n",
       " 'DEBY0662',\n",
       " 'DEBY0666',\n",
       " 'DEBY0667',\n",
       " 'DEBY0673',\n",
       " 'DEBY0675',\n",
       " 'DEBY0676',\n",
       " 'DEBY0677',\n",
       " 'DEBY0679',\n",
       " 'DEBY0680',\n",
       " 'DEBY0681',\n",
       " 'DEBY0682',\n",
       " 'DEBY0687',\n",
       " 'DEBY0688',\n",
       " 'DEBY0689',\n",
       " 'DEBY0690',\n",
       " 'DEBY0691',\n",
       " 'DEBY0692',\n",
       " 'DEBY0693',\n",
       " 'DEBY0694',\n",
       " 'DEBY0695',\n",
       " 'DEBY0696',\n",
       " 'DEBY0698',\n",
       " 'DEBY0702',\n",
       " 'DEBY0704',\n",
       " 'DEBY0707',\n",
       " 'DEBY0708',\n",
       " 'DEBY0709',\n",
       " 'DEBY0713',\n",
       " 'DEBY0718',\n",
       " 'DEBY0722',\n",
       " 'DEBY0725',\n",
       " 'DEBY0726',\n",
       " 'DEBY0728',\n",
       " 'DEBY0729',\n",
       " 'DEBY0734',\n",
       " 'DEBY0735',\n",
       " 'DEBY0736',\n",
       " 'DEBY0737',\n",
       " 'DEBY0739',\n",
       " 'DEBY0741',\n",
       " 'DEBY0742',\n",
       " 'DEBY0743',\n",
       " 'DEBY0746',\n",
       " 'DEBY0747',\n",
       " 'DEBY0748',\n",
       " 'DEBY0749',\n",
       " 'DEBY0752',\n",
       " 'DEBY0753',\n",
       " 'DEBY0754',\n",
       " 'DEBY0755',\n",
       " 'DEBY0757',\n",
       " 'DEBY0758',\n",
       " 'DEBY0760',\n",
       " 'DEBY0761',\n",
       " 'DEBY0762',\n",
       " 'DEBY0764',\n",
       " 'DEBY0765',\n",
       " 'DEBY0766',\n",
       " 'DEBY0768',\n",
       " 'DEBY0770',\n",
       " 'DEBY0771',\n",
       " 'DEBY0774',\n",
       " 'DEBY0776',\n",
       " 'DEBY0777',\n",
       " 'DEBY0778',\n",
       " 'DEBY0779',\n",
       " 'DEBY0780',\n",
       " 'DEBY0785',\n",
       " 'DEBY0790',\n",
       " 'DEBY0792',\n",
       " 'DEBY0794',\n",
       " 'DEBY0798',\n",
       " 'DEBY0805',\n",
       " 'DEBY0806',\n",
       " 'DEBY0807',\n",
       " 'DEBY0808',\n",
       " 'DEBY0809',\n",
       " 'DEBY0810',\n",
       " 'DEBY0811',\n",
       " 'DEBY0814',\n",
       " 'DEBY0815',\n",
       " 'DEBY0816',\n",
       " 'DEBY0819',\n",
       " 'DEBY0820',\n",
       " 'DEBY0821',\n",
       " 'DEBY0826',\n",
       " 'DEBY0828',\n",
       " 'DEBY0829',\n",
       " 'DEBY0830',\n",
       " 'DEBY0837',\n",
       " 'DEBY0844',\n",
       " 'DEBY0845',\n",
       " 'DEBY0847',\n",
       " 'DEBY0848',\n",
       " 'DEBY0850',\n",
       " 'DEBY0852',\n",
       " 'DEBY0853',\n",
       " 'DEBY0854',\n",
       " 'DEBY0856',\n",
       " 'DEBY0857',\n",
       " 'DEBY0858',\n",
       " 'DEBY0859',\n",
       " 'DEBY0862',\n",
       " 'DEBY0863',\n",
       " 'DEBY0864',\n",
       " 'DEBY0869',\n",
       " 'DEBY0871',\n",
       " 'DEBY0873',\n",
       " 'DEBY0876',\n",
       " 'DEBY0877',\n",
       " 'DEBY0878',\n",
       " 'DEBY0879',\n",
       " 'DEBY0880',\n",
       " 'DEBY0881',\n",
       " 'DEBY0885',\n",
       " 'DEBY0887',\n",
       " 'DEBY0888',\n",
       " 'DEBY0890',\n",
       " 'DEBY0895',\n",
       " 'DEBY0896',\n",
       " 'DEBY0897',\n",
       " 'DEBY0901',\n",
       " 'DEHE0902',\n",
       " 'DEHE0904',\n",
       " 'DEHE0905',\n",
       " 'DEHE0906',\n",
       " 'DEHE0907',\n",
       " 'DEHE0909',\n",
       " 'DEHE0911',\n",
       " 'DEHE0912',\n",
       " 'DEHE0913',\n",
       " 'DEHE0914',\n",
       " 'DEHE0915',\n",
       " 'DEHE0917',\n",
       " 'DEHE0918',\n",
       " ...]"
      ]
     },
     "execution_count": 66,
     "metadata": {},
     "output_type": "execute_result"
    }
   ],
   "source": [
    "list_catchments1 = pd.read_csv('data/catchment_list.txt', encoding='utf-8', header=None)\n",
    "list_catchments2 = pd.read_csv('data/catchment_list_DK.txt', encoding='utf-8', header=None)\n",
    "\n",
    "list_catchments = pd.concat([list_catchments1, list_catchments2], ignore_index=True) \n",
    "\n",
    "\n",
    "catchment_list = list_catchments.iloc[:, 0].tolist()  # Assuming there's only one column\n",
    "catchment_list"
   ]
  },
  {
   "cell_type": "code",
   "execution_count": 69,
   "id": "4b821ff2",
   "metadata": {},
   "outputs": [
    {
     "data": {
      "text/plain": [
       "['AT000002',\n",
       " 'AT000003',\n",
       " 'AT000005',\n",
       " 'AT000007',\n",
       " 'AT000010',\n",
       " 'AT000014',\n",
       " 'AT000015',\n",
       " 'AT000016',\n",
       " 'AT000018',\n",
       " 'AT000019',\n",
       " 'AT000021',\n",
       " 'AT000022',\n",
       " 'AT000023',\n",
       " 'AT000027',\n",
       " 'AT000028',\n",
       " 'AT000029',\n",
       " 'AT000030',\n",
       " 'AT000038',\n",
       " 'AT000039',\n",
       " 'AT000040',\n",
       " 'AT000041',\n",
       " 'AT000042',\n",
       " 'AT000043',\n",
       " 'AT000044',\n",
       " 'AT000048',\n",
       " 'AT000049',\n",
       " 'AT000050',\n",
       " 'AT000051',\n",
       " 'AT000052',\n",
       " 'AT000054',\n",
       " 'AT000060',\n",
       " 'AT000062',\n",
       " 'AT000065',\n",
       " 'AT000067',\n",
       " 'AT000068',\n",
       " 'AT000069',\n",
       " 'AT000071',\n",
       " 'AT000072',\n",
       " 'AT000074',\n",
       " 'AT000075',\n",
       " 'AT000076',\n",
       " 'AT000078',\n",
       " 'AT000080',\n",
       " 'AT000081',\n",
       " 'AT000086',\n",
       " 'AT000087',\n",
       " 'AT000089',\n",
       " 'AT000090',\n",
       " 'AT000093',\n",
       " 'AT000094',\n",
       " 'AT000095',\n",
       " 'AT000097',\n",
       " 'AT000098',\n",
       " 'AT000101',\n",
       " 'AT000103',\n",
       " 'AT000105',\n",
       " 'AT000106',\n",
       " 'AT000107',\n",
       " 'AT000111',\n",
       " 'AT000115',\n",
       " 'AT000116',\n",
       " 'AT000117',\n",
       " 'AT000118',\n",
       " 'AT000122',\n",
       " 'AT000123',\n",
       " 'AT000124',\n",
       " 'AT000125',\n",
       " 'AT000129',\n",
       " 'AT000130',\n",
       " 'AT000132',\n",
       " 'AT000133',\n",
       " 'AT000135',\n",
       " 'AT000137',\n",
       " 'AT000138',\n",
       " 'AT000140',\n",
       " 'AT000141',\n",
       " 'AT000142',\n",
       " 'AT000143',\n",
       " 'AT000144',\n",
       " 'AT000146',\n",
       " 'AT000147',\n",
       " 'AT000149',\n",
       " 'AT000150',\n",
       " 'AT000151',\n",
       " 'AT000152',\n",
       " 'AT000153',\n",
       " 'AT000154',\n",
       " 'AT000155',\n",
       " 'AT000156',\n",
       " 'AT000157',\n",
       " 'AT000158',\n",
       " 'AT000159',\n",
       " 'AT000160',\n",
       " 'AT000161',\n",
       " 'AT000162',\n",
       " 'AT000163',\n",
       " 'AT000164',\n",
       " 'AT000165',\n",
       " 'AT000166',\n",
       " 'AT000167',\n",
       " 'AT000168',\n",
       " 'AT000169',\n",
       " 'AT000170',\n",
       " 'AT000171',\n",
       " 'AT000173',\n",
       " 'AT000174',\n",
       " 'AT000175',\n",
       " 'AT000176',\n",
       " 'AT000177',\n",
       " 'AT000178',\n",
       " 'AT000179',\n",
       " 'AT000180',\n",
       " 'AT000181',\n",
       " 'AT000182',\n",
       " 'AT000183',\n",
       " 'AT000184',\n",
       " 'AT000185',\n",
       " 'AT000187',\n",
       " 'AT000188',\n",
       " 'AT000189',\n",
       " 'AT000190',\n",
       " 'AT000191',\n",
       " 'AT000192',\n",
       " 'AT000193',\n",
       " 'AT000194',\n",
       " 'AT000195',\n",
       " 'AT000196',\n",
       " 'AT000197',\n",
       " 'AT000198',\n",
       " 'AT000207',\n",
       " 'AT000208',\n",
       " 'AT000211',\n",
       " 'AT000212',\n",
       " 'AT000213',\n",
       " 'AT000214',\n",
       " 'AT000215',\n",
       " 'AT000217',\n",
       " 'AT000218',\n",
       " 'AT000219',\n",
       " 'AT000220',\n",
       " 'AT000221',\n",
       " 'AT000222',\n",
       " 'AT000223',\n",
       " 'AT000224',\n",
       " 'AT000225',\n",
       " 'AT000226',\n",
       " 'AT000228',\n",
       " 'AT000230',\n",
       " 'AT000231',\n",
       " 'AT000232',\n",
       " 'AT000234',\n",
       " 'AT000235',\n",
       " 'AT000236',\n",
       " 'AT000237',\n",
       " 'AT000238',\n",
       " 'AT000239',\n",
       " 'AT000240',\n",
       " 'AT000242',\n",
       " 'AT000243',\n",
       " 'AT000245',\n",
       " 'AT000247',\n",
       " 'AT000249',\n",
       " 'AT000250',\n",
       " 'AT000252',\n",
       " 'AT000254',\n",
       " 'AT000255',\n",
       " 'AT000256',\n",
       " 'AT000257',\n",
       " 'AT000258',\n",
       " 'AT000259',\n",
       " 'AT000260',\n",
       " 'AT000261',\n",
       " 'AT000268',\n",
       " 'AT000269',\n",
       " 'AT000273',\n",
       " 'AT000275',\n",
       " 'AT000276',\n",
       " 'AT000277',\n",
       " 'AT000278',\n",
       " 'AT000280',\n",
       " 'AT000281',\n",
       " 'AT000282',\n",
       " 'AT000283',\n",
       " 'AT000284',\n",
       " 'AT000285',\n",
       " 'AT000286',\n",
       " 'AT000287',\n",
       " 'AT000288',\n",
       " 'AT000289',\n",
       " 'AT000290',\n",
       " 'AT000291',\n",
       " 'AT000292',\n",
       " 'AT000295',\n",
       " 'AT000297',\n",
       " 'AT000298',\n",
       " 'AT000299',\n",
       " 'AT000300',\n",
       " 'AT000301',\n",
       " 'AT000302',\n",
       " 'AT000303',\n",
       " 'AT000304',\n",
       " 'AT000306',\n",
       " 'AT000308',\n",
       " 'AT000309',\n",
       " 'AT000310',\n",
       " 'AT000311',\n",
       " 'AT000313',\n",
       " 'AT000314',\n",
       " 'AT000315',\n",
       " 'AT000316',\n",
       " 'AT000318',\n",
       " 'AT000319',\n",
       " 'AT000320',\n",
       " 'AT000323',\n",
       " 'AT000324',\n",
       " 'AT000326',\n",
       " 'AT000328',\n",
       " 'AT000329',\n",
       " 'AT000330',\n",
       " 'AT000332',\n",
       " 'AT000333',\n",
       " 'AT000334',\n",
       " 'AT000335',\n",
       " 'AT000336',\n",
       " 'AT000337',\n",
       " 'AT000338',\n",
       " 'AT000340',\n",
       " 'AT000341',\n",
       " 'AT000342',\n",
       " 'AT000343',\n",
       " 'AT000344',\n",
       " 'AT000345',\n",
       " 'AT000346',\n",
       " 'AT000347',\n",
       " 'AT000349',\n",
       " 'AT000351',\n",
       " 'AT000352',\n",
       " 'AT000353',\n",
       " 'AT000354',\n",
       " 'AT000356',\n",
       " 'AT000357',\n",
       " 'AT000358',\n",
       " 'AT000360',\n",
       " 'AT000361',\n",
       " 'AT000363',\n",
       " 'AT000365',\n",
       " 'AT000367',\n",
       " 'AT000368',\n",
       " 'AT000372',\n",
       " 'AT000373',\n",
       " 'AT000374',\n",
       " 'AT000375',\n",
       " 'AT000378',\n",
       " 'AT000380',\n",
       " 'AT000382',\n",
       " 'AT000383',\n",
       " 'AT000386',\n",
       " 'AT000391',\n",
       " 'AT000392',\n",
       " 'AT000394',\n",
       " 'AT000397',\n",
       " 'AT000398',\n",
       " 'AT000399',\n",
       " 'AT000400',\n",
       " 'AT000401',\n",
       " 'AT000402',\n",
       " 'AT000403',\n",
       " 'AT000404',\n",
       " 'AT000406',\n",
       " 'AT000407',\n",
       " 'AT000408',\n",
       " 'AT000409',\n",
       " 'AT000410',\n",
       " 'AT000411',\n",
       " 'AT000417',\n",
       " 'AT000418',\n",
       " 'AT000423',\n",
       " 'AT000424',\n",
       " 'AT000425',\n",
       " 'AT000426',\n",
       " 'AT000427',\n",
       " 'AT000428',\n",
       " 'AT000429',\n",
       " 'AT000431',\n",
       " 'AT000432',\n",
       " 'AT000433',\n",
       " 'AT000434',\n",
       " 'AT000435',\n",
       " 'AT000437',\n",
       " 'AT000438',\n",
       " 'AT000439',\n",
       " 'AT000440',\n",
       " 'AT000441',\n",
       " 'AT000442',\n",
       " 'AT000443',\n",
       " 'AT000444',\n",
       " 'AT000445',\n",
       " 'AT000446',\n",
       " 'AT000447',\n",
       " 'AT000448',\n",
       " 'AT000449',\n",
       " 'AT000450',\n",
       " 'AT000451',\n",
       " 'AT000452',\n",
       " 'AT000453',\n",
       " 'AT000455',\n",
       " 'AT000456',\n",
       " 'AT000457',\n",
       " 'AT000458',\n",
       " 'AT000460',\n",
       " 'AT000461',\n",
       " 'AT000462',\n",
       " 'AT000463',\n",
       " 'AT000464',\n",
       " 'AT000465',\n",
       " 'AT000466',\n",
       " 'AT000467',\n",
       " 'AT000468',\n",
       " 'AT000469',\n",
       " 'AT000470',\n",
       " 'AT000471',\n",
       " 'AT000474',\n",
       " 'AT000475',\n",
       " 'AT000477',\n",
       " 'AT000481',\n",
       " 'AT000483',\n",
       " 'AT000485',\n",
       " 'AT000486',\n",
       " 'AT000488',\n",
       " 'AT000489',\n",
       " 'AT000491',\n",
       " 'AT000492',\n",
       " 'AT000493',\n",
       " 'AT000495',\n",
       " 'AT000500',\n",
       " 'AT000502',\n",
       " 'AT000504',\n",
       " 'AT000505',\n",
       " 'AT000507',\n",
       " 'AT000508',\n",
       " 'AT000509',\n",
       " 'AT000510',\n",
       " 'AT000511',\n",
       " 'AT000513',\n",
       " 'AT000514',\n",
       " 'AT000515',\n",
       " 'AT000518',\n",
       " 'AT000521',\n",
       " 'AT000523',\n",
       " 'AT000525',\n",
       " 'AT000528',\n",
       " 'AT000529',\n",
       " 'AT000530',\n",
       " 'AT000531',\n",
       " 'AT000532',\n",
       " 'AT000533',\n",
       " 'AT000534',\n",
       " 'AT000538',\n",
       " 'AT000539',\n",
       " 'AT000540',\n",
       " 'AT000542',\n",
       " 'AT000544',\n",
       " 'AT000545',\n",
       " 'AT000547',\n",
       " 'AT000550',\n",
       " 'AT000551',\n",
       " 'AT000552',\n",
       " 'AT000555',\n",
       " 'AT000557',\n",
       " 'AT000558',\n",
       " 'AT000559',\n",
       " 'AT000560',\n",
       " 'AT000561',\n",
       " 'AT000562',\n",
       " 'AT000563',\n",
       " 'AT000564',\n",
       " 'AT000565',\n",
       " 'AT000566',\n",
       " 'AT000568',\n",
       " 'AT000569',\n",
       " 'AT000570',\n",
       " 'AT000572',\n",
       " 'AT000573',\n",
       " 'AT000575',\n",
       " 'AT000577',\n",
       " 'AT000578',\n",
       " 'AT000579',\n",
       " 'AT000580',\n",
       " 'AT000581',\n",
       " 'AT000583',\n",
       " 'AT000587',\n",
       " 'AT000588',\n",
       " 'AT000591',\n",
       " 'AT000595',\n",
       " 'AT000596',\n",
       " 'AT000597',\n",
       " 'AT000599',\n",
       " 'CH000006',\n",
       " 'CH000010',\n",
       " 'CH000011',\n",
       " 'CH000013',\n",
       " 'CH000014',\n",
       " 'CH000015',\n",
       " 'CH000017',\n",
       " 'CH000018',\n",
       " 'CH000019',\n",
       " 'CH000024',\n",
       " 'CH000025',\n",
       " 'CH000028',\n",
       " 'CH000029',\n",
       " 'CH000030',\n",
       " 'CH000031',\n",
       " 'CH000032',\n",
       " 'CH000034',\n",
       " 'CH000037',\n",
       " 'CH000038',\n",
       " 'CH000039',\n",
       " 'CH000040',\n",
       " 'CH000041',\n",
       " 'CH000043',\n",
       " 'CH000046',\n",
       " 'CH000048',\n",
       " 'CH000049',\n",
       " 'CH000051',\n",
       " 'CH000053',\n",
       " 'CH000054',\n",
       " 'CH000056',\n",
       " 'CH000057',\n",
       " 'CH000059',\n",
       " 'CH000060',\n",
       " 'CH000061',\n",
       " 'CH000062',\n",
       " 'CH000063',\n",
       " 'CH000064',\n",
       " 'CH000066',\n",
       " 'CH000067',\n",
       " 'CH000070',\n",
       " 'CH000071',\n",
       " 'CH000074',\n",
       " 'CH000075',\n",
       " 'CH000077',\n",
       " 'CH000078',\n",
       " 'CH000080',\n",
       " 'CH000083',\n",
       " 'CH000084',\n",
       " 'CH000087',\n",
       " 'CH000088',\n",
       " 'CH000089',\n",
       " 'CH000090',\n",
       " 'CH000093',\n",
       " 'CH000096',\n",
       " 'CH000097',\n",
       " 'CH000098',\n",
       " 'CH000099',\n",
       " 'CH000100',\n",
       " 'CH000102',\n",
       " 'CH000103',\n",
       " 'CH000104',\n",
       " 'CH000106',\n",
       " 'CH000107',\n",
       " 'CH000108',\n",
       " 'CH000110',\n",
       " 'CH000111',\n",
       " 'CH000112',\n",
       " 'CH000113',\n",
       " 'CH000115',\n",
       " 'CH000117',\n",
       " 'CH000118',\n",
       " 'CH000119',\n",
       " 'CH000120',\n",
       " 'CH000121',\n",
       " 'CH000122',\n",
       " 'CH000123',\n",
       " 'CH000124',\n",
       " 'CH000125',\n",
       " 'CH000127',\n",
       " 'CH000128',\n",
       " 'CH000129',\n",
       " 'CH000130',\n",
       " 'CH000131',\n",
       " 'CH000132',\n",
       " 'CH000133',\n",
       " 'CH000134',\n",
       " 'CH000135',\n",
       " 'CH000136',\n",
       " 'CH000137',\n",
       " 'CH000138',\n",
       " 'CH000140',\n",
       " 'CH000142',\n",
       " 'CH000143',\n",
       " 'CH000144',\n",
       " 'CH000147',\n",
       " 'CH000148',\n",
       " 'CH000149',\n",
       " 'CH000150',\n",
       " 'CH000152',\n",
       " 'CH000154',\n",
       " 'CH000155',\n",
       " 'CH000156',\n",
       " 'CH000158',\n",
       " 'CH000159',\n",
       " 'CH000160',\n",
       " 'CH000161',\n",
       " 'CH000162',\n",
       " 'CH000164',\n",
       " 'CH000165',\n",
       " 'CH000166',\n",
       " 'CH000167',\n",
       " 'CH000168',\n",
       " 'CH000169',\n",
       " 'CH000170',\n",
       " 'CH000171',\n",
       " 'CH000172',\n",
       " 'CH000173',\n",
       " 'CH000174',\n",
       " 'CH000176',\n",
       " 'CH000177',\n",
       " 'CH000181',\n",
       " 'CH000193',\n",
       " 'CH000194',\n",
       " 'CH000200',\n",
       " 'CH000230',\n",
       " 'CH000231',\n",
       " 'CH000232',\n",
       " 'CH000233',\n",
       " 'CH000234',\n",
       " 'CH000235',\n",
       " 'CH000236',\n",
       " 'CH000237',\n",
       " 'CH000238',\n",
       " 'CH000240',\n",
       " 'CH000241',\n",
       " 'CH000242',\n",
       " 'CH000243',\n",
       " 'CH000244',\n",
       " 'CH000245',\n",
       " 'CH000246',\n",
       " 'CH000247',\n",
       " 'CH000249',\n",
       " 'CH000250',\n",
       " 'CH000252',\n",
       " 'CH000254',\n",
       " 'CH000255',\n",
       " 'CH000256',\n",
       " 'CH000258',\n",
       " 'CH000264',\n",
       " 'CH000267',\n",
       " 'CH000269',\n",
       " 'CH000270',\n",
       " 'CH000272',\n",
       " 'CH000274',\n",
       " 'CH000275',\n",
       " 'CH000281',\n",
       " 'CH000287',\n",
       " 'DEBB0002',\n",
       " 'DEBB0004',\n",
       " 'DEBB0009',\n",
       " 'DEBB0022',\n",
       " 'DEBB0027',\n",
       " 'DEBB0034',\n",
       " 'DEBB0036',\n",
       " 'DEBB0039',\n",
       " 'DEBB0042',\n",
       " 'DEBB0044',\n",
       " 'DEBB0052',\n",
       " 'DEBB0059',\n",
       " 'DEBB0068',\n",
       " 'DEBB0077',\n",
       " 'DEBB0081',\n",
       " 'DEBB0088',\n",
       " 'DEBB0091',\n",
       " 'DEBB0093',\n",
       " 'DEBB0095',\n",
       " 'DEBB0097',\n",
       " 'DEBB0101',\n",
       " 'DEBB0102',\n",
       " 'DEBB0103',\n",
       " 'DEBB0105',\n",
       " 'DEBB0115',\n",
       " 'DEBB0132',\n",
       " 'DEBB0133',\n",
       " 'DEBB0136',\n",
       " 'DEBB0137',\n",
       " 'DEBB0138',\n",
       " 'DEBB0139',\n",
       " 'DEBB0140',\n",
       " 'DEBB0142',\n",
       " 'DEBB0143',\n",
       " 'DEBB0144',\n",
       " 'DEBB0147',\n",
       " 'DEBB0153',\n",
       " 'DEBW0167',\n",
       " 'DEBW0168',\n",
       " 'DEBW0170',\n",
       " 'DEBW0171',\n",
       " 'DEBW0172',\n",
       " 'DEBW0173',\n",
       " 'DEBW0174',\n",
       " 'DEBW0175',\n",
       " 'DEBW0176',\n",
       " 'DEBW0177',\n",
       " 'DEBW0178',\n",
       " 'DEBW0179',\n",
       " 'DEBW0183',\n",
       " 'DEBW0188',\n",
       " 'DEBW0191',\n",
       " 'DEBW0193',\n",
       " 'DEBW0194',\n",
       " 'DEBW0195',\n",
       " 'DEBW0197',\n",
       " 'DEBW0198',\n",
       " 'DEBW0199',\n",
       " 'DEBW0202',\n",
       " 'DEBW0205',\n",
       " 'DEBW0206',\n",
       " 'DEBW0207',\n",
       " 'DEBW0209',\n",
       " 'DEBW0211',\n",
       " 'DEBW0213',\n",
       " 'DEBW0215',\n",
       " 'DEBW0216',\n",
       " 'DEBW0218',\n",
       " 'DEBW0220',\n",
       " 'DEBW0221',\n",
       " 'DEBW0222',\n",
       " 'DEBW0223',\n",
       " 'DEBW0224',\n",
       " 'DEBW0225',\n",
       " 'DEBW0226',\n",
       " 'DEBW0227',\n",
       " 'DEBW0230',\n",
       " 'DEBW0231',\n",
       " 'DEBW0234',\n",
       " 'DEBW0235',\n",
       " 'DEBW0236',\n",
       " 'DEBW0239',\n",
       " 'DEBW0240',\n",
       " 'DEBW0242',\n",
       " 'DEBW0244',\n",
       " 'DEBW0245',\n",
       " 'DEBW0247',\n",
       " 'DEBW0248',\n",
       " 'DEBW0249',\n",
       " 'DEBW0251',\n",
       " 'DEBW0252',\n",
       " 'DEBW0255',\n",
       " 'DEBW0256',\n",
       " 'DEBW0257',\n",
       " 'DEBW0259',\n",
       " 'DEBW0261',\n",
       " 'DEBW0262',\n",
       " 'DEBW0266',\n",
       " 'DEBW0267',\n",
       " 'DEBW0268',\n",
       " 'DEBW0269',\n",
       " 'DEBW0270',\n",
       " 'DEBW0271',\n",
       " 'DEBW0272',\n",
       " 'DEBW0273',\n",
       " 'DEBW0274',\n",
       " 'DEBW0275',\n",
       " 'DEBW0276',\n",
       " 'DEBW0279',\n",
       " 'DEBW0280',\n",
       " 'DEBW0281',\n",
       " 'DEBW0282',\n",
       " 'DEBW0283',\n",
       " 'DEBW0286',\n",
       " 'DEBW0287',\n",
       " 'DEBW0288',\n",
       " 'DEBW0290',\n",
       " 'DEBW0292',\n",
       " 'DEBW0293',\n",
       " 'DEBW0295',\n",
       " 'DEBW0302',\n",
       " 'DEBW0304',\n",
       " 'DEBW0305',\n",
       " 'DEBW0309',\n",
       " 'DEBW0310',\n",
       " 'DEBW0311',\n",
       " 'DEBW0313',\n",
       " 'DEBW0314',\n",
       " 'DEBW0316',\n",
       " 'DEBW0317',\n",
       " 'DEBW0318',\n",
       " 'DEBW0319',\n",
       " 'DEBW0320',\n",
       " 'DEBW0321',\n",
       " 'DEBW0322',\n",
       " 'DEBW0323',\n",
       " 'DEBW0324',\n",
       " 'DEBW0325',\n",
       " 'DEBW0327',\n",
       " 'DEBW0328',\n",
       " 'DEBW0329',\n",
       " 'DEBW0330',\n",
       " 'DEBW0331',\n",
       " 'DEBW0335',\n",
       " 'DEBW0336',\n",
       " 'DEBW0337',\n",
       " 'DEBW0339',\n",
       " 'DEBW0340',\n",
       " 'DEBW0341',\n",
       " 'DEBW0342',\n",
       " 'DEBW0343',\n",
       " 'DEBW0344',\n",
       " 'DEBW0346',\n",
       " 'DEBW0347',\n",
       " 'DEBW0356',\n",
       " 'DEBW0358',\n",
       " 'DEBW0359',\n",
       " 'DEBW0360',\n",
       " 'DEBW0361',\n",
       " 'DEBW0362',\n",
       " 'DEBW0363',\n",
       " 'DEBW0364',\n",
       " 'DEBW0368',\n",
       " 'DEBW0369',\n",
       " 'DEBW0370',\n",
       " 'DEBW0372',\n",
       " 'DEBW0373',\n",
       " 'DEBW0374',\n",
       " 'DEBW0380',\n",
       " 'DEBW0381',\n",
       " 'DEBW0382',\n",
       " 'DEBW0386',\n",
       " 'DEBW0387',\n",
       " 'DEBW0388',\n",
       " 'DEBW0389',\n",
       " 'DEBW0392',\n",
       " 'DEBY0394',\n",
       " 'DEBY0395',\n",
       " 'DEBY0397',\n",
       " 'DEBY0398',\n",
       " 'DEBY0401',\n",
       " 'DEBY0402',\n",
       " 'DEBY0405',\n",
       " 'DEBY0407',\n",
       " 'DEBY0408',\n",
       " 'DEBY0409',\n",
       " 'DEBY0412',\n",
       " 'DEBY0413',\n",
       " 'DEBY0414',\n",
       " 'DEBY0415',\n",
       " 'DEBY0417',\n",
       " 'DEBY0418',\n",
       " 'DEBY0419',\n",
       " 'DEBY0420',\n",
       " 'DEBY0423',\n",
       " 'DEBY0425',\n",
       " 'DEBY0428',\n",
       " 'DEBY0429',\n",
       " 'DEBY0433',\n",
       " 'DEBY0437',\n",
       " 'DEBY0438',\n",
       " 'DEBY0439',\n",
       " 'DEBY0443',\n",
       " 'DEBY0444',\n",
       " 'DEBY0445',\n",
       " 'DEBY0447',\n",
       " 'DEBY0448',\n",
       " 'DEBY0449',\n",
       " 'DEBY0451',\n",
       " 'DEBY0454',\n",
       " 'DEBY0457',\n",
       " 'DEBY0458',\n",
       " 'DEBY0460',\n",
       " 'DEBY0461',\n",
       " 'DEBY0465',\n",
       " 'DEBY0466',\n",
       " 'DEBY0467',\n",
       " 'DEBY0472',\n",
       " 'DEBY0473',\n",
       " 'DEBY0474',\n",
       " 'DEBY0475',\n",
       " 'DEBY0476',\n",
       " 'DEBY0478',\n",
       " 'DEBY0479',\n",
       " 'DEBY0481',\n",
       " 'DEBY0485',\n",
       " 'DEBY0487',\n",
       " 'DEBY0488',\n",
       " 'DEBY0490',\n",
       " 'DEBY0491',\n",
       " 'DEBY0493',\n",
       " 'DEBY0494',\n",
       " 'DEBY0495',\n",
       " 'DEBY0497',\n",
       " 'DEBY0498',\n",
       " 'DEBY0500',\n",
       " 'DEBY0510',\n",
       " 'DEBY0511',\n",
       " 'DEBY0514',\n",
       " 'DEBY0515',\n",
       " 'DEBY0516',\n",
       " 'DEBY0520',\n",
       " 'DEBY0523',\n",
       " 'DEBY0526',\n",
       " 'DEBY0529',\n",
       " 'DEBY0532',\n",
       " 'DEBY0534',\n",
       " 'DEBY0536',\n",
       " 'DEBY0537',\n",
       " 'DEBY0539',\n",
       " 'DEBY0541',\n",
       " 'DEBY0542',\n",
       " 'DEBY0545',\n",
       " 'DEBY0546',\n",
       " 'DEBY0547',\n",
       " 'DEBY0549',\n",
       " 'DEBY0550',\n",
       " 'DEBY0554',\n",
       " 'DEBY0556',\n",
       " 'DEBY0557',\n",
       " 'DEBY0558',\n",
       " 'DEBY0560',\n",
       " 'DEBY0562',\n",
       " 'DEBY0563',\n",
       " 'DEBY0566',\n",
       " 'DEBY0567',\n",
       " 'DEBY0569',\n",
       " 'DEBY0570',\n",
       " 'DEBY0572',\n",
       " 'DEBY0578',\n",
       " 'DEBY0580',\n",
       " 'DEBY0582',\n",
       " 'DEBY0583',\n",
       " 'DEBY0584',\n",
       " 'DEBY0585',\n",
       " 'DEBY0586',\n",
       " 'DEBY0589',\n",
       " 'DEBY0596',\n",
       " 'DEBY0602',\n",
       " 'DEBY0603',\n",
       " 'DEBY0606',\n",
       " 'DEBY0607',\n",
       " 'DEBY0608',\n",
       " 'DEBY0612',\n",
       " 'DEBY0616',\n",
       " 'DEBY0620',\n",
       " 'DEBY0622',\n",
       " 'DEBY0623',\n",
       " 'DEBY0624',\n",
       " 'DEBY0626',\n",
       " 'DEBY0628',\n",
       " 'DEBY0630',\n",
       " 'DEBY0631',\n",
       " 'DEBY0632',\n",
       " 'DEBY0633',\n",
       " 'DEBY0635',\n",
       " 'DEBY0637',\n",
       " 'DEBY0641',\n",
       " 'DEBY0642',\n",
       " 'DEBY0643',\n",
       " 'DEBY0644',\n",
       " 'DEBY0645',\n",
       " 'DEBY0647',\n",
       " 'DEBY0648',\n",
       " 'DEBY0649',\n",
       " 'DEBY0651',\n",
       " 'DEBY0652',\n",
       " 'DEBY0653',\n",
       " 'DEBY0655',\n",
       " 'DEBY0657',\n",
       " 'DEBY0660',\n",
       " 'DEBY0662',\n",
       " 'DEBY0666',\n",
       " 'DEBY0667',\n",
       " 'DEBY0673',\n",
       " 'DEBY0675',\n",
       " 'DEBY0676',\n",
       " 'DEBY0677',\n",
       " 'DEBY0679',\n",
       " 'DEBY0680',\n",
       " 'DEBY0681',\n",
       " 'DEBY0682',\n",
       " 'DEBY0687',\n",
       " 'DEBY0688',\n",
       " 'DEBY0689',\n",
       " 'DEBY0690',\n",
       " 'DEBY0691',\n",
       " 'DEBY0692',\n",
       " 'DEBY0693',\n",
       " 'DEBY0694',\n",
       " 'DEBY0695',\n",
       " 'DEBY0696',\n",
       " 'DEBY0698',\n",
       " 'DEBY0702',\n",
       " 'DEBY0704',\n",
       " 'DEBY0707',\n",
       " 'DEBY0708',\n",
       " 'DEBY0709',\n",
       " 'DEBY0713',\n",
       " 'DEBY0718',\n",
       " 'DEBY0722',\n",
       " 'DEBY0725',\n",
       " 'DEBY0726',\n",
       " 'DEBY0728',\n",
       " 'DEBY0729',\n",
       " 'DEBY0734',\n",
       " 'DEBY0735',\n",
       " 'DEBY0736',\n",
       " 'DEBY0737',\n",
       " 'DEBY0739',\n",
       " 'DEBY0741',\n",
       " 'DEBY0742',\n",
       " 'DEBY0743',\n",
       " 'DEBY0746',\n",
       " 'DEBY0747',\n",
       " 'DEBY0748',\n",
       " 'DEBY0749',\n",
       " 'DEBY0752',\n",
       " 'DEBY0753',\n",
       " 'DEBY0754',\n",
       " 'DEBY0755',\n",
       " 'DEBY0757',\n",
       " 'DEBY0758',\n",
       " 'DEBY0760',\n",
       " 'DEBY0761',\n",
       " 'DEBY0762',\n",
       " 'DEBY0764',\n",
       " 'DEBY0765',\n",
       " 'DEBY0766',\n",
       " 'DEBY0768',\n",
       " 'DEBY0770',\n",
       " 'DEBY0771',\n",
       " 'DEBY0774',\n",
       " 'DEBY0776',\n",
       " 'DEBY0777',\n",
       " 'DEBY0778',\n",
       " 'DEBY0779',\n",
       " 'DEBY0780',\n",
       " 'DEBY0785',\n",
       " 'DEBY0790',\n",
       " 'DEBY0792',\n",
       " 'DEBY0794',\n",
       " 'DEBY0798',\n",
       " 'DEBY0805',\n",
       " 'DEBY0806',\n",
       " 'DEBY0807',\n",
       " 'DEBY0808',\n",
       " 'DEBY0809',\n",
       " 'DEBY0810',\n",
       " 'DEBY0811',\n",
       " 'DEBY0814',\n",
       " 'DEBY0815',\n",
       " 'DEBY0816',\n",
       " 'DEBY0819',\n",
       " 'DEBY0820',\n",
       " 'DEBY0821',\n",
       " 'DEBY0826',\n",
       " 'DEBY0828',\n",
       " 'DEBY0829',\n",
       " 'DEBY0830',\n",
       " 'DEBY0837',\n",
       " 'DEBY0844',\n",
       " 'DEBY0845',\n",
       " 'DEBY0847',\n",
       " 'DEBY0848',\n",
       " 'DEBY0850',\n",
       " 'DEBY0852',\n",
       " 'DEBY0853',\n",
       " 'DEBY0854',\n",
       " 'DEBY0856',\n",
       " 'DEBY0857',\n",
       " 'DEBY0858',\n",
       " 'DEBY0859',\n",
       " 'DEBY0862',\n",
       " 'DEBY0863',\n",
       " 'DEBY0864',\n",
       " 'DEBY0869',\n",
       " 'DEBY0871',\n",
       " 'DEBY0873',\n",
       " 'DEBY0876',\n",
       " 'DEBY0877',\n",
       " 'DEBY0878',\n",
       " 'DEBY0879',\n",
       " 'DEBY0880',\n",
       " 'DEBY0881',\n",
       " 'DEBY0885',\n",
       " 'DEBY0887',\n",
       " 'DEBY0888',\n",
       " 'DEBY0890',\n",
       " 'DEBY0895',\n",
       " 'DEBY0896',\n",
       " 'DEBY0897',\n",
       " 'DEBY0901',\n",
       " 'DEHE0902',\n",
       " 'DEHE0904',\n",
       " 'DEHE0905',\n",
       " 'DEHE0906',\n",
       " 'DEHE0907',\n",
       " 'DEHE0909',\n",
       " 'DEHE0911',\n",
       " 'DEHE0912',\n",
       " 'DEHE0913',\n",
       " 'DEHE0914',\n",
       " 'DEHE0915',\n",
       " 'DEHE0917',\n",
       " 'DEHE0918',\n",
       " ...]"
      ]
     },
     "execution_count": 69,
     "metadata": {},
     "output_type": "execute_result"
    }
   ],
   "source": [
    "catchment_list_CZ = network_estreams_filtered_quality_eobs.index.tolist()\n",
    "\n",
    "catchment_list = catchment_list + catchment_list_CZ\n",
    "\n",
    "catchment_list"
   ]
  },
  {
   "cell_type": "code",
   "execution_count": 70,
   "id": "c3d84df1",
   "metadata": {},
   "outputs": [
    {
     "data": {
      "text/html": [
       "<div>\n",
       "<style scoped>\n",
       "    .dataframe tbody tr th:only-of-type {\n",
       "        vertical-align: middle;\n",
       "    }\n",
       "\n",
       "    .dataframe tbody tr th {\n",
       "        vertical-align: top;\n",
       "    }\n",
       "\n",
       "    .dataframe thead th {\n",
       "        text-align: right;\n",
       "    }\n",
       "</style>\n",
       "<table border=\"1\" class=\"dataframe\">\n",
       "  <thead>\n",
       "    <tr style=\"text-align: right;\">\n",
       "      <th></th>\n",
       "      <th>gauge_id</th>\n",
       "      <th>gauge_name</th>\n",
       "      <th>gauge_country</th>\n",
       "      <th>gauge_provider</th>\n",
       "      <th>river</th>\n",
       "      <th>lon_snap</th>\n",
       "      <th>lat_snap</th>\n",
       "      <th>lon</th>\n",
       "      <th>lat</th>\n",
       "      <th>elevation</th>\n",
       "      <th>...</th>\n",
       "      <th>num_continuous_days</th>\n",
       "      <th>num_days_gaps</th>\n",
       "      <th>num_days_reliable</th>\n",
       "      <th>num_days_noflag</th>\n",
       "      <th>num_days_suspect</th>\n",
       "      <th>gauge_flag</th>\n",
       "      <th>duplicated_suspect</th>\n",
       "      <th>watershed_group</th>\n",
       "      <th>gauges_upstream</th>\n",
       "      <th>nested_catchments</th>\n",
       "    </tr>\n",
       "    <tr>\n",
       "      <th>basin_id</th>\n",
       "      <th></th>\n",
       "      <th></th>\n",
       "      <th></th>\n",
       "      <th></th>\n",
       "      <th></th>\n",
       "      <th></th>\n",
       "      <th></th>\n",
       "      <th></th>\n",
       "      <th></th>\n",
       "      <th></th>\n",
       "      <th></th>\n",
       "      <th></th>\n",
       "      <th></th>\n",
       "      <th></th>\n",
       "      <th></th>\n",
       "      <th></th>\n",
       "      <th></th>\n",
       "      <th></th>\n",
       "      <th></th>\n",
       "      <th></th>\n",
       "      <th></th>\n",
       "    </tr>\n",
       "  </thead>\n",
       "  <tbody>\n",
       "    <tr>\n",
       "      <th>AT000002</th>\n",
       "      <td>200048</td>\n",
       "      <td>Schruns (Vonbunweg)</td>\n",
       "      <td>AT</td>\n",
       "      <td>AT_EHYD</td>\n",
       "      <td>Litz</td>\n",
       "      <td>9.913677</td>\n",
       "      <td>47.080301</td>\n",
       "      <td>9.913677</td>\n",
       "      <td>47.080301</td>\n",
       "      <td>673</td>\n",
       "      <td>...</td>\n",
       "      <td>23103</td>\n",
       "      <td>0.0</td>\n",
       "      <td>0.0</td>\n",
       "      <td>23103.0</td>\n",
       "      <td>0.0</td>\n",
       "      <td>B</td>\n",
       "      <td>['CH000221']</td>\n",
       "      <td>1</td>\n",
       "      <td>1</td>\n",
       "      <td>['AT000002']</td>\n",
       "    </tr>\n",
       "    <tr>\n",
       "      <th>AT000003</th>\n",
       "      <td>231662</td>\n",
       "      <td>Loruens-Aeule</td>\n",
       "      <td>AT</td>\n",
       "      <td>AT_EHYD</td>\n",
       "      <td>Ill</td>\n",
       "      <td>9.847765</td>\n",
       "      <td>47.132821</td>\n",
       "      <td>9.847765</td>\n",
       "      <td>47.132821</td>\n",
       "      <td>579</td>\n",
       "      <td>...</td>\n",
       "      <td>13513</td>\n",
       "      <td>0.0</td>\n",
       "      <td>0.0</td>\n",
       "      <td>13513.0</td>\n",
       "      <td>0.0</td>\n",
       "      <td>B</td>\n",
       "      <td>['CH000215']</td>\n",
       "      <td>1</td>\n",
       "      <td>2</td>\n",
       "      <td>['AT000002', 'AT000003', 'CH000221']</td>\n",
       "    </tr>\n",
       "    <tr>\n",
       "      <th>AT000005</th>\n",
       "      <td>200097</td>\n",
       "      <td>Buers (Bruecke L82)</td>\n",
       "      <td>AT</td>\n",
       "      <td>AT_EHYD</td>\n",
       "      <td>Alvier</td>\n",
       "      <td>9.802668</td>\n",
       "      <td>47.150770</td>\n",
       "      <td>9.802668</td>\n",
       "      <td>47.150770</td>\n",
       "      <td>564</td>\n",
       "      <td>...</td>\n",
       "      <td>10957</td>\n",
       "      <td>0.0</td>\n",
       "      <td>0.0</td>\n",
       "      <td>10957.0</td>\n",
       "      <td>0.0</td>\n",
       "      <td>B</td>\n",
       "      <td>['CH000214']</td>\n",
       "      <td>1</td>\n",
       "      <td>3</td>\n",
       "      <td>['AT000005', 'CH000214']</td>\n",
       "    </tr>\n",
       "    <tr>\n",
       "      <th>AT000007</th>\n",
       "      <td>231688</td>\n",
       "      <td>Beschling</td>\n",
       "      <td>AT</td>\n",
       "      <td>AT_EHYD</td>\n",
       "      <td>Ill</td>\n",
       "      <td>9.678850</td>\n",
       "      <td>47.200301</td>\n",
       "      <td>9.678850</td>\n",
       "      <td>47.200301</td>\n",
       "      <td>485</td>\n",
       "      <td>...</td>\n",
       "      <td>13514</td>\n",
       "      <td>0.0</td>\n",
       "      <td>0.0</td>\n",
       "      <td>13514.0</td>\n",
       "      <td>0.0</td>\n",
       "      <td>B</td>\n",
       "      <td>['CH000205']</td>\n",
       "      <td>1</td>\n",
       "      <td>8</td>\n",
       "      <td>['AT000002', 'AT000003', 'AT000004', 'AT000005...</td>\n",
       "    </tr>\n",
       "    <tr>\n",
       "      <th>AT000010</th>\n",
       "      <td>200154</td>\n",
       "      <td>Laterns</td>\n",
       "      <td>AT</td>\n",
       "      <td>AT_EHYD</td>\n",
       "      <td>Frutz</td>\n",
       "      <td>9.728853</td>\n",
       "      <td>47.256933</td>\n",
       "      <td>9.728853</td>\n",
       "      <td>47.256933</td>\n",
       "      <td>831</td>\n",
       "      <td>...</td>\n",
       "      <td>10517</td>\n",
       "      <td>3.0</td>\n",
       "      <td>0.0</td>\n",
       "      <td>24104.0</td>\n",
       "      <td>0.0</td>\n",
       "      <td>B</td>\n",
       "      <td>['CH000209']</td>\n",
       "      <td>1</td>\n",
       "      <td>1</td>\n",
       "      <td>['AT000010']</td>\n",
       "    </tr>\n",
       "    <tr>\n",
       "      <th>...</th>\n",
       "      <td>...</td>\n",
       "      <td>...</td>\n",
       "      <td>...</td>\n",
       "      <td>...</td>\n",
       "      <td>...</td>\n",
       "      <td>...</td>\n",
       "      <td>...</td>\n",
       "      <td>...</td>\n",
       "      <td>...</td>\n",
       "      <td>...</td>\n",
       "      <td>...</td>\n",
       "      <td>...</td>\n",
       "      <td>...</td>\n",
       "      <td>...</td>\n",
       "      <td>...</td>\n",
       "      <td>...</td>\n",
       "      <td>...</td>\n",
       "      <td>...</td>\n",
       "      <td>...</td>\n",
       "      <td>...</td>\n",
       "      <td>...</td>\n",
       "    </tr>\n",
       "    <tr>\n",
       "      <th>CZ000088</th>\n",
       "      <td>92000</td>\n",
       "      <td>Pelešany</td>\n",
       "      <td>CZ</td>\n",
       "      <td>CZ_CHMU</td>\n",
       "      <td>Libuňka</td>\n",
       "      <td>15.170779</td>\n",
       "      <td>50.571139</td>\n",
       "      <td>15.170779</td>\n",
       "      <td>50.571139</td>\n",
       "      <td>NaN</td>\n",
       "      <td>...</td>\n",
       "      <td>14671</td>\n",
       "      <td>0.0</td>\n",
       "      <td>0.0</td>\n",
       "      <td>14671.0</td>\n",
       "      <td>0.0</td>\n",
       "      <td>B</td>\n",
       "      <td>NaN</td>\n",
       "      <td>3</td>\n",
       "      <td>2</td>\n",
       "      <td>['CZ000087', 'CZ000088']</td>\n",
       "    </tr>\n",
       "    <tr>\n",
       "      <th>CZ000288</th>\n",
       "      <td>241000</td>\n",
       "      <td>Srbská Kamenice</td>\n",
       "      <td>CZ</td>\n",
       "      <td>CZ_CHMU</td>\n",
       "      <td>Kamenice</td>\n",
       "      <td>14.351506</td>\n",
       "      <td>50.814043</td>\n",
       "      <td>14.351506</td>\n",
       "      <td>50.814043</td>\n",
       "      <td>NaN</td>\n",
       "      <td>...</td>\n",
       "      <td>13941</td>\n",
       "      <td>0.0</td>\n",
       "      <td>0.0</td>\n",
       "      <td>13941.0</td>\n",
       "      <td>0.0</td>\n",
       "      <td>B</td>\n",
       "      <td>NaN</td>\n",
       "      <td>3</td>\n",
       "      <td>1</td>\n",
       "      <td>['CZ000288']</td>\n",
       "    </tr>\n",
       "    <tr>\n",
       "      <th>CZ000103</th>\n",
       "      <td>109500</td>\n",
       "      <td>Zátoň</td>\n",
       "      <td>CZ</td>\n",
       "      <td>CZ_CHMU</td>\n",
       "      <td>Vltava</td>\n",
       "      <td>14.336846</td>\n",
       "      <td>48.726830</td>\n",
       "      <td>14.336846</td>\n",
       "      <td>48.726830</td>\n",
       "      <td>NaN</td>\n",
       "      <td>...</td>\n",
       "      <td>12114</td>\n",
       "      <td>0.0</td>\n",
       "      <td>0.0</td>\n",
       "      <td>12114.0</td>\n",
       "      <td>0.0</td>\n",
       "      <td>B</td>\n",
       "      <td>NaN</td>\n",
       "      <td>3</td>\n",
       "      <td>5</td>\n",
       "      <td>['CZ000099', 'CZ000100', 'CZ000101', 'CZ000102...</td>\n",
       "    </tr>\n",
       "    <tr>\n",
       "      <th>CZ000253</th>\n",
       "      <td>209100</td>\n",
       "      <td>Chaloupky</td>\n",
       "      <td>CZ</td>\n",
       "      <td>CZ_CHMU</td>\n",
       "      <td>Rolava</td>\n",
       "      <td>12.664795</td>\n",
       "      <td>50.374484</td>\n",
       "      <td>12.664795</td>\n",
       "      <td>50.374484</td>\n",
       "      <td>NaN</td>\n",
       "      <td>...</td>\n",
       "      <td>15036</td>\n",
       "      <td>0.0</td>\n",
       "      <td>0.0</td>\n",
       "      <td>15036.0</td>\n",
       "      <td>0.0</td>\n",
       "      <td>B</td>\n",
       "      <td>NaN</td>\n",
       "      <td>3</td>\n",
       "      <td>1</td>\n",
       "      <td>['CZ000253']</td>\n",
       "    </tr>\n",
       "    <tr>\n",
       "      <th>CZ000512</th>\n",
       "      <td>461000</td>\n",
       "      <td>Rychmanov</td>\n",
       "      <td>CZ</td>\n",
       "      <td>CZ_CHMU</td>\n",
       "      <td>Litava</td>\n",
       "      <td>16.763210</td>\n",
       "      <td>49.103790</td>\n",
       "      <td>16.763210</td>\n",
       "      <td>49.103790</td>\n",
       "      <td>NaN</td>\n",
       "      <td>...</td>\n",
       "      <td>15036</td>\n",
       "      <td>0.0</td>\n",
       "      <td>0.0</td>\n",
       "      <td>15036.0</td>\n",
       "      <td>0.0</td>\n",
       "      <td>B</td>\n",
       "      <td>NaN</td>\n",
       "      <td>2</td>\n",
       "      <td>2</td>\n",
       "      <td>['CZ000511', 'CZ000512']</td>\n",
       "    </tr>\n",
       "  </tbody>\n",
       "</table>\n",
       "<p>3346 rows × 29 columns</p>\n",
       "</div>"
      ],
      "text/plain": [
       "         gauge_id           gauge_name gauge_country gauge_provider     river  \\\n",
       "basin_id                                                                        \n",
       "AT000002   200048  Schruns (Vonbunweg)            AT        AT_EHYD      Litz   \n",
       "AT000003   231662        Loruens-Aeule            AT        AT_EHYD       Ill   \n",
       "AT000005   200097  Buers (Bruecke L82)            AT        AT_EHYD    Alvier   \n",
       "AT000007   231688            Beschling            AT        AT_EHYD       Ill   \n",
       "AT000010   200154              Laterns            AT        AT_EHYD     Frutz   \n",
       "...           ...                  ...           ...            ...       ...   \n",
       "CZ000088    92000             Pelešany            CZ        CZ_CHMU   Libuňka   \n",
       "CZ000288   241000      Srbská Kamenice            CZ        CZ_CHMU  Kamenice   \n",
       "CZ000103   109500                Zátoň            CZ        CZ_CHMU    Vltava   \n",
       "CZ000253   209100            Chaloupky            CZ        CZ_CHMU    Rolava   \n",
       "CZ000512   461000            Rychmanov            CZ        CZ_CHMU    Litava   \n",
       "\n",
       "           lon_snap   lat_snap        lon        lat elevation  ...  \\\n",
       "basin_id                                                        ...   \n",
       "AT000002   9.913677  47.080301   9.913677  47.080301       673  ...   \n",
       "AT000003   9.847765  47.132821   9.847765  47.132821       579  ...   \n",
       "AT000005   9.802668  47.150770   9.802668  47.150770       564  ...   \n",
       "AT000007   9.678850  47.200301   9.678850  47.200301       485  ...   \n",
       "AT000010   9.728853  47.256933   9.728853  47.256933       831  ...   \n",
       "...             ...        ...        ...        ...       ...  ...   \n",
       "CZ000088  15.170779  50.571139  15.170779  50.571139       NaN  ...   \n",
       "CZ000288  14.351506  50.814043  14.351506  50.814043       NaN  ...   \n",
       "CZ000103  14.336846  48.726830  14.336846  48.726830       NaN  ...   \n",
       "CZ000253  12.664795  50.374484  12.664795  50.374484       NaN  ...   \n",
       "CZ000512  16.763210  49.103790  16.763210  49.103790       NaN  ...   \n",
       "\n",
       "          num_continuous_days  num_days_gaps  num_days_reliable  \\\n",
       "basin_id                                                          \n",
       "AT000002                23103            0.0                0.0   \n",
       "AT000003                13513            0.0                0.0   \n",
       "AT000005                10957            0.0                0.0   \n",
       "AT000007                13514            0.0                0.0   \n",
       "AT000010                10517            3.0                0.0   \n",
       "...                       ...            ...                ...   \n",
       "CZ000088                14671            0.0                0.0   \n",
       "CZ000288                13941            0.0                0.0   \n",
       "CZ000103                12114            0.0                0.0   \n",
       "CZ000253                15036            0.0                0.0   \n",
       "CZ000512                15036            0.0                0.0   \n",
       "\n",
       "          num_days_noflag num_days_suspect gauge_flag  duplicated_suspect  \\\n",
       "basin_id                                                                    \n",
       "AT000002          23103.0              0.0          B        ['CH000221']   \n",
       "AT000003          13513.0              0.0          B        ['CH000215']   \n",
       "AT000005          10957.0              0.0          B        ['CH000214']   \n",
       "AT000007          13514.0              0.0          B        ['CH000205']   \n",
       "AT000010          24104.0              0.0          B        ['CH000209']   \n",
       "...                   ...              ...        ...                 ...   \n",
       "CZ000088          14671.0              0.0          B                 NaN   \n",
       "CZ000288          13941.0              0.0          B                 NaN   \n",
       "CZ000103          12114.0              0.0          B                 NaN   \n",
       "CZ000253          15036.0              0.0          B                 NaN   \n",
       "CZ000512          15036.0              0.0          B                 NaN   \n",
       "\n",
       "          watershed_group  gauges_upstream  \\\n",
       "basin_id                                     \n",
       "AT000002                1                1   \n",
       "AT000003                1                2   \n",
       "AT000005                1                3   \n",
       "AT000007                1                8   \n",
       "AT000010                1                1   \n",
       "...                   ...              ...   \n",
       "CZ000088                3                2   \n",
       "CZ000288                3                1   \n",
       "CZ000103                3                5   \n",
       "CZ000253                3                1   \n",
       "CZ000512                2                2   \n",
       "\n",
       "                                          nested_catchments  \n",
       "basin_id                                                     \n",
       "AT000002                                       ['AT000002']  \n",
       "AT000003               ['AT000002', 'AT000003', 'CH000221']  \n",
       "AT000005                           ['AT000005', 'CH000214']  \n",
       "AT000007  ['AT000002', 'AT000003', 'AT000004', 'AT000005...  \n",
       "AT000010                                       ['AT000010']  \n",
       "...                                                     ...  \n",
       "CZ000088                           ['CZ000087', 'CZ000088']  \n",
       "CZ000288                                       ['CZ000288']  \n",
       "CZ000103  ['CZ000099', 'CZ000100', 'CZ000101', 'CZ000102...  \n",
       "CZ000253                                       ['CZ000253']  \n",
       "CZ000512                           ['CZ000511', 'CZ000512']  \n",
       "\n",
       "[3346 rows x 29 columns]"
      ]
     },
     "execution_count": 70,
     "metadata": {},
     "output_type": "execute_result"
    }
   ],
   "source": [
    "network_estreams_filtered = network_estreams.loc[catchment_list]\n",
    "network_estreams_filtered"
   ]
  },
  {
   "cell_type": "code",
   "execution_count": 71,
   "id": "ed96ac93",
   "metadata": {},
   "outputs": [
    {
     "data": {
      "text/plain": [
       "gauge_country\n",
       "AT    397\n",
       "CH    157\n",
       "CZ    350\n",
       "DE    976\n",
       "DK    168\n",
       "ES    231\n",
       "FR    500\n",
       "GB    538\n",
       "IS      4\n",
       "SE     25\n",
       "dtype: int64"
      ]
     },
     "execution_count": 71,
     "metadata": {},
     "output_type": "execute_result"
    }
   ],
   "source": [
    "network_estreams_filtered.groupby('gauge_country').size()"
   ]
  },
  {
   "cell_type": "code",
   "execution_count": 35,
   "id": "b2fed846",
   "metadata": {},
   "outputs": [],
   "source": [
    "import tqdm as tqdm \n",
    "path_estreams = r'C:\\Users\\nascimth\\Documents\\Thiago\\Eawag\\Python\\Data\\data'"
   ]
  },
  {
   "cell_type": "code",
   "execution_count": 37,
   "id": "fdd1621a",
   "metadata": {},
   "outputs": [],
   "source": [
    "import pandas as pd\n",
    "import os\n",
    "import shutil\n",
    "import zipfile"
   ]
  },
  {
   "cell_type": "code",
   "execution_count": null,
   "id": "60d9f48d",
   "metadata": {},
   "outputs": [
    {
     "name": "stderr",
     "output_type": "stream",
     "text": [
      "  0%|          | 2/3346 [00:00<08:13,  6.77it/s]"
     ]
    },
    {
     "name": "stdout",
     "output_type": "stream",
     "text": [
      "Compressed folder 'results\\hbv\\AT000002.zip' successfully created!\n",
      "Compressed folder 'results\\hbv\\AT000003.zip' successfully created!\n"
     ]
    },
    {
     "name": "stderr",
     "output_type": "stream",
     "text": [
      "  0%|          | 4/3346 [00:00<07:59,  6.97it/s]"
     ]
    },
    {
     "name": "stdout",
     "output_type": "stream",
     "text": [
      "Compressed folder 'results\\hbv\\AT000005.zip' successfully created!\n",
      "Compressed folder 'results\\hbv\\AT000007.zip' successfully created!\n"
     ]
    },
    {
     "name": "stderr",
     "output_type": "stream",
     "text": [
      "  0%|          | 6/3346 [00:00<07:51,  7.08it/s]"
     ]
    },
    {
     "name": "stdout",
     "output_type": "stream",
     "text": [
      "Compressed folder 'results\\hbv\\AT000010.zip' successfully created!\n",
      "Compressed folder 'results\\hbv\\AT000014.zip' successfully created!\n"
     ]
    },
    {
     "name": "stderr",
     "output_type": "stream",
     "text": [
      "  0%|          | 8/3346 [00:01<07:56,  7.01it/s]"
     ]
    },
    {
     "name": "stdout",
     "output_type": "stream",
     "text": [
      "Compressed folder 'results\\hbv\\AT000015.zip' successfully created!\n",
      "Compressed folder 'results\\hbv\\AT000016.zip' successfully created!\n"
     ]
    },
    {
     "name": "stderr",
     "output_type": "stream",
     "text": [
      "  0%|          | 10/3346 [00:01<07:46,  7.15it/s]"
     ]
    },
    {
     "name": "stdout",
     "output_type": "stream",
     "text": [
      "Compressed folder 'results\\hbv\\AT000018.zip' successfully created!\n",
      "Compressed folder 'results\\hbv\\AT000019.zip' successfully created!\n"
     ]
    },
    {
     "name": "stderr",
     "output_type": "stream",
     "text": [
      "  0%|          | 12/3346 [00:01<08:03,  6.89it/s]"
     ]
    },
    {
     "name": "stdout",
     "output_type": "stream",
     "text": [
      "Compressed folder 'results\\hbv\\AT000021.zip' successfully created!\n",
      "Compressed folder 'results\\hbv\\AT000022.zip' successfully created!\n"
     ]
    },
    {
     "name": "stderr",
     "output_type": "stream",
     "text": [
      "  0%|          | 14/3346 [00:01<07:40,  7.23it/s]"
     ]
    },
    {
     "name": "stdout",
     "output_type": "stream",
     "text": [
      "Compressed folder 'results\\hbv\\AT000023.zip' successfully created!\n",
      "Compressed folder 'results\\hbv\\AT000027.zip' successfully created!\n"
     ]
    },
    {
     "name": "stderr",
     "output_type": "stream",
     "text": [
      "  0%|          | 16/3346 [00:02<07:57,  6.97it/s]"
     ]
    },
    {
     "name": "stdout",
     "output_type": "stream",
     "text": [
      "Compressed folder 'results\\hbv\\AT000028.zip' successfully created!\n",
      "Compressed folder 'results\\hbv\\AT000029.zip' successfully created!\n"
     ]
    },
    {
     "name": "stderr",
     "output_type": "stream",
     "text": [
      "  1%|          | 18/3346 [00:02<07:38,  7.26it/s]"
     ]
    },
    {
     "name": "stdout",
     "output_type": "stream",
     "text": [
      "Compressed folder 'results\\hbv\\AT000030.zip' successfully created!\n",
      "Compressed folder 'results\\hbv\\AT000038.zip' successfully created!\n"
     ]
    },
    {
     "name": "stderr",
     "output_type": "stream",
     "text": [
      "  1%|          | 20/3346 [00:02<07:57,  6.96it/s]"
     ]
    },
    {
     "name": "stdout",
     "output_type": "stream",
     "text": [
      "Compressed folder 'results\\hbv\\AT000039.zip' successfully created!\n",
      "Compressed folder 'results\\hbv\\AT000040.zip' successfully created!\n"
     ]
    },
    {
     "name": "stderr",
     "output_type": "stream",
     "text": [
      "  1%|          | 22/3346 [00:03<07:55,  6.98it/s]"
     ]
    },
    {
     "name": "stdout",
     "output_type": "stream",
     "text": [
      "Compressed folder 'results\\hbv\\AT000041.zip' successfully created!\n",
      "Compressed folder 'results\\hbv\\AT000042.zip' successfully created!\n"
     ]
    },
    {
     "name": "stderr",
     "output_type": "stream",
     "text": [
      "  1%|          | 24/3346 [00:03<08:14,  6.72it/s]"
     ]
    },
    {
     "name": "stdout",
     "output_type": "stream",
     "text": [
      "Compressed folder 'results\\hbv\\AT000043.zip' successfully created!\n",
      "Compressed folder 'results\\hbv\\AT000044.zip' successfully created!\n"
     ]
    },
    {
     "name": "stderr",
     "output_type": "stream",
     "text": [
      "  1%|          | 26/3346 [00:03<08:16,  6.69it/s]"
     ]
    },
    {
     "name": "stdout",
     "output_type": "stream",
     "text": [
      "Compressed folder 'results\\hbv\\AT000048.zip' successfully created!\n",
      "Compressed folder 'results\\hbv\\AT000049.zip' successfully created!\n"
     ]
    },
    {
     "name": "stderr",
     "output_type": "stream",
     "text": [
      "  1%|          | 28/3346 [00:04<08:00,  6.91it/s]"
     ]
    },
    {
     "name": "stdout",
     "output_type": "stream",
     "text": [
      "Compressed folder 'results\\hbv\\AT000050.zip' successfully created!\n",
      "Compressed folder 'results\\hbv\\AT000051.zip' successfully created!\n"
     ]
    },
    {
     "name": "stderr",
     "output_type": "stream",
     "text": [
      "  1%|          | 30/3346 [00:04<08:05,  6.82it/s]"
     ]
    },
    {
     "name": "stdout",
     "output_type": "stream",
     "text": [
      "Compressed folder 'results\\hbv\\AT000052.zip' successfully created!\n",
      "Compressed folder 'results\\hbv\\AT000054.zip' successfully created!\n"
     ]
    },
    {
     "name": "stderr",
     "output_type": "stream",
     "text": [
      "  1%|          | 32/3346 [00:04<08:32,  6.46it/s]"
     ]
    },
    {
     "name": "stdout",
     "output_type": "stream",
     "text": [
      "Compressed folder 'results\\hbv\\AT000060.zip' successfully created!\n",
      "Compressed folder 'results\\hbv\\AT000062.zip' successfully created!\n"
     ]
    },
    {
     "name": "stderr",
     "output_type": "stream",
     "text": [
      "  1%|          | 34/3346 [00:04<08:14,  6.70it/s]"
     ]
    },
    {
     "name": "stdout",
     "output_type": "stream",
     "text": [
      "Compressed folder 'results\\hbv\\AT000065.zip' successfully created!\n",
      "Compressed folder 'results\\hbv\\AT000067.zip' successfully created!\n"
     ]
    },
    {
     "name": "stderr",
     "output_type": "stream",
     "text": [
      "  1%|          | 36/3346 [00:05<07:59,  6.91it/s]"
     ]
    },
    {
     "name": "stdout",
     "output_type": "stream",
     "text": [
      "Compressed folder 'results\\hbv\\AT000068.zip' successfully created!\n",
      "Compressed folder 'results\\hbv\\AT000069.zip' successfully created!\n"
     ]
    },
    {
     "name": "stderr",
     "output_type": "stream",
     "text": [
      "  1%|          | 38/3346 [00:05<07:48,  7.06it/s]"
     ]
    },
    {
     "name": "stdout",
     "output_type": "stream",
     "text": [
      "Compressed folder 'results\\hbv\\AT000071.zip' successfully created!\n",
      "Compressed folder 'results\\hbv\\AT000072.zip' successfully created!\n"
     ]
    },
    {
     "name": "stderr",
     "output_type": "stream",
     "text": [
      "  1%|          | 40/3346 [00:05<08:02,  6.85it/s]"
     ]
    },
    {
     "name": "stdout",
     "output_type": "stream",
     "text": [
      "Compressed folder 'results\\hbv\\AT000074.zip' successfully created!\n",
      "Compressed folder 'results\\hbv\\AT000075.zip' successfully created!\n"
     ]
    },
    {
     "name": "stderr",
     "output_type": "stream",
     "text": [
      "  1%|▏         | 42/3346 [00:06<08:44,  6.30it/s]"
     ]
    },
    {
     "name": "stdout",
     "output_type": "stream",
     "text": [
      "Compressed folder 'results\\hbv\\AT000076.zip' successfully created!\n",
      "Compressed folder 'results\\hbv\\AT000078.zip' successfully created!\n"
     ]
    },
    {
     "name": "stderr",
     "output_type": "stream",
     "text": [
      "  1%|▏         | 44/3346 [00:06<08:19,  6.62it/s]"
     ]
    },
    {
     "name": "stdout",
     "output_type": "stream",
     "text": [
      "Compressed folder 'results\\hbv\\AT000080.zip' successfully created!\n",
      "Compressed folder 'results\\hbv\\AT000081.zip' successfully created!\n"
     ]
    },
    {
     "name": "stderr",
     "output_type": "stream",
     "text": [
      "  1%|▏         | 46/3346 [00:06<08:16,  6.65it/s]"
     ]
    },
    {
     "name": "stdout",
     "output_type": "stream",
     "text": [
      "Compressed folder 'results\\hbv\\AT000086.zip' successfully created!\n",
      "Compressed folder 'results\\hbv\\AT000087.zip' successfully created!\n"
     ]
    },
    {
     "name": "stderr",
     "output_type": "stream",
     "text": [
      "  1%|▏         | 48/3346 [00:07<08:00,  6.86it/s]"
     ]
    },
    {
     "name": "stdout",
     "output_type": "stream",
     "text": [
      "Compressed folder 'results\\hbv\\AT000089.zip' successfully created!\n",
      "Compressed folder 'results\\hbv\\AT000090.zip' successfully created!\n"
     ]
    },
    {
     "name": "stderr",
     "output_type": "stream",
     "text": [
      "  1%|▏         | 50/3346 [00:07<07:51,  6.99it/s]"
     ]
    },
    {
     "name": "stdout",
     "output_type": "stream",
     "text": [
      "Compressed folder 'results\\hbv\\AT000093.zip' successfully created!\n",
      "Compressed folder 'results\\hbv\\AT000094.zip' successfully created!\n"
     ]
    },
    {
     "name": "stderr",
     "output_type": "stream",
     "text": [
      "  2%|▏         | 52/3346 [00:07<08:02,  6.83it/s]"
     ]
    },
    {
     "name": "stdout",
     "output_type": "stream",
     "text": [
      "Compressed folder 'results\\hbv\\AT000095.zip' successfully created!\n",
      "Compressed folder 'results\\hbv\\AT000097.zip' successfully created!\n"
     ]
    },
    {
     "name": "stderr",
     "output_type": "stream",
     "text": [
      "  2%|▏         | 54/3346 [00:07<07:49,  7.01it/s]"
     ]
    },
    {
     "name": "stdout",
     "output_type": "stream",
     "text": [
      "Compressed folder 'results\\hbv\\AT000098.zip' successfully created!\n",
      "Compressed folder 'results\\hbv\\AT000101.zip' successfully created!\n"
     ]
    },
    {
     "name": "stderr",
     "output_type": "stream",
     "text": [
      "  2%|▏         | 56/3346 [00:08<07:59,  6.86it/s]"
     ]
    },
    {
     "name": "stdout",
     "output_type": "stream",
     "text": [
      "Compressed folder 'results\\hbv\\AT000103.zip' successfully created!\n",
      "Compressed folder 'results\\hbv\\AT000105.zip' successfully created!\n"
     ]
    },
    {
     "name": "stderr",
     "output_type": "stream",
     "text": [
      "  2%|▏         | 58/3346 [00:08<08:04,  6.78it/s]"
     ]
    },
    {
     "name": "stdout",
     "output_type": "stream",
     "text": [
      "Compressed folder 'results\\hbv\\AT000106.zip' successfully created!\n",
      "Compressed folder 'results\\hbv\\AT000107.zip' successfully created!\n"
     ]
    },
    {
     "name": "stderr",
     "output_type": "stream",
     "text": [
      "  2%|▏         | 60/3346 [00:08<08:07,  6.74it/s]"
     ]
    },
    {
     "name": "stdout",
     "output_type": "stream",
     "text": [
      "Compressed folder 'results\\hbv\\AT000111.zip' successfully created!\n",
      "Compressed folder 'results\\hbv\\AT000115.zip' successfully created!\n"
     ]
    },
    {
     "name": "stderr",
     "output_type": "stream",
     "text": [
      "  2%|▏         | 62/3346 [00:09<08:46,  6.24it/s]"
     ]
    },
    {
     "name": "stdout",
     "output_type": "stream",
     "text": [
      "Compressed folder 'results\\hbv\\AT000116.zip' successfully created!\n",
      "Compressed folder 'results\\hbv\\AT000117.zip' successfully created!\n"
     ]
    },
    {
     "name": "stderr",
     "output_type": "stream",
     "text": [
      "  2%|▏         | 64/3346 [00:09<08:24,  6.51it/s]"
     ]
    },
    {
     "name": "stdout",
     "output_type": "stream",
     "text": [
      "Compressed folder 'results\\hbv\\AT000118.zip' successfully created!\n",
      "Compressed folder 'results\\hbv\\AT000122.zip' successfully created!\n"
     ]
    },
    {
     "name": "stderr",
     "output_type": "stream",
     "text": [
      "  2%|▏         | 66/3346 [00:09<08:14,  6.63it/s]"
     ]
    },
    {
     "name": "stdout",
     "output_type": "stream",
     "text": [
      "Compressed folder 'results\\hbv\\AT000123.zip' successfully created!\n",
      "Compressed folder 'results\\hbv\\AT000124.zip' successfully created!\n"
     ]
    },
    {
     "name": "stderr",
     "output_type": "stream",
     "text": [
      "  2%|▏         | 68/3346 [00:10<08:35,  6.36it/s]"
     ]
    },
    {
     "name": "stdout",
     "output_type": "stream",
     "text": [
      "Compressed folder 'results\\hbv\\AT000125.zip' successfully created!\n",
      "Compressed folder 'results\\hbv\\AT000129.zip' successfully created!\n"
     ]
    },
    {
     "name": "stderr",
     "output_type": "stream",
     "text": [
      "  2%|▏         | 70/3346 [00:10<08:24,  6.49it/s]"
     ]
    },
    {
     "name": "stdout",
     "output_type": "stream",
     "text": [
      "Compressed folder 'results\\hbv\\AT000130.zip' successfully created!\n",
      "Compressed folder 'results\\hbv\\AT000132.zip' successfully created!\n"
     ]
    },
    {
     "name": "stderr",
     "output_type": "stream",
     "text": [
      "  2%|▏         | 72/3346 [00:10<08:36,  6.34it/s]"
     ]
    },
    {
     "name": "stdout",
     "output_type": "stream",
     "text": [
      "Compressed folder 'results\\hbv\\AT000133.zip' successfully created!\n",
      "Compressed folder 'results\\hbv\\AT000135.zip' successfully created!\n"
     ]
    },
    {
     "name": "stderr",
     "output_type": "stream",
     "text": [
      "  2%|▏         | 74/3346 [00:10<08:39,  6.29it/s]"
     ]
    },
    {
     "name": "stdout",
     "output_type": "stream",
     "text": [
      "Compressed folder 'results\\hbv\\AT000137.zip' successfully created!\n",
      "Compressed folder 'results\\hbv\\AT000138.zip' successfully created!\n"
     ]
    },
    {
     "name": "stderr",
     "output_type": "stream",
     "text": [
      "  2%|▏         | 76/3346 [00:11<09:11,  5.93it/s]"
     ]
    },
    {
     "name": "stdout",
     "output_type": "stream",
     "text": [
      "Compressed folder 'results\\hbv\\AT000140.zip' successfully created!\n",
      "Compressed folder 'results\\hbv\\AT000141.zip' successfully created!\n"
     ]
    },
    {
     "name": "stderr",
     "output_type": "stream",
     "text": [
      "  2%|▏         | 78/3346 [00:11<08:38,  6.30it/s]"
     ]
    },
    {
     "name": "stdout",
     "output_type": "stream",
     "text": [
      "Compressed folder 'results\\hbv\\AT000142.zip' successfully created!\n",
      "Compressed folder 'results\\hbv\\AT000143.zip' successfully created!\n"
     ]
    },
    {
     "name": "stderr",
     "output_type": "stream",
     "text": [
      "  2%|▏         | 80/3346 [00:11<08:39,  6.29it/s]"
     ]
    },
    {
     "name": "stdout",
     "output_type": "stream",
     "text": [
      "Compressed folder 'results\\hbv\\AT000144.zip' successfully created!\n",
      "Compressed folder 'results\\hbv\\AT000146.zip' successfully created!\n"
     ]
    },
    {
     "name": "stderr",
     "output_type": "stream",
     "text": [
      "  2%|▏         | 82/3346 [00:12<08:24,  6.47it/s]"
     ]
    },
    {
     "name": "stdout",
     "output_type": "stream",
     "text": [
      "Compressed folder 'results\\hbv\\AT000147.zip' successfully created!\n",
      "Compressed folder 'results\\hbv\\AT000149.zip' successfully created!\n"
     ]
    },
    {
     "name": "stderr",
     "output_type": "stream",
     "text": [
      "  3%|▎         | 84/3346 [00:12<08:17,  6.56it/s]"
     ]
    },
    {
     "name": "stdout",
     "output_type": "stream",
     "text": [
      "Compressed folder 'results\\hbv\\AT000150.zip' successfully created!\n",
      "Compressed folder 'results\\hbv\\AT000151.zip' successfully created!\n"
     ]
    },
    {
     "name": "stderr",
     "output_type": "stream",
     "text": [
      "  3%|▎         | 86/3346 [00:12<08:39,  6.27it/s]"
     ]
    },
    {
     "name": "stdout",
     "output_type": "stream",
     "text": [
      "Compressed folder 'results\\hbv\\AT000152.zip' successfully created!\n",
      "Compressed folder 'results\\hbv\\AT000153.zip' successfully created!\n"
     ]
    },
    {
     "name": "stderr",
     "output_type": "stream",
     "text": [
      "  3%|▎         | 87/3346 [00:13<09:11,  5.91it/s]"
     ]
    },
    {
     "name": "stdout",
     "output_type": "stream",
     "text": [
      "Compressed folder 'results\\hbv\\AT000154.zip' successfully created!\n"
     ]
    },
    {
     "name": "stderr",
     "output_type": "stream",
     "text": [
      "  3%|▎         | 89/3346 [00:13<09:32,  5.69it/s]"
     ]
    },
    {
     "name": "stdout",
     "output_type": "stream",
     "text": [
      "Compressed folder 'results\\hbv\\AT000155.zip' successfully created!\n",
      "Compressed folder 'results\\hbv\\AT000156.zip' successfully created!\n"
     ]
    },
    {
     "name": "stderr",
     "output_type": "stream",
     "text": [
      "  3%|▎         | 91/3346 [00:13<08:50,  6.14it/s]"
     ]
    },
    {
     "name": "stdout",
     "output_type": "stream",
     "text": [
      "Compressed folder 'results\\hbv\\AT000157.zip' successfully created!\n",
      "Compressed folder 'results\\hbv\\AT000158.zip' successfully created!\n"
     ]
    },
    {
     "name": "stderr",
     "output_type": "stream",
     "text": [
      "  3%|▎         | 93/3346 [00:14<08:34,  6.32it/s]"
     ]
    },
    {
     "name": "stdout",
     "output_type": "stream",
     "text": [
      "Compressed folder 'results\\hbv\\AT000159.zip' successfully created!\n",
      "Compressed folder 'results\\hbv\\AT000160.zip' successfully created!\n"
     ]
    },
    {
     "name": "stderr",
     "output_type": "stream",
     "text": [
      "  3%|▎         | 95/3346 [00:14<08:27,  6.41it/s]"
     ]
    },
    {
     "name": "stdout",
     "output_type": "stream",
     "text": [
      "Compressed folder 'results\\hbv\\AT000161.zip' successfully created!\n",
      "Compressed folder 'results\\hbv\\AT000162.zip' successfully created!\n"
     ]
    },
    {
     "name": "stderr",
     "output_type": "stream",
     "text": [
      "  3%|▎         | 97/3346 [00:14<08:29,  6.38it/s]"
     ]
    },
    {
     "name": "stdout",
     "output_type": "stream",
     "text": [
      "Compressed folder 'results\\hbv\\AT000163.zip' successfully created!\n",
      "Compressed folder 'results\\hbv\\AT000164.zip' successfully created!\n"
     ]
    },
    {
     "name": "stderr",
     "output_type": "stream",
     "text": [
      "  3%|▎         | 99/3346 [00:15<08:18,  6.51it/s]"
     ]
    },
    {
     "name": "stdout",
     "output_type": "stream",
     "text": [
      "Compressed folder 'results\\hbv\\AT000165.zip' successfully created!\n",
      "Compressed folder 'results\\hbv\\AT000166.zip' successfully created!\n"
     ]
    },
    {
     "name": "stderr",
     "output_type": "stream",
     "text": [
      "  3%|▎         | 101/3346 [00:15<08:24,  6.43it/s]"
     ]
    },
    {
     "name": "stdout",
     "output_type": "stream",
     "text": [
      "Compressed folder 'results\\hbv\\AT000167.zip' successfully created!\n",
      "Compressed folder 'results\\hbv\\AT000168.zip' successfully created!\n"
     ]
    },
    {
     "name": "stderr",
     "output_type": "stream",
     "text": [
      "  3%|▎         | 103/3346 [00:15<08:31,  6.34it/s]"
     ]
    },
    {
     "name": "stdout",
     "output_type": "stream",
     "text": [
      "Compressed folder 'results\\hbv\\AT000169.zip' successfully created!\n",
      "Compressed folder 'results\\hbv\\AT000170.zip' successfully created!\n"
     ]
    },
    {
     "name": "stderr",
     "output_type": "stream",
     "text": [
      "  3%|▎         | 105/3346 [00:15<08:53,  6.07it/s]"
     ]
    },
    {
     "name": "stdout",
     "output_type": "stream",
     "text": [
      "Compressed folder 'results\\hbv\\AT000171.zip' successfully created!\n",
      "Compressed folder 'results\\hbv\\AT000173.zip' successfully created!\n"
     ]
    },
    {
     "name": "stderr",
     "output_type": "stream",
     "text": [
      "  3%|▎         | 107/3346 [00:16<08:43,  6.18it/s]"
     ]
    },
    {
     "name": "stdout",
     "output_type": "stream",
     "text": [
      "Compressed folder 'results\\hbv\\AT000174.zip' successfully created!\n",
      "Compressed folder 'results\\hbv\\AT000175.zip' successfully created!\n"
     ]
    },
    {
     "name": "stderr",
     "output_type": "stream",
     "text": [
      "  3%|▎         | 109/3346 [00:16<08:24,  6.42it/s]"
     ]
    },
    {
     "name": "stdout",
     "output_type": "stream",
     "text": [
      "Compressed folder 'results\\hbv\\AT000176.zip' successfully created!\n",
      "Compressed folder 'results\\hbv\\AT000177.zip' successfully created!\n"
     ]
    },
    {
     "name": "stderr",
     "output_type": "stream",
     "text": [
      "  3%|▎         | 111/3346 [00:16<08:25,  6.40it/s]"
     ]
    },
    {
     "name": "stdout",
     "output_type": "stream",
     "text": [
      "Compressed folder 'results\\hbv\\AT000178.zip' successfully created!\n",
      "Compressed folder 'results\\hbv\\AT000179.zip' successfully created!\n"
     ]
    },
    {
     "name": "stderr",
     "output_type": "stream",
     "text": [
      "  3%|▎         | 113/3346 [00:17<08:45,  6.15it/s]"
     ]
    },
    {
     "name": "stdout",
     "output_type": "stream",
     "text": [
      "Compressed folder 'results\\hbv\\AT000180.zip' successfully created!\n",
      "Compressed folder 'results\\hbv\\AT000181.zip' successfully created!\n"
     ]
    },
    {
     "name": "stderr",
     "output_type": "stream",
     "text": [
      "  3%|▎         | 115/3346 [00:17<09:59,  5.39it/s]"
     ]
    },
    {
     "name": "stdout",
     "output_type": "stream",
     "text": [
      "Compressed folder 'results\\hbv\\AT000182.zip' successfully created!\n",
      "Compressed folder 'results\\hbv\\AT000183.zip' successfully created!\n"
     ]
    },
    {
     "name": "stderr",
     "output_type": "stream",
     "text": [
      "  3%|▎         | 117/3346 [00:17<09:08,  5.88it/s]"
     ]
    },
    {
     "name": "stdout",
     "output_type": "stream",
     "text": [
      "Compressed folder 'results\\hbv\\AT000184.zip' successfully created!\n",
      "Compressed folder 'results\\hbv\\AT000185.zip' successfully created!\n"
     ]
    },
    {
     "name": "stderr",
     "output_type": "stream",
     "text": [
      "  4%|▎         | 119/3346 [00:18<08:33,  6.29it/s]"
     ]
    },
    {
     "name": "stdout",
     "output_type": "stream",
     "text": [
      "Compressed folder 'results\\hbv\\AT000187.zip' successfully created!\n",
      "Compressed folder 'results\\hbv\\AT000188.zip' successfully created!\n"
     ]
    },
    {
     "name": "stderr",
     "output_type": "stream",
     "text": [
      "  4%|▎         | 121/3346 [00:18<08:19,  6.46it/s]"
     ]
    },
    {
     "name": "stdout",
     "output_type": "stream",
     "text": [
      "Compressed folder 'results\\hbv\\AT000189.zip' successfully created!\n",
      "Compressed folder 'results\\hbv\\AT000190.zip' successfully created!\n"
     ]
    },
    {
     "name": "stderr",
     "output_type": "stream",
     "text": [
      "  4%|▎         | 123/3346 [00:18<08:09,  6.59it/s]"
     ]
    },
    {
     "name": "stdout",
     "output_type": "stream",
     "text": [
      "Compressed folder 'results\\hbv\\AT000191.zip' successfully created!\n",
      "Compressed folder 'results\\hbv\\AT000192.zip' successfully created!\n"
     ]
    },
    {
     "name": "stderr",
     "output_type": "stream",
     "text": [
      "  4%|▎         | 125/3346 [00:19<08:10,  6.57it/s]"
     ]
    },
    {
     "name": "stdout",
     "output_type": "stream",
     "text": [
      "Compressed folder 'results\\hbv\\AT000193.zip' successfully created!\n",
      "Compressed folder 'results\\hbv\\AT000194.zip' successfully created!\n"
     ]
    },
    {
     "name": "stderr",
     "output_type": "stream",
     "text": [
      "  4%|▍         | 127/3346 [00:19<08:55,  6.01it/s]"
     ]
    },
    {
     "name": "stdout",
     "output_type": "stream",
     "text": [
      "Compressed folder 'results\\hbv\\AT000195.zip' successfully created!\n",
      "Compressed folder 'results\\hbv\\AT000196.zip' successfully created!\n"
     ]
    },
    {
     "name": "stderr",
     "output_type": "stream",
     "text": [
      "  4%|▍         | 129/3346 [00:19<08:34,  6.25it/s]"
     ]
    },
    {
     "name": "stdout",
     "output_type": "stream",
     "text": [
      "Compressed folder 'results\\hbv\\AT000197.zip' successfully created!\n",
      "Compressed folder 'results\\hbv\\AT000198.zip' successfully created!\n"
     ]
    },
    {
     "name": "stderr",
     "output_type": "stream",
     "text": [
      "  4%|▍         | 131/3346 [00:20<08:38,  6.20it/s]"
     ]
    },
    {
     "name": "stdout",
     "output_type": "stream",
     "text": [
      "Compressed folder 'results\\hbv\\AT000207.zip' successfully created!\n",
      "Compressed folder 'results\\hbv\\AT000208.zip' successfully created!\n"
     ]
    },
    {
     "name": "stderr",
     "output_type": "stream",
     "text": [
      "  4%|▍         | 133/3346 [00:20<08:28,  6.32it/s]"
     ]
    },
    {
     "name": "stdout",
     "output_type": "stream",
     "text": [
      "Compressed folder 'results\\hbv\\AT000211.zip' successfully created!\n",
      "Compressed folder 'results\\hbv\\AT000212.zip' successfully created!\n"
     ]
    },
    {
     "name": "stderr",
     "output_type": "stream",
     "text": [
      "  4%|▍         | 135/3346 [00:20<08:20,  6.41it/s]"
     ]
    },
    {
     "name": "stdout",
     "output_type": "stream",
     "text": [
      "Compressed folder 'results\\hbv\\AT000213.zip' successfully created!\n",
      "Compressed folder 'results\\hbv\\AT000214.zip' successfully created!\n"
     ]
    },
    {
     "name": "stderr",
     "output_type": "stream",
     "text": [
      "  4%|▍         | 137/3346 [00:21<08:04,  6.63it/s]"
     ]
    },
    {
     "name": "stdout",
     "output_type": "stream",
     "text": [
      "Compressed folder 'results\\hbv\\AT000215.zip' successfully created!\n",
      "Compressed folder 'results\\hbv\\AT000217.zip' successfully created!\n"
     ]
    },
    {
     "name": "stderr",
     "output_type": "stream",
     "text": [
      "  4%|▍         | 139/3346 [00:21<08:20,  6.40it/s]"
     ]
    },
    {
     "name": "stdout",
     "output_type": "stream",
     "text": [
      "Compressed folder 'results\\hbv\\AT000218.zip' successfully created!\n",
      "Compressed folder 'results\\hbv\\AT000219.zip' successfully created!\n"
     ]
    },
    {
     "name": "stderr",
     "output_type": "stream",
     "text": [
      "  4%|▍         | 141/3346 [00:21<08:40,  6.15it/s]"
     ]
    },
    {
     "name": "stdout",
     "output_type": "stream",
     "text": [
      "Compressed folder 'results\\hbv\\AT000220.zip' successfully created!\n",
      "Compressed folder 'results\\hbv\\AT000221.zip' successfully created!\n"
     ]
    },
    {
     "name": "stderr",
     "output_type": "stream",
     "text": [
      "  4%|▍         | 143/3346 [00:22<07:59,  6.68it/s]"
     ]
    },
    {
     "name": "stdout",
     "output_type": "stream",
     "text": [
      "Compressed folder 'results\\hbv\\AT000222.zip' successfully created!\n",
      "Compressed folder 'results\\hbv\\AT000223.zip' successfully created!\n"
     ]
    },
    {
     "name": "stderr",
     "output_type": "stream",
     "text": [
      "  4%|▍         | 145/3346 [00:22<07:51,  6.79it/s]"
     ]
    },
    {
     "name": "stdout",
     "output_type": "stream",
     "text": [
      "Compressed folder 'results\\hbv\\AT000224.zip' successfully created!\n",
      "Compressed folder 'results\\hbv\\AT000225.zip' successfully created!\n"
     ]
    },
    {
     "name": "stderr",
     "output_type": "stream",
     "text": [
      "  4%|▍         | 147/3346 [00:22<08:07,  6.56it/s]"
     ]
    },
    {
     "name": "stdout",
     "output_type": "stream",
     "text": [
      "Compressed folder 'results\\hbv\\AT000226.zip' successfully created!\n",
      "Compressed folder 'results\\hbv\\AT000228.zip' successfully created!\n"
     ]
    },
    {
     "name": "stderr",
     "output_type": "stream",
     "text": [
      "  4%|▍         | 149/3346 [00:22<08:18,  6.42it/s]"
     ]
    },
    {
     "name": "stdout",
     "output_type": "stream",
     "text": [
      "Compressed folder 'results\\hbv\\AT000230.zip' successfully created!\n",
      "Compressed folder 'results\\hbv\\AT000231.zip' successfully created!\n"
     ]
    },
    {
     "name": "stderr",
     "output_type": "stream",
     "text": [
      "  5%|▍         | 151/3346 [00:23<08:31,  6.24it/s]"
     ]
    },
    {
     "name": "stdout",
     "output_type": "stream",
     "text": [
      "Compressed folder 'results\\hbv\\AT000232.zip' successfully created!\n",
      "Compressed folder 'results\\hbv\\AT000234.zip' successfully created!\n"
     ]
    },
    {
     "name": "stderr",
     "output_type": "stream",
     "text": [
      "  5%|▍         | 153/3346 [00:23<08:11,  6.50it/s]"
     ]
    },
    {
     "name": "stdout",
     "output_type": "stream",
     "text": [
      "Compressed folder 'results\\hbv\\AT000235.zip' successfully created!\n",
      "Compressed folder 'results\\hbv\\AT000236.zip' successfully created!\n"
     ]
    },
    {
     "name": "stderr",
     "output_type": "stream",
     "text": [
      "  5%|▍         | 155/3346 [00:23<08:23,  6.33it/s]"
     ]
    },
    {
     "name": "stdout",
     "output_type": "stream",
     "text": [
      "Compressed folder 'results\\hbv\\AT000237.zip' successfully created!\n",
      "Compressed folder 'results\\hbv\\AT000238.zip' successfully created!\n"
     ]
    },
    {
     "name": "stderr",
     "output_type": "stream",
     "text": [
      "  5%|▍         | 157/3346 [00:24<08:04,  6.58it/s]"
     ]
    },
    {
     "name": "stdout",
     "output_type": "stream",
     "text": [
      "Compressed folder 'results\\hbv\\AT000239.zip' successfully created!\n",
      "Compressed folder 'results\\hbv\\AT000240.zip' successfully created!\n"
     ]
    },
    {
     "name": "stderr",
     "output_type": "stream",
     "text": [
      "  5%|▍         | 159/3346 [00:24<08:11,  6.49it/s]"
     ]
    },
    {
     "name": "stdout",
     "output_type": "stream",
     "text": [
      "Compressed folder 'results\\hbv\\AT000242.zip' successfully created!\n",
      "Compressed folder 'results\\hbv\\AT000243.zip' successfully created!\n"
     ]
    },
    {
     "name": "stderr",
     "output_type": "stream",
     "text": [
      "  5%|▍         | 161/3346 [00:24<08:02,  6.60it/s]"
     ]
    },
    {
     "name": "stdout",
     "output_type": "stream",
     "text": [
      "Compressed folder 'results\\hbv\\AT000245.zip' successfully created!\n",
      "Compressed folder 'results\\hbv\\AT000247.zip' successfully created!\n"
     ]
    },
    {
     "name": "stderr",
     "output_type": "stream",
     "text": [
      "  5%|▍         | 163/3346 [00:25<08:03,  6.58it/s]"
     ]
    },
    {
     "name": "stdout",
     "output_type": "stream",
     "text": [
      "Compressed folder 'results\\hbv\\AT000249.zip' successfully created!\n",
      "Compressed folder 'results\\hbv\\AT000250.zip' successfully created!\n"
     ]
    },
    {
     "name": "stderr",
     "output_type": "stream",
     "text": [
      "  5%|▍         | 164/3346 [00:25<08:26,  6.28it/s]"
     ]
    },
    {
     "name": "stdout",
     "output_type": "stream",
     "text": [
      "Compressed folder 'results\\hbv\\AT000252.zip' successfully created!\n"
     ]
    },
    {
     "name": "stderr",
     "output_type": "stream",
     "text": [
      "  5%|▍         | 166/3346 [00:25<10:21,  5.11it/s]"
     ]
    },
    {
     "name": "stdout",
     "output_type": "stream",
     "text": [
      "Compressed folder 'results\\hbv\\AT000254.zip' successfully created!\n",
      "Compressed folder 'results\\hbv\\AT000255.zip' successfully created!\n"
     ]
    },
    {
     "name": "stderr",
     "output_type": "stream",
     "text": [
      "  5%|▌         | 168/3346 [00:26<09:46,  5.42it/s]"
     ]
    },
    {
     "name": "stdout",
     "output_type": "stream",
     "text": [
      "Compressed folder 'results\\hbv\\AT000256.zip' successfully created!\n",
      "Compressed folder 'results\\hbv\\AT000257.zip' successfully created!\n"
     ]
    },
    {
     "name": "stderr",
     "output_type": "stream",
     "text": [
      "  5%|▌         | 170/3346 [00:26<09:10,  5.77it/s]"
     ]
    },
    {
     "name": "stdout",
     "output_type": "stream",
     "text": [
      "Compressed folder 'results\\hbv\\AT000258.zip' successfully created!\n",
      "Compressed folder 'results\\hbv\\AT000259.zip' successfully created!\n"
     ]
    },
    {
     "name": "stderr",
     "output_type": "stream",
     "text": [
      "  5%|▌         | 172/3346 [00:26<08:42,  6.08it/s]"
     ]
    },
    {
     "name": "stdout",
     "output_type": "stream",
     "text": [
      "Compressed folder 'results\\hbv\\AT000260.zip' successfully created!\n",
      "Compressed folder 'results\\hbv\\AT000261.zip' successfully created!\n"
     ]
    },
    {
     "name": "stderr",
     "output_type": "stream",
     "text": [
      "  5%|▌         | 174/3346 [00:27<08:30,  6.21it/s]"
     ]
    },
    {
     "name": "stdout",
     "output_type": "stream",
     "text": [
      "Compressed folder 'results\\hbv\\AT000268.zip' successfully created!\n",
      "Compressed folder 'results\\hbv\\AT000269.zip' successfully created!\n"
     ]
    },
    {
     "name": "stderr",
     "output_type": "stream",
     "text": [
      "  5%|▌         | 176/3346 [00:27<08:34,  6.17it/s]"
     ]
    },
    {
     "name": "stdout",
     "output_type": "stream",
     "text": [
      "Compressed folder 'results\\hbv\\AT000273.zip' successfully created!\n",
      "Compressed folder 'results\\hbv\\AT000275.zip' successfully created!\n"
     ]
    },
    {
     "name": "stderr",
     "output_type": "stream",
     "text": [
      "  5%|▌         | 178/3346 [00:27<08:34,  6.16it/s]"
     ]
    },
    {
     "name": "stdout",
     "output_type": "stream",
     "text": [
      "Compressed folder 'results\\hbv\\AT000276.zip' successfully created!\n",
      "Compressed folder 'results\\hbv\\AT000277.zip' successfully created!\n"
     ]
    },
    {
     "name": "stderr",
     "output_type": "stream",
     "text": [
      "  5%|▌         | 180/3346 [00:28<08:25,  6.27it/s]"
     ]
    },
    {
     "name": "stdout",
     "output_type": "stream",
     "text": [
      "Compressed folder 'results\\hbv\\AT000278.zip' successfully created!\n",
      "Compressed folder 'results\\hbv\\AT000280.zip' successfully created!\n"
     ]
    },
    {
     "name": "stderr",
     "output_type": "stream",
     "text": [
      "  5%|▌         | 182/3346 [00:28<08:25,  6.26it/s]"
     ]
    },
    {
     "name": "stdout",
     "output_type": "stream",
     "text": [
      "Compressed folder 'results\\hbv\\AT000281.zip' successfully created!\n",
      "Compressed folder 'results\\hbv\\AT000282.zip' successfully created!\n"
     ]
    },
    {
     "name": "stderr",
     "output_type": "stream",
     "text": [
      "  5%|▌         | 184/3346 [00:28<08:56,  5.89it/s]"
     ]
    },
    {
     "name": "stdout",
     "output_type": "stream",
     "text": [
      "Compressed folder 'results\\hbv\\AT000283.zip' successfully created!\n",
      "Compressed folder 'results\\hbv\\AT000284.zip' successfully created!\n"
     ]
    },
    {
     "name": "stderr",
     "output_type": "stream",
     "text": [
      "  6%|▌         | 186/3346 [00:28<08:20,  6.31it/s]"
     ]
    },
    {
     "name": "stdout",
     "output_type": "stream",
     "text": [
      "Compressed folder 'results\\hbv\\AT000285.zip' successfully created!\n",
      "Compressed folder 'results\\hbv\\AT000286.zip' successfully created!\n"
     ]
    },
    {
     "name": "stderr",
     "output_type": "stream",
     "text": [
      "  6%|▌         | 188/3346 [00:29<08:11,  6.42it/s]"
     ]
    },
    {
     "name": "stdout",
     "output_type": "stream",
     "text": [
      "Compressed folder 'results\\hbv\\AT000287.zip' successfully created!\n",
      "Compressed folder 'results\\hbv\\AT000288.zip' successfully created!\n"
     ]
    },
    {
     "name": "stderr",
     "output_type": "stream",
     "text": [
      "  6%|▌         | 190/3346 [00:29<08:02,  6.54it/s]"
     ]
    },
    {
     "name": "stdout",
     "output_type": "stream",
     "text": [
      "Compressed folder 'results\\hbv\\AT000289.zip' successfully created!\n",
      "Compressed folder 'results\\hbv\\AT000290.zip' successfully created!\n"
     ]
    },
    {
     "name": "stderr",
     "output_type": "stream",
     "text": [
      "  6%|▌         | 192/3346 [00:29<08:01,  6.56it/s]"
     ]
    },
    {
     "name": "stdout",
     "output_type": "stream",
     "text": [
      "Compressed folder 'results\\hbv\\AT000291.zip' successfully created!\n",
      "Compressed folder 'results\\hbv\\AT000292.zip' successfully created!\n"
     ]
    },
    {
     "name": "stderr",
     "output_type": "stream",
     "text": [
      "  6%|▌         | 194/3346 [00:30<08:20,  6.30it/s]"
     ]
    },
    {
     "name": "stdout",
     "output_type": "stream",
     "text": [
      "Compressed folder 'results\\hbv\\AT000295.zip' successfully created!\n",
      "Compressed folder 'results\\hbv\\AT000297.zip' successfully created!\n"
     ]
    },
    {
     "name": "stderr",
     "output_type": "stream",
     "text": [
      "  6%|▌         | 196/3346 [00:30<08:24,  6.25it/s]"
     ]
    },
    {
     "name": "stdout",
     "output_type": "stream",
     "text": [
      "Compressed folder 'results\\hbv\\AT000298.zip' successfully created!\n",
      "Compressed folder 'results\\hbv\\AT000299.zip' successfully created!\n"
     ]
    },
    {
     "name": "stderr",
     "output_type": "stream",
     "text": [
      "  6%|▌         | 198/3346 [00:30<08:29,  6.18it/s]"
     ]
    },
    {
     "name": "stdout",
     "output_type": "stream",
     "text": [
      "Compressed folder 'results\\hbv\\AT000300.zip' successfully created!\n",
      "Compressed folder 'results\\hbv\\AT000301.zip' successfully created!\n"
     ]
    },
    {
     "name": "stderr",
     "output_type": "stream",
     "text": [
      "  6%|▌         | 200/3346 [00:31<08:44,  6.00it/s]"
     ]
    },
    {
     "name": "stdout",
     "output_type": "stream",
     "text": [
      "Compressed folder 'results\\hbv\\AT000302.zip' successfully created!\n",
      "Compressed folder 'results\\hbv\\AT000303.zip' successfully created!\n"
     ]
    },
    {
     "name": "stderr",
     "output_type": "stream",
     "text": [
      "  6%|▌         | 202/3346 [00:31<08:49,  5.93it/s]"
     ]
    },
    {
     "name": "stdout",
     "output_type": "stream",
     "text": [
      "Compressed folder 'results\\hbv\\AT000304.zip' successfully created!\n",
      "Compressed folder 'results\\hbv\\AT000306.zip' successfully created!\n"
     ]
    },
    {
     "name": "stderr",
     "output_type": "stream",
     "text": [
      "  6%|▌         | 204/3346 [00:31<08:55,  5.87it/s]"
     ]
    },
    {
     "name": "stdout",
     "output_type": "stream",
     "text": [
      "Compressed folder 'results\\hbv\\AT000308.zip' successfully created!\n",
      "Compressed folder 'results\\hbv\\AT000309.zip' successfully created!\n"
     ]
    },
    {
     "name": "stderr",
     "output_type": "stream",
     "text": [
      "  6%|▌         | 206/3346 [00:32<08:59,  5.82it/s]"
     ]
    },
    {
     "name": "stdout",
     "output_type": "stream",
     "text": [
      "Compressed folder 'results\\hbv\\AT000310.zip' successfully created!\n",
      "Compressed folder 'results\\hbv\\AT000311.zip' successfully created!\n"
     ]
    },
    {
     "name": "stderr",
     "output_type": "stream",
     "text": [
      "  6%|▌         | 208/3346 [00:32<09:19,  5.61it/s]"
     ]
    },
    {
     "name": "stdout",
     "output_type": "stream",
     "text": [
      "Compressed folder 'results\\hbv\\AT000313.zip' successfully created!\n",
      "Compressed folder 'results\\hbv\\AT000314.zip' successfully created!\n"
     ]
    },
    {
     "name": "stderr",
     "output_type": "stream",
     "text": [
      "  6%|▋         | 210/3346 [00:32<08:53,  5.88it/s]"
     ]
    },
    {
     "name": "stdout",
     "output_type": "stream",
     "text": [
      "Compressed folder 'results\\hbv\\AT000315.zip' successfully created!\n",
      "Compressed folder 'results\\hbv\\AT000316.zip' successfully created!\n"
     ]
    },
    {
     "name": "stderr",
     "output_type": "stream",
     "text": [
      "  6%|▋         | 212/3346 [00:33<08:44,  5.98it/s]"
     ]
    },
    {
     "name": "stdout",
     "output_type": "stream",
     "text": [
      "Compressed folder 'results\\hbv\\AT000318.zip' successfully created!\n",
      "Compressed folder 'results\\hbv\\AT000319.zip' successfully created!\n"
     ]
    },
    {
     "name": "stderr",
     "output_type": "stream",
     "text": [
      "  6%|▋         | 214/3346 [00:33<08:55,  5.84it/s]"
     ]
    },
    {
     "name": "stdout",
     "output_type": "stream",
     "text": [
      "Compressed folder 'results\\hbv\\AT000320.zip' successfully created!\n",
      "Compressed folder 'results\\hbv\\AT000323.zip' successfully created!\n"
     ]
    },
    {
     "name": "stderr",
     "output_type": "stream",
     "text": [
      "  6%|▋         | 216/3346 [00:33<09:10,  5.69it/s]"
     ]
    },
    {
     "name": "stdout",
     "output_type": "stream",
     "text": [
      "Compressed folder 'results\\hbv\\AT000324.zip' successfully created!\n",
      "Compressed folder 'results\\hbv\\AT000326.zip' successfully created!\n"
     ]
    },
    {
     "name": "stderr",
     "output_type": "stream",
     "text": [
      "  7%|▋         | 218/3346 [00:34<08:47,  5.93it/s]"
     ]
    },
    {
     "name": "stdout",
     "output_type": "stream",
     "text": [
      "Compressed folder 'results\\hbv\\AT000328.zip' successfully created!\n",
      "Compressed folder 'results\\hbv\\AT000329.zip' successfully created!\n"
     ]
    },
    {
     "name": "stderr",
     "output_type": "stream",
     "text": [
      "  7%|▋         | 220/3346 [00:34<08:37,  6.04it/s]"
     ]
    },
    {
     "name": "stdout",
     "output_type": "stream",
     "text": [
      "Compressed folder 'results\\hbv\\AT000330.zip' successfully created!\n",
      "Compressed folder 'results\\hbv\\AT000332.zip' successfully created!\n"
     ]
    },
    {
     "name": "stderr",
     "output_type": "stream",
     "text": [
      "  7%|▋         | 222/3346 [00:34<08:24,  6.19it/s]"
     ]
    },
    {
     "name": "stdout",
     "output_type": "stream",
     "text": [
      "Compressed folder 'results\\hbv\\AT000333.zip' successfully created!\n",
      "Compressed folder 'results\\hbv\\AT000334.zip' successfully created!\n"
     ]
    },
    {
     "name": "stderr",
     "output_type": "stream",
     "text": [
      "  7%|▋         | 224/3346 [00:35<08:24,  6.18it/s]"
     ]
    },
    {
     "name": "stdout",
     "output_type": "stream",
     "text": [
      "Compressed folder 'results\\hbv\\AT000335.zip' successfully created!\n",
      "Compressed folder 'results\\hbv\\AT000336.zip' successfully created!\n"
     ]
    },
    {
     "name": "stderr",
     "output_type": "stream",
     "text": [
      "  7%|▋         | 226/3346 [00:35<08:43,  5.96it/s]"
     ]
    },
    {
     "name": "stdout",
     "output_type": "stream",
     "text": [
      "Compressed folder 'results\\hbv\\AT000337.zip' successfully created!\n",
      "Compressed folder 'results\\hbv\\AT000338.zip' successfully created!\n"
     ]
    },
    {
     "name": "stderr",
     "output_type": "stream",
     "text": [
      "  7%|▋         | 228/3346 [00:35<09:00,  5.77it/s]"
     ]
    },
    {
     "name": "stdout",
     "output_type": "stream",
     "text": [
      "Compressed folder 'results\\hbv\\AT000340.zip' successfully created!\n",
      "Compressed folder 'results\\hbv\\AT000341.zip' successfully created!\n"
     ]
    },
    {
     "name": "stderr",
     "output_type": "stream",
     "text": [
      "  7%|▋         | 230/3346 [00:36<09:19,  5.57it/s]"
     ]
    },
    {
     "name": "stdout",
     "output_type": "stream",
     "text": [
      "Compressed folder 'results\\hbv\\AT000342.zip' successfully created!\n",
      "Compressed folder 'results\\hbv\\AT000343.zip' successfully created!\n"
     ]
    },
    {
     "name": "stderr",
     "output_type": "stream",
     "text": [
      "  7%|▋         | 232/3346 [00:36<08:57,  5.79it/s]"
     ]
    },
    {
     "name": "stdout",
     "output_type": "stream",
     "text": [
      "Compressed folder 'results\\hbv\\AT000344.zip' successfully created!\n",
      "Compressed folder 'results\\hbv\\AT000345.zip' successfully created!\n"
     ]
    },
    {
     "name": "stderr",
     "output_type": "stream",
     "text": [
      "  7%|▋         | 234/3346 [00:37<08:45,  5.92it/s]"
     ]
    },
    {
     "name": "stdout",
     "output_type": "stream",
     "text": [
      "Compressed folder 'results\\hbv\\AT000346.zip' successfully created!\n",
      "Compressed folder 'results\\hbv\\AT000347.zip' successfully created!\n"
     ]
    },
    {
     "name": "stderr",
     "output_type": "stream",
     "text": [
      "  7%|▋         | 236/3346 [00:37<08:36,  6.03it/s]"
     ]
    },
    {
     "name": "stdout",
     "output_type": "stream",
     "text": [
      "Compressed folder 'results\\hbv\\AT000349.zip' successfully created!\n",
      "Compressed folder 'results\\hbv\\AT000351.zip' successfully created!\n"
     ]
    },
    {
     "name": "stderr",
     "output_type": "stream",
     "text": [
      "  7%|▋         | 238/3346 [00:37<08:48,  5.88it/s]"
     ]
    },
    {
     "name": "stdout",
     "output_type": "stream",
     "text": [
      "Compressed folder 'results\\hbv\\AT000352.zip' successfully created!\n",
      "Compressed folder 'results\\hbv\\AT000353.zip' successfully created!\n"
     ]
    },
    {
     "name": "stderr",
     "output_type": "stream",
     "text": [
      "  7%|▋         | 240/3346 [00:38<08:42,  5.94it/s]"
     ]
    },
    {
     "name": "stdout",
     "output_type": "stream",
     "text": [
      "Compressed folder 'results\\hbv\\AT000354.zip' successfully created!\n",
      "Compressed folder 'results\\hbv\\AT000356.zip' successfully created!\n"
     ]
    },
    {
     "name": "stderr",
     "output_type": "stream",
     "text": [
      "  7%|▋         | 242/3346 [00:38<08:42,  5.94it/s]"
     ]
    },
    {
     "name": "stdout",
     "output_type": "stream",
     "text": [
      "Compressed folder 'results\\hbv\\AT000357.zip' successfully created!\n",
      "Compressed folder 'results\\hbv\\AT000358.zip' successfully created!\n"
     ]
    },
    {
     "name": "stderr",
     "output_type": "stream",
     "text": [
      "  7%|▋         | 244/3346 [00:38<08:36,  6.01it/s]"
     ]
    },
    {
     "name": "stdout",
     "output_type": "stream",
     "text": [
      "Compressed folder 'results\\hbv\\AT000360.zip' successfully created!\n",
      "Compressed folder 'results\\hbv\\AT000361.zip' successfully created!\n"
     ]
    },
    {
     "name": "stderr",
     "output_type": "stream",
     "text": [
      "  7%|▋         | 246/3346 [00:38<08:27,  6.11it/s]"
     ]
    },
    {
     "name": "stdout",
     "output_type": "stream",
     "text": [
      "Compressed folder 'results\\hbv\\AT000363.zip' successfully created!\n",
      "Compressed folder 'results\\hbv\\AT000365.zip' successfully created!\n"
     ]
    },
    {
     "name": "stderr",
     "output_type": "stream",
     "text": [
      "  7%|▋         | 248/3346 [00:39<08:24,  6.14it/s]"
     ]
    },
    {
     "name": "stdout",
     "output_type": "stream",
     "text": [
      "Compressed folder 'results\\hbv\\AT000367.zip' successfully created!\n",
      "Compressed folder 'results\\hbv\\AT000368.zip' successfully created!\n"
     ]
    },
    {
     "name": "stderr",
     "output_type": "stream",
     "text": [
      "  7%|▋         | 250/3346 [00:39<08:00,  6.45it/s]"
     ]
    },
    {
     "name": "stdout",
     "output_type": "stream",
     "text": [
      "Compressed folder 'results\\hbv\\AT000372.zip' successfully created!\n",
      "Compressed folder 'results\\hbv\\AT000373.zip' successfully created!\n"
     ]
    },
    {
     "name": "stderr",
     "output_type": "stream",
     "text": [
      "  8%|▊         | 252/3346 [00:39<08:11,  6.29it/s]"
     ]
    },
    {
     "name": "stdout",
     "output_type": "stream",
     "text": [
      "Compressed folder 'results\\hbv\\AT000374.zip' successfully created!\n",
      "Compressed folder 'results\\hbv\\AT000375.zip' successfully created!\n"
     ]
    },
    {
     "name": "stderr",
     "output_type": "stream",
     "text": [
      "  8%|▊         | 254/3346 [00:40<08:10,  6.31it/s]"
     ]
    },
    {
     "name": "stdout",
     "output_type": "stream",
     "text": [
      "Compressed folder 'results\\hbv\\AT000378.zip' successfully created!\n",
      "Compressed folder 'results\\hbv\\AT000380.zip' successfully created!\n"
     ]
    },
    {
     "name": "stderr",
     "output_type": "stream",
     "text": [
      "  8%|▊         | 256/3346 [00:40<08:36,  5.98it/s]"
     ]
    },
    {
     "name": "stdout",
     "output_type": "stream",
     "text": [
      "Compressed folder 'results\\hbv\\AT000382.zip' successfully created!\n",
      "Compressed folder 'results\\hbv\\AT000383.zip' successfully created!\n"
     ]
    },
    {
     "name": "stderr",
     "output_type": "stream",
     "text": [
      "  8%|▊         | 258/3346 [00:40<08:31,  6.04it/s]"
     ]
    },
    {
     "name": "stdout",
     "output_type": "stream",
     "text": [
      "Compressed folder 'results\\hbv\\AT000386.zip' successfully created!\n",
      "Compressed folder 'results\\hbv\\AT000391.zip' successfully created!\n"
     ]
    },
    {
     "name": "stderr",
     "output_type": "stream",
     "text": [
      "  8%|▊         | 260/3346 [00:41<08:07,  6.33it/s]"
     ]
    },
    {
     "name": "stdout",
     "output_type": "stream",
     "text": [
      "Compressed folder 'results\\hbv\\AT000392.zip' successfully created!\n",
      "Compressed folder 'results\\hbv\\AT000394.zip' successfully created!\n"
     ]
    },
    {
     "name": "stderr",
     "output_type": "stream",
     "text": [
      "  8%|▊         | 262/3346 [00:41<08:07,  6.33it/s]"
     ]
    },
    {
     "name": "stdout",
     "output_type": "stream",
     "text": [
      "Compressed folder 'results\\hbv\\AT000397.zip' successfully created!\n",
      "Compressed folder 'results\\hbv\\AT000398.zip' successfully created!\n"
     ]
    },
    {
     "name": "stderr",
     "output_type": "stream",
     "text": [
      "  8%|▊         | 264/3346 [00:41<08:10,  6.28it/s]"
     ]
    },
    {
     "name": "stdout",
     "output_type": "stream",
     "text": [
      "Compressed folder 'results\\hbv\\AT000399.zip' successfully created!\n",
      "Compressed folder 'results\\hbv\\AT000400.zip' successfully created!\n"
     ]
    },
    {
     "name": "stderr",
     "output_type": "stream",
     "text": [
      "  8%|▊         | 266/3346 [00:42<08:16,  6.21it/s]"
     ]
    },
    {
     "name": "stdout",
     "output_type": "stream",
     "text": [
      "Compressed folder 'results\\hbv\\AT000401.zip' successfully created!\n",
      "Compressed folder 'results\\hbv\\AT000402.zip' successfully created!\n"
     ]
    },
    {
     "name": "stderr",
     "output_type": "stream",
     "text": [
      "  8%|▊         | 268/3346 [00:42<08:26,  6.08it/s]"
     ]
    },
    {
     "name": "stdout",
     "output_type": "stream",
     "text": [
      "Compressed folder 'results\\hbv\\AT000403.zip' successfully created!\n",
      "Compressed folder 'results\\hbv\\AT000404.zip' successfully created!\n"
     ]
    },
    {
     "name": "stderr",
     "output_type": "stream",
     "text": [
      "  8%|▊         | 270/3346 [00:42<08:28,  6.05it/s]"
     ]
    },
    {
     "name": "stdout",
     "output_type": "stream",
     "text": [
      "Compressed folder 'results\\hbv\\AT000406.zip' successfully created!\n",
      "Compressed folder 'results\\hbv\\AT000407.zip' successfully created!\n"
     ]
    },
    {
     "name": "stderr",
     "output_type": "stream",
     "text": [
      "  8%|▊         | 272/3346 [00:43<08:32,  6.00it/s]"
     ]
    },
    {
     "name": "stdout",
     "output_type": "stream",
     "text": [
      "Compressed folder 'results\\hbv\\AT000408.zip' successfully created!\n",
      "Compressed folder 'results\\hbv\\AT000409.zip' successfully created!\n"
     ]
    },
    {
     "name": "stderr",
     "output_type": "stream",
     "text": [
      "  8%|▊         | 274/3346 [00:43<08:36,  5.95it/s]"
     ]
    },
    {
     "name": "stdout",
     "output_type": "stream",
     "text": [
      "Compressed folder 'results\\hbv\\AT000410.zip' successfully created!\n",
      "Compressed folder 'results\\hbv\\AT000411.zip' successfully created!\n"
     ]
    },
    {
     "name": "stderr",
     "output_type": "stream",
     "text": [
      "  8%|▊         | 276/3346 [00:43<08:28,  6.04it/s]"
     ]
    },
    {
     "name": "stdout",
     "output_type": "stream",
     "text": [
      "Compressed folder 'results\\hbv\\AT000417.zip' successfully created!\n",
      "Compressed folder 'results\\hbv\\AT000418.zip' successfully created!\n"
     ]
    },
    {
     "name": "stderr",
     "output_type": "stream",
     "text": [
      "  8%|▊         | 278/3346 [00:44<08:53,  5.75it/s]"
     ]
    },
    {
     "name": "stdout",
     "output_type": "stream",
     "text": [
      "Compressed folder 'results\\hbv\\AT000423.zip' successfully created!\n",
      "Compressed folder 'results\\hbv\\AT000424.zip' successfully created!\n"
     ]
    },
    {
     "name": "stderr",
     "output_type": "stream",
     "text": [
      "  8%|▊         | 280/3346 [00:44<08:34,  5.96it/s]"
     ]
    },
    {
     "name": "stdout",
     "output_type": "stream",
     "text": [
      "Compressed folder 'results\\hbv\\AT000425.zip' successfully created!\n",
      "Compressed folder 'results\\hbv\\AT000426.zip' successfully created!\n"
     ]
    },
    {
     "name": "stderr",
     "output_type": "stream",
     "text": [
      "  8%|▊         | 282/3346 [00:44<09:23,  5.44it/s]"
     ]
    },
    {
     "name": "stdout",
     "output_type": "stream",
     "text": [
      "Compressed folder 'results\\hbv\\AT000427.zip' successfully created!\n",
      "Compressed folder 'results\\hbv\\AT000428.zip' successfully created!\n"
     ]
    },
    {
     "name": "stderr",
     "output_type": "stream",
     "text": [
      "  8%|▊         | 284/3346 [00:45<09:06,  5.60it/s]"
     ]
    },
    {
     "name": "stdout",
     "output_type": "stream",
     "text": [
      "Compressed folder 'results\\hbv\\AT000429.zip' successfully created!\n",
      "Compressed folder 'results\\hbv\\AT000431.zip' successfully created!\n"
     ]
    },
    {
     "name": "stderr",
     "output_type": "stream",
     "text": [
      "  9%|▊         | 286/3346 [00:45<08:33,  5.96it/s]"
     ]
    },
    {
     "name": "stdout",
     "output_type": "stream",
     "text": [
      "Compressed folder 'results\\hbv\\AT000432.zip' successfully created!\n",
      "Compressed folder 'results\\hbv\\AT000433.zip' successfully created!\n"
     ]
    },
    {
     "name": "stderr",
     "output_type": "stream",
     "text": [
      "  9%|▊         | 288/3346 [00:46<08:44,  5.83it/s]"
     ]
    },
    {
     "name": "stdout",
     "output_type": "stream",
     "text": [
      "Compressed folder 'results\\hbv\\AT000434.zip' successfully created!\n",
      "Compressed folder 'results\\hbv\\AT000435.zip' successfully created!\n"
     ]
    },
    {
     "name": "stderr",
     "output_type": "stream",
     "text": [
      "  9%|▊         | 290/3346 [00:46<08:56,  5.69it/s]"
     ]
    },
    {
     "name": "stdout",
     "output_type": "stream",
     "text": [
      "Compressed folder 'results\\hbv\\AT000437.zip' successfully created!\n",
      "Compressed folder 'results\\hbv\\AT000438.zip' successfully created!\n"
     ]
    },
    {
     "name": "stderr",
     "output_type": "stream",
     "text": [
      "  9%|▊         | 292/3346 [00:46<08:53,  5.73it/s]"
     ]
    },
    {
     "name": "stdout",
     "output_type": "stream",
     "text": [
      "Compressed folder 'results\\hbv\\AT000439.zip' successfully created!\n",
      "Compressed folder 'results\\hbv\\AT000440.zip' successfully created!\n"
     ]
    },
    {
     "name": "stderr",
     "output_type": "stream",
     "text": [
      "  9%|▉         | 294/3346 [00:47<08:58,  5.67it/s]"
     ]
    },
    {
     "name": "stdout",
     "output_type": "stream",
     "text": [
      "Compressed folder 'results\\hbv\\AT000441.zip' successfully created!\n",
      "Compressed folder 'results\\hbv\\AT000442.zip' successfully created!\n"
     ]
    },
    {
     "name": "stderr",
     "output_type": "stream",
     "text": [
      "  9%|▉         | 296/3346 [00:47<08:43,  5.83it/s]"
     ]
    },
    {
     "name": "stdout",
     "output_type": "stream",
     "text": [
      "Compressed folder 'results\\hbv\\AT000443.zip' successfully created!\n",
      "Compressed folder 'results\\hbv\\AT000444.zip' successfully created!\n"
     ]
    },
    {
     "name": "stderr",
     "output_type": "stream",
     "text": [
      "  9%|▉         | 298/3346 [00:47<08:21,  6.08it/s]"
     ]
    },
    {
     "name": "stdout",
     "output_type": "stream",
     "text": [
      "Compressed folder 'results\\hbv\\AT000445.zip' successfully created!\n",
      "Compressed folder 'results\\hbv\\AT000446.zip' successfully created!\n"
     ]
    },
    {
     "name": "stderr",
     "output_type": "stream",
     "text": [
      "  9%|▉         | 300/3346 [00:48<09:03,  5.60it/s]"
     ]
    },
    {
     "name": "stdout",
     "output_type": "stream",
     "text": [
      "Compressed folder 'results\\hbv\\AT000447.zip' successfully created!\n",
      "Compressed folder 'results\\hbv\\AT000448.zip' successfully created!\n"
     ]
    },
    {
     "name": "stderr",
     "output_type": "stream",
     "text": [
      "  9%|▉         | 301/3346 [00:48<08:42,  5.83it/s]"
     ]
    },
    {
     "name": "stdout",
     "output_type": "stream",
     "text": [
      "Compressed folder 'results\\hbv\\AT000449.zip' successfully created!\n"
     ]
    },
    {
     "name": "stderr",
     "output_type": "stream",
     "text": [
      "  9%|▉         | 303/3346 [00:48<09:13,  5.49it/s]"
     ]
    },
    {
     "name": "stdout",
     "output_type": "stream",
     "text": [
      "Compressed folder 'results\\hbv\\AT000450.zip' successfully created!\n",
      "Compressed folder 'results\\hbv\\AT000451.zip' successfully created!\n"
     ]
    },
    {
     "name": "stderr",
     "output_type": "stream",
     "text": [
      "  9%|▉         | 305/3346 [00:48<08:41,  5.83it/s]"
     ]
    },
    {
     "name": "stdout",
     "output_type": "stream",
     "text": [
      "Compressed folder 'results\\hbv\\AT000452.zip' successfully created!\n",
      "Compressed folder 'results\\hbv\\AT000453.zip' successfully created!\n"
     ]
    },
    {
     "name": "stderr",
     "output_type": "stream",
     "text": [
      "  9%|▉         | 307/3346 [00:49<08:16,  6.12it/s]"
     ]
    },
    {
     "name": "stdout",
     "output_type": "stream",
     "text": [
      "Compressed folder 'results\\hbv\\AT000455.zip' successfully created!\n",
      "Compressed folder 'results\\hbv\\AT000456.zip' successfully created!\n"
     ]
    },
    {
     "name": "stderr",
     "output_type": "stream",
     "text": [
      "  9%|▉         | 309/3346 [00:49<08:31,  5.93it/s]"
     ]
    },
    {
     "name": "stdout",
     "output_type": "stream",
     "text": [
      "Compressed folder 'results\\hbv\\AT000457.zip' successfully created!\n",
      "Compressed folder 'results\\hbv\\AT000458.zip' successfully created!\n"
     ]
    },
    {
     "name": "stderr",
     "output_type": "stream",
     "text": [
      "  9%|▉         | 311/3346 [00:49<08:43,  5.80it/s]"
     ]
    },
    {
     "name": "stdout",
     "output_type": "stream",
     "text": [
      "Compressed folder 'results\\hbv\\AT000460.zip' successfully created!\n",
      "Compressed folder 'results\\hbv\\AT000461.zip' successfully created!\n"
     ]
    },
    {
     "name": "stderr",
     "output_type": "stream",
     "text": [
      "  9%|▉         | 313/3346 [00:50<08:17,  6.10it/s]"
     ]
    },
    {
     "name": "stdout",
     "output_type": "stream",
     "text": [
      "Compressed folder 'results\\hbv\\AT000462.zip' successfully created!\n",
      "Compressed folder 'results\\hbv\\AT000463.zip' successfully created!\n"
     ]
    },
    {
     "name": "stderr",
     "output_type": "stream",
     "text": [
      "  9%|▉         | 315/3346 [00:50<08:08,  6.21it/s]"
     ]
    },
    {
     "name": "stdout",
     "output_type": "stream",
     "text": [
      "Compressed folder 'results\\hbv\\AT000464.zip' successfully created!\n",
      "Compressed folder 'results\\hbv\\AT000465.zip' successfully created!\n"
     ]
    },
    {
     "name": "stderr",
     "output_type": "stream",
     "text": [
      "  9%|▉         | 317/3346 [00:50<07:50,  6.43it/s]"
     ]
    },
    {
     "name": "stdout",
     "output_type": "stream",
     "text": [
      "Compressed folder 'results\\hbv\\AT000466.zip' successfully created!\n",
      "Compressed folder 'results\\hbv\\AT000467.zip' successfully created!\n"
     ]
    },
    {
     "name": "stderr",
     "output_type": "stream",
     "text": [
      " 10%|▉         | 319/3346 [00:51<07:56,  6.36it/s]"
     ]
    },
    {
     "name": "stdout",
     "output_type": "stream",
     "text": [
      "Compressed folder 'results\\hbv\\AT000468.zip' successfully created!\n",
      "Compressed folder 'results\\hbv\\AT000469.zip' successfully created!\n"
     ]
    },
    {
     "name": "stderr",
     "output_type": "stream",
     "text": [
      " 10%|▉         | 321/3346 [00:51<07:46,  6.49it/s]"
     ]
    },
    {
     "name": "stdout",
     "output_type": "stream",
     "text": [
      "Compressed folder 'results\\hbv\\AT000470.zip' successfully created!\n",
      "Compressed folder 'results\\hbv\\AT000471.zip' successfully created!\n"
     ]
    },
    {
     "name": "stderr",
     "output_type": "stream",
     "text": [
      " 10%|▉         | 323/3346 [00:51<07:57,  6.33it/s]"
     ]
    },
    {
     "name": "stdout",
     "output_type": "stream",
     "text": [
      "Compressed folder 'results\\hbv\\AT000474.zip' successfully created!\n",
      "Compressed folder 'results\\hbv\\AT000475.zip' successfully created!\n"
     ]
    },
    {
     "name": "stderr",
     "output_type": "stream",
     "text": [
      " 10%|▉         | 325/3346 [00:52<08:37,  5.84it/s]"
     ]
    },
    {
     "name": "stdout",
     "output_type": "stream",
     "text": [
      "Compressed folder 'results\\hbv\\AT000477.zip' successfully created!\n",
      "Compressed folder 'results\\hbv\\AT000481.zip' successfully created!\n"
     ]
    },
    {
     "name": "stderr",
     "output_type": "stream",
     "text": [
      " 10%|▉         | 327/3346 [00:52<08:16,  6.08it/s]"
     ]
    },
    {
     "name": "stdout",
     "output_type": "stream",
     "text": [
      "Compressed folder 'results\\hbv\\AT000483.zip' successfully created!\n",
      "Compressed folder 'results\\hbv\\AT000485.zip' successfully created!\n"
     ]
    },
    {
     "name": "stderr",
     "output_type": "stream",
     "text": [
      " 10%|▉         | 328/3346 [00:52<11:09,  4.51it/s]"
     ]
    },
    {
     "name": "stdout",
     "output_type": "stream",
     "text": [
      "Compressed folder 'results\\hbv\\AT000486.zip' successfully created!\n"
     ]
    },
    {
     "name": "stderr",
     "output_type": "stream",
     "text": [
      " 10%|▉         | 329/3346 [00:53<12:27,  4.03it/s]"
     ]
    },
    {
     "name": "stdout",
     "output_type": "stream",
     "text": [
      "Compressed folder 'results\\hbv\\AT000488.zip' successfully created!\n"
     ]
    },
    {
     "name": "stderr",
     "output_type": "stream",
     "text": [
      " 10%|▉         | 330/3346 [00:53<12:48,  3.92it/s]"
     ]
    },
    {
     "name": "stdout",
     "output_type": "stream",
     "text": [
      "Compressed folder 'results\\hbv\\AT000489.zip' successfully created!\n"
     ]
    },
    {
     "name": "stderr",
     "output_type": "stream",
     "text": [
      " 10%|▉         | 331/3346 [00:53<14:07,  3.56it/s]"
     ]
    },
    {
     "name": "stdout",
     "output_type": "stream",
     "text": [
      "Compressed folder 'results\\hbv\\AT000491.zip' successfully created!\n"
     ]
    },
    {
     "name": "stderr",
     "output_type": "stream",
     "text": [
      " 10%|▉         | 332/3346 [00:54<15:43,  3.19it/s]"
     ]
    },
    {
     "name": "stdout",
     "output_type": "stream",
     "text": [
      "Compressed folder 'results\\hbv\\AT000492.zip' successfully created!\n"
     ]
    },
    {
     "name": "stderr",
     "output_type": "stream",
     "text": [
      " 10%|▉         | 333/3346 [00:54<14:49,  3.39it/s]"
     ]
    },
    {
     "name": "stdout",
     "output_type": "stream",
     "text": [
      "Compressed folder 'results\\hbv\\AT000493.zip' successfully created!\n"
     ]
    },
    {
     "name": "stderr",
     "output_type": "stream",
     "text": [
      " 10%|▉         | 334/3346 [00:54<14:29,  3.47it/s]"
     ]
    },
    {
     "name": "stdout",
     "output_type": "stream",
     "text": [
      "Compressed folder 'results\\hbv\\AT000495.zip' successfully created!\n"
     ]
    },
    {
     "name": "stderr",
     "output_type": "stream",
     "text": [
      " 10%|█         | 335/3346 [00:55<15:04,  3.33it/s]"
     ]
    },
    {
     "name": "stdout",
     "output_type": "stream",
     "text": [
      "Compressed folder 'results\\hbv\\AT000500.zip' successfully created!\n"
     ]
    },
    {
     "name": "stderr",
     "output_type": "stream",
     "text": [
      " 10%|█         | 336/3346 [00:55<14:53,  3.37it/s]"
     ]
    },
    {
     "name": "stdout",
     "output_type": "stream",
     "text": [
      "Compressed folder 'results\\hbv\\AT000502.zip' successfully created!\n"
     ]
    },
    {
     "name": "stderr",
     "output_type": "stream",
     "text": [
      " 10%|█         | 337/3346 [00:55<14:51,  3.37it/s]"
     ]
    },
    {
     "name": "stdout",
     "output_type": "stream",
     "text": [
      "Compressed folder 'results\\hbv\\AT000504.zip' successfully created!\n"
     ]
    },
    {
     "name": "stderr",
     "output_type": "stream",
     "text": [
      " 10%|█         | 339/3346 [00:56<12:35,  3.98it/s]"
     ]
    },
    {
     "name": "stdout",
     "output_type": "stream",
     "text": [
      "Compressed folder 'results\\hbv\\AT000505.zip' successfully created!\n",
      "Compressed folder 'results\\hbv\\AT000507.zip' successfully created!\n"
     ]
    },
    {
     "name": "stderr",
     "output_type": "stream",
     "text": [
      " 10%|█         | 341/3346 [00:56<10:14,  4.89it/s]"
     ]
    },
    {
     "name": "stdout",
     "output_type": "stream",
     "text": [
      "Compressed folder 'results\\hbv\\AT000508.zip' successfully created!\n",
      "Compressed folder 'results\\hbv\\AT000509.zip' successfully created!\n"
     ]
    },
    {
     "name": "stderr",
     "output_type": "stream",
     "text": [
      " 10%|█         | 343/3346 [00:56<08:42,  5.74it/s]"
     ]
    },
    {
     "name": "stdout",
     "output_type": "stream",
     "text": [
      "Compressed folder 'results\\hbv\\AT000510.zip' successfully created!\n",
      "Compressed folder 'results\\hbv\\AT000511.zip' successfully created!\n"
     ]
    },
    {
     "name": "stderr",
     "output_type": "stream",
     "text": [
      " 10%|█         | 345/3346 [00:57<08:14,  6.07it/s]"
     ]
    },
    {
     "name": "stdout",
     "output_type": "stream",
     "text": [
      "Compressed folder 'results\\hbv\\AT000513.zip' successfully created!\n",
      "Compressed folder 'results\\hbv\\AT000514.zip' successfully created!\n"
     ]
    },
    {
     "name": "stderr",
     "output_type": "stream",
     "text": [
      " 10%|█         | 347/3346 [00:57<07:56,  6.29it/s]"
     ]
    },
    {
     "name": "stdout",
     "output_type": "stream",
     "text": [
      "Compressed folder 'results\\hbv\\AT000515.zip' successfully created!\n",
      "Compressed folder 'results\\hbv\\AT000518.zip' successfully created!\n"
     ]
    },
    {
     "name": "stderr",
     "output_type": "stream",
     "text": [
      " 10%|█         | 348/3346 [00:57<07:45,  6.44it/s]"
     ]
    }
   ],
   "source": [
    "for basin_id in tqdm.tqdm(network_estreams_filtered.index):\n",
    "    data = pd.read_csv(path_estreams+\"\\estreams_timeseries_\"+basin_id+\".csv\", index_col=0)\n",
    "\n",
    "    #data[\"q_mean\"] = timeseries_estreams[basin_id]\n",
    "    #data.to_csv(r\"C:\\Users\\nascimth\\Documents\\Thiago\\Eawag\\Python\\Data\\data\"+\"\\estreams_timeseries_\"+basin_id+\".csv\")\n",
    "\n",
    "    output_folder = f\"results\\hbv\\{basin_id}\"  # Folder named after the basin_id\n",
    "    txt_filename = os.path.join(output_folder, \"ptq_estreams.txt\")\n",
    "    txt_filename_evap = os.path.join(output_folder, \"evap_estreams.txt\")\n",
    "\n",
    "    zip_filename = f\"results\\hbv\\{basin_id}.zip\"\n",
    "\n",
    "    # Create the output folder\n",
    "    os.makedirs(output_folder, exist_ok=True)\n",
    "\n",
    "    # Ensure the required columns exist\n",
    "    required_columns = [\"p_mean\", \"t_mean\", \"q_mean\"]\n",
    "    df_selected = data[required_columns].copy()\n",
    "\n",
    "    df_selected.index = pd.to_datetime(df_selected.index)\n",
    "\n",
    "    df_selected = df_selected.loc[\"01-10-1995\":\"30-09-2015\"]\n",
    "\n",
    "    # Format the date index to YYYYMMDD\n",
    "    df_selected.insert(0, \"date\", df_selected.index.strftime(\"%Y%m%d\"))\n",
    "\n",
    "    df_selected.columns = [\"Date\", \"P\", \"T\", \"Q\"]\n",
    "\n",
    "    # Save the formatted data to ptq_estreams.txt (tab-separated, no header)\n",
    "    df_selected.to_csv(txt_filename, sep=\"\\t\", header=True, index=False)\n",
    "\n",
    "    df_pet = data[\"pet_mean\"].copy()\n",
    "    df_pet.index = pd.to_datetime(df_pet.index)\n",
    "    df_pet = df_pet.loc[\"01-10-1995\":\"30-09-2015\"]\n",
    "    # Convert Series to DataFrame and rename column\n",
    "    df_pet = df_pet.to_frame(name=f\"basin.{basin_id}\")    \n",
    "    df_pet.to_csv(txt_filename_evap, sep=\"\\t\", header=True, index=False)\n",
    "\n",
    "\n",
    "    # Create a zip archive of the folder\n",
    "    with zipfile.ZipFile(zip_filename, \"w\", zipfile.ZIP_DEFLATED) as zipf:\n",
    "        for root, _, files in os.walk(output_folder):\n",
    "            for file in files:\n",
    "                file_path = os.path.join(root, file)\n",
    "                zipf.write(file_path, os.path.relpath(file_path, output_folder))\n",
    "\n",
    "    # Remove the uncompressed folder after zipping (optional)\n",
    "    shutil.rmtree(output_folder)\n",
    "\n",
    "    print(f\"Compressed folder '{zip_filename}' successfully created!\")\n",
    "\n",
    "\n",
    "\n",
    "\n",
    "df_selected"
   ]
  },
  {
   "cell_type": "markdown",
   "id": "3a46ceaa",
   "metadata": {},
   "source": [
    "# End"
   ]
  }
 ],
 "metadata": {
  "kernelspec": {
   "display_name": "estreams",
   "language": "python",
   "name": "python3"
  },
  "language_info": {
   "codemirror_mode": {
    "name": "ipython",
    "version": 3
   },
   "file_extension": ".py",
   "mimetype": "text/x-python",
   "name": "python",
   "nbconvert_exporter": "python",
   "pygments_lexer": "ipython3",
   "version": "3.9.18"
  }
 },
 "nbformat": 4,
 "nbformat_minor": 5
}
